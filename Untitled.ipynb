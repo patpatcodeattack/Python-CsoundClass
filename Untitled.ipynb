{
 "cells": [
  {
   "cell_type": "code",
   "execution_count": 1,
   "id": "41d95079-16ee-4b22-8f8e-c402033f40d5",
   "metadata": {},
   "outputs": [],
   "source": [
    "import pyo\n"
   ]
  },
  {
   "cell_type": "code",
   "execution_count": null,
   "id": "ffb87c15-e7b8-473b-8b3f-937f0f57554d",
   "metadata": {},
   "outputs": [],
   "source": [
    "pyo."
   ]
  }
 ],
 "metadata": {
  "kernelspec": {
   "display_name": "Python 3 (ipykernel)",
   "language": "python",
   "name": "python3"
  },
  "language_info": {
   "codemirror_mode": {
    "name": "ipython",
    "version": 3
   },
   "file_extension": ".py",
   "mimetype": "text/x-python",
   "name": "python",
   "nbconvert_exporter": "python",
   "pygments_lexer": "ipython3",
   "version": "3.10.11"
  }
 },
 "nbformat": 4,
 "nbformat_minor": 5
}
