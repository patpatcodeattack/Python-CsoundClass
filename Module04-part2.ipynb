{
 "cells": [
  {
   "cell_type": "markdown",
   "id": "03204fd9-d0ee-45d3-83d4-493b789a4544",
   "metadata": {},
   "source": [
    "# MODULE 04 - PYO - the Python DSP toolbox - PART 2\n",
    "\n",
    "### https://github.com/belangeo/pyo and https://belangeo.github.io/pyo/"
   ]
  },
  {
   "cell_type": "markdown",
   "id": "5e6ffcf2-f7b1-4af0-b04e-9b66cf9df2b4",
   "metadata": {},
   "source": [
    "# Soundfile playback"
   ]
  },
  {
   "cell_type": "markdown",
   "id": "d5b95af7-83fd-4ff4-8129-386ab9d1a6b0",
   "metadata": {},
   "source": [
    "SfPlayer and friends read samples from a file on disk with control over playback speed and looping mode.\n",
    "\n",
    "Player family:\n",
    "SfPlayer : Reads many soundfile formats from disk.\n",
    "\n",
    "SfMarkerLooper : AIFF with markers soundfile looper.\n",
    "\n",
    "SfMarkerShuffler : AIFF with markers soundfile shuffler.\n",
    "\n",
    "Reading sound file from disk can save a lot of RAM, especially if the soundfile is big, but it is more CPU expensive than loading the sound file in memory in a first pass."
   ]
  },
  {
   "cell_type": "markdown",
   "id": "70fe725a-7d9f-4016-acc2-876c7e395891",
   "metadata": {},
   "source": [
    "### Loading the file and catching the end-of-file signal from the SfPlayer object.\n",
    "This example demonstrates how to use the end-of-file signal of the SfPlayer object to trigger another playback (possibly with another sound, another speed, etc.).\n",
    "\n",
    "When a SfPlayer reaches the end of the file, it sends a trigger (more on trigger later) that the user can retrieve with the syntax :\n",
    "\n",
    "variable_name[“trig”]"
   ]
  },
  {
   "cell_type": "code",
   "execution_count": 1,
   "id": "745069f9-084d-43a4-a29d-f9898b7299cb",
   "metadata": {},
   "outputs": [
    {
     "name": "stdout",
     "output_type": "stream",
     "text": [
      "Pyo warning: Portaudio input device `MacBook Pro Microphone` has fewer channels (1) than requested (2).\n"
     ]
    }
   ],
   "source": [
    "try:\n",
    "    if s.getIsBooted():\n",
    "        pass\n",
    "except:\n",
    "    import pyo\n",
    "    s = pyo.Server().boot()\n",
    "    # s.amp = 0.5\n",
    "    s.start()"
   ]
  },
  {
   "cell_type": "code",
   "execution_count": 2,
   "id": "8f577cc6-600c-422a-b848-df3cc398784e",
   "metadata": {},
   "outputs": [],
   "source": [
    "import random\n",
    "\n",
    "# Sound bank\n",
    "folder = \"./snds/\"\n",
    "sounds = [\"struct0.wav\",\"struct1.wav\", \"struct2.wav\", \"struct3.wav\"]\n",
    "\n",
    "# Creates the left and right players\n",
    "sfL = pyo.SfPlayer(folder + sounds[0], speed=1, mul=0.5).out()\n",
    "sfR = pyo.SfPlayer(folder + sounds[0], speed=1, mul=0.5).out(1)\n",
    "\n",
    "# Function to choose a new sound and a new speed for the left player\n",
    "def newL():\n",
    "    sfL.path = folder + sounds[random.randint(0, 3)]\n",
    "    sfL.speed = random.uniform(0.75, 1.5)\n",
    "    sfL.out()\n",
    "# Function to choose a new sound and a new speed for the right player\n",
    "def newR():\n",
    "    sfR.path = folder + sounds[random.randint(0, 3)]\n",
    "    sfR.speed = random.uniform(0.75, 1.5)\n",
    "    sfR.out(1)\n",
    "\n",
    "# The \"end-of-file\" signal triggers the function \"newL\"\n",
    "tfL = pyo.TrigFunc(sfL[\"trig\"], newL)\n",
    "\n",
    "# The \"end-of-file\" signal triggers the function \"newR\"\n",
    "tfR = pyo.TrigFunc(sfR[\"trig\"], newR)"
   ]
  },
  {
   "cell_type": "code",
   "execution_count": 3,
   "id": "d580329f-32c0-497d-90f8-e1ec52b3945c",
   "metadata": {},
   "outputs": [
    {
     "data": {
      "text/plain": [
       "< Instance of SfPlayer class >"
      ]
     },
     "execution_count": 3,
     "metadata": {},
     "output_type": "execute_result"
    }
   ],
   "source": [
    "sfL.stop()\n",
    "sfR.stop()"
   ]
  },
  {
   "cell_type": "markdown",
   "id": "767be223-5819-438c-a535-36d97fe5e6f1",
   "metadata": {},
   "source": [
    "**NOTE** One can recover information about the soundfile with the pyo.sndinfo('filename') call. It returns a tuple containing ``(number of frames, duration in seconds, sampling rate,\n",
    "number of channels, file format, sample type)``"
   ]
  },
  {
   "cell_type": "code",
   "execution_count": 4,
   "id": "7e22bbd8-2ede-4db7-85bd-9183c0ad1a13",
   "metadata": {},
   "outputs": [
    {
     "data": {
      "text/plain": [
       "(176400, 4.0, 44100.0, 2, 'WAVE', '16 bit int')"
      ]
     },
     "execution_count": 4,
     "metadata": {},
     "output_type": "execute_result"
    }
   ],
   "source": [
    "pyo.sndinfo(folder+sounds[0])"
   ]
  },
  {
   "cell_type": "markdown",
   "id": "09d40d7a-0e55-4eec-a826-dc3f45e89371",
   "metadata": {},
   "source": [
    "### Soundfile playback from RAM.\n",
    "Reading a sound file from the RAM gives the advantage of a very fast access to every loaded samples. This is very useful for a lot of processes, such as granulation, looping, creating envelopes and waveforms and many others.\n",
    "\n",
    "The simplest way of loading a sound in RAM is to use the SndTable object. This example loads a sound file and reads it in loop. We will see some more evolved processes later, but this is a good introduction to ``Table`` objects in PYO."
   ]
  },
  {
   "cell_type": "code",
   "execution_count": 5,
   "id": "6be41196-4e87-42cd-8201-6317209f0af2",
   "metadata": {},
   "outputs": [],
   "source": [
    "path = folder+sounds[0]\n",
    "\n",
    "# Loads the sound file in RAM. Beginning and ending points\n",
    "# can be controlled with \"start\" and \"stop\" arguments.\n",
    "t = pyo.SndTable(path)\n",
    "\n",
    "# Gets the frequency relative to the table length.\n",
    "freq = t.getRate()\n",
    "\n",
    "# Simple stereo looping playback (right channel is 180 degrees out-of-phase).\n",
    "osc = pyo.Osc(table=t, freq=freq, phase=[0, 0.5], mul=0.4).out()"
   ]
  },
  {
   "cell_type": "code",
   "execution_count": 6,
   "id": "c05efd5c-f800-4b84-8184-99fd02dd8572",
   "metadata": {},
   "outputs": [
    {
     "data": {
      "text/plain": [
       "< Instance of Osc class >"
      ]
     },
     "execution_count": 6,
     "metadata": {},
     "output_type": "execute_result"
    }
   ],
   "source": [
    "osc.stop()"
   ]
  },
  {
   "cell_type": "markdown",
   "id": "382c08ce-8b98-42ab-81ab-4a1ee0c5cc0e",
   "metadata": {},
   "source": [
    "# Recording"
   ]
  },
  {
   "cell_type": "markdown",
   "id": "c626cf95-c2f0-4ae2-8879-29a7225a14f5",
   "metadata": {},
   "source": [
    "### Recording the performance on disk.\n",
    "The Server object allow the recording of the overall playback (that is exactly what your hear). The “Rec Start” button of the Server’s window is doing that with default parameters. It’ll record a file called “pyo_rec.wav” (16-bit, 44100 Hz) on the user’s desktop.\n",
    "\n",
    "You can control the recording with the Server’s method called recordOptions, the arguments are:\n",
    "\n",
    "- dur: The duration of the recording, a value of -1 means record forever (recstop() must be called by the user).\n",
    "\n",
    "- filename : Indicates the location of the recorded file.\n",
    "\n",
    "- fileformat: The format of the audio file (see documentation\n",
    "for available formats).\n",
    "\n",
    "- sampletype: The sample type of the audio file (see documentation\n",
    "for available types).\n",
    "\n",
    "The recording can be triggered programmatically with the Server’s methods recstart() and recstop(). In order to record multiple files from a unique performance, it is possible to set the filename with an argument to recstart()."
   ]
  },
  {
   "cell_type": "code",
   "execution_count": 7,
   "id": "3319a29a-51fd-4f6d-8f9e-a9afad051e95",
   "metadata": {},
   "outputs": [],
   "source": [
    "try:\n",
    "    if s.getIsBooted():\n",
    "        pass\n",
    "except:\n",
    "    import pyo\n",
    "    s = pyo.Server().boot()\n",
    "    s.amp = 0.5\n",
    "    s.start()"
   ]
  },
  {
   "cell_type": "code",
   "execution_count": 8,
   "id": "bdb57e53-6bb2-4588-b23d-fe465df8608b",
   "metadata": {},
   "outputs": [],
   "source": [
    "import os\n",
    "\n",
    "# Path of the recorded sound file.\n",
    "path = os.path.join(os.path.expanduser(\"~\"), \"Desktop\", \"synth.wav\")\n",
    "# Record for 10 seconds a 24-bit wav file.\n",
    "s.recordOptions(dur=10, filename=path, fileformat=0, sampletype=1)\n",
    "\n",
    "# Creates an amplitude envelope\n",
    "amp = pyo.Fader(fadein=1, fadeout=1, dur=10, mul=0.3).play()\n",
    "\n",
    "# A Simple synth\n",
    "lfo = pyo.Sine(freq=[0.15, 0.16]).range(1.25, 1.5)\n",
    "fm2 = pyo.CrossFM(carrier=200, ratio=lfo, ind1=10, ind2=2, mul=amp).out()\n",
    "\n",
    "# Starts the recording for 10 seconds...\n",
    "s.recstart()"
   ]
  },
  {
   "cell_type": "code",
   "execution_count": 9,
   "id": "b741a7a4-1b8c-4756-9caa-c4ba80dfa30a",
   "metadata": {},
   "outputs": [
    {
     "data": {
      "text/plain": [
       "< Instance of CrossFM class >"
      ]
     },
     "execution_count": 9,
     "metadata": {},
     "output_type": "execute_result"
    }
   ],
   "source": [
    "fm2.stop()"
   ]
  },
  {
   "cell_type": "markdown",
   "id": "6137c243-60fc-4ca9-bca5-cae238d4ee4e",
   "metadata": {},
   "source": [
    "### Recording individual audio streams on disk.\n",
    "The Record object can be used to record specific audio streams from a performance. It can be useful to record a sound in mutiple tracks to make post-processing on individual part easier. This example record the bass, the mid and the higher part in three separated files on the user’s desktop.\n",
    "\n",
    "The fileformat and sampletype arguments are the same as in the Server’s recordOptions method."
   ]
  },
  {
   "cell_type": "code",
   "execution_count": 2,
   "id": "1adcb322-a54c-40e9-8614-a4446cdca47c",
   "metadata": {},
   "outputs": [
    {
     "name": "stdout",
     "output_type": "stream",
     "text": [
      "Pyo warning: Portaudio input device `MacBook Pro Microphone` has fewer channels (1) than requested (2).\n"
     ]
    }
   ],
   "source": [
    "try:\n",
    "    if s.getIsBooted():\n",
    "        pass\n",
    "except:\n",
    "    import pyo\n",
    "    s = pyo.Server().boot()\n",
    "    s.amp = 0.5\n",
    "    s.start()"
   ]
  },
  {
   "cell_type": "code",
   "execution_count": 16,
   "id": "c058b252-0cf0-4280-a63e-92515794867b",
   "metadata": {},
   "outputs": [
    {
     "data": {
      "text/plain": [
       "<pyo.lib.server.Server at 0x1092b64d0>"
      ]
     },
     "execution_count": 16,
     "metadata": {},
     "output_type": "execute_result"
    },
    {
     "name": "stdout",
     "output_type": "stream",
     "text": [
      "Pyo error: savefileFromTable failed to open output file /Users/marco/Desktop.\n"
     ]
    }
   ],
   "source": [
    "# Defines sound file paths.\n",
    "path = os.path.join(os.path.expanduser(\"~\"), \"Desktop\")\n",
    "bname = os.path.join(path, \"bass.wav\")\n",
    "mname = os.path.join(path, \"mid.wav\")\n",
    "hname = os.path.join(path, \"high.wav\")\n",
    "\n",
    "# Creates an amplitude envelope\n",
    "amp = pyo.Fader(fadein=1, fadeout=1, dur=10, mul=0.3).play()\n",
    "\n",
    "# Bass voice\n",
    "blfo = pyo.Sine(freq=[0.15, 0.16]).range(78, 82)\n",
    "bass = pyo.RCOsc(freq=blfo, mul=amp).out()\n",
    "\n",
    "# Mid voice\n",
    "mlfo = pyo.Sine(freq=[0.18, 0.19]).range(0.24, 0.26)\n",
    "mid = pyo.FM(carrier=1600, ratio=mlfo, index=5, mul=amp * 0.3).out()\n",
    "\n",
    "# High voice\n",
    "hlfo = pyo.Sine(freq=[0.1, 0.11, 0.12, 0.13]).range(7000, 8000)\n",
    "high = pyo.Sine(freq=hlfo, mul=amp * 0.1).out()\n",
    "\n",
    "# Creates the recorders\n",
    "brec = pyo.Record(bass, filename=bname, chnls=2, fileformat=0, sampletype=1)\n",
    "mrec = pyo.Record(mid, filename=mname, chnls=2, fileformat=0, sampletype=1)\n",
    "hrec = pyo.Record(high, filename=hname, chnls=2, fileformat=0, sampletype=1)\n",
    "\n",
    "# After 10.1 seconds, recorder objects will be automatically deleted.\n",
    "# This will trigger their stop method and properly close the sound files.\n",
    "clean = pyo.Clean_objects(10.1, brec, mrec, hrec)\n",
    "\n",
    "# Starts the internal timer of Clean_objects. Use its own thread.\n",
    "clean.start()\n",
    "\n",
    "# Starts the Server, in order to be sync with the cleanup process.\n",
    "s.start()"
   ]
  },
  {
   "cell_type": "markdown",
   "id": "40ff6539-30b1-4d8d-956d-9d9f831c5b0d",
   "metadata": {},
   "source": [
    "### Recording live sound in RAM.\n",
    "By recording a stream of sound in RAM, one can quickly re-use the samples in the current process. A combination NewTable - TableRec is all what one need to record any stream in a table.\n",
    "\n",
    "The NewTable object has a feedback argument, allowing overdub.\n",
    "\n",
    "The TableRec object starts a new recording (records until the table is full) every time its method play() is called."
   ]
  },
  {
   "cell_type": "code",
   "execution_count": 1,
   "id": "2a14430f-8261-433a-a831-453fca723b68",
   "metadata": {},
   "outputs": [],
   "source": [
    "try:\n",
    "    if s.getIsBooted():\n",
    "        pass\n",
    "except:\n",
    "    import pyo\n",
    "    s = pyo.Server(nchnls=2,ichnls=1).boot()\n",
    "    s.amp = 0.5\n",
    "    s.start()"
   ]
  },
  {
   "cell_type": "code",
   "execution_count": 2,
   "id": "2406e88a-2baa-4a2f-a4c5-46d07667b491",
   "metadata": {},
   "outputs": [],
   "source": [
    "import os\n",
    "\n",
    "# Path of the recorded sound file.\n",
    "path = os.path.join(os.path.expanduser(\"~\"), \"Desktop\", \"synth.wav\")\n",
    "\n",
    "# Creates a two seconds stereo empty table. The \"feedback\" argument\n",
    "# is the amount of old data to mix with a new recording (overdub).\n",
    "t = pyo.NewTable(length=2, chnls=2, feedback=0.5)\n",
    "\n",
    "# Retrieves the mono input\n",
    "inp = pyo.Input([0])\n",
    "\n",
    "# Table recorder. Call rec.play() to start a recording, it stops\n",
    "# when the table is full. Call it multiple times to overdub.\n",
    "rec = pyo.TableRec(inp, table=t, fadetime=0.05).play()\n",
    "\n",
    "# Reads the content of the table in loop.\n",
    "osc = pyo.Osc(table=t, freq=t.getRate(), mul=0.5).out()\n",
    "\n",
    "\n",
    "def saveToDisk():\n",
    "    pyo.savefileFromTable(table=t, path=path, fileformat=0, sampletype=3)\n",
    "\n",
    "\n",
    "# After two seconds, the table content is saved to a file on disk.\n",
    "sv = pyo.CallAfter(saveToDisk, time=2).play()"
   ]
  },
  {
   "cell_type": "code",
   "execution_count": 3,
   "id": "3fcac95b-32ae-42ed-b4d9-5dbf5ef7dd06",
   "metadata": {},
   "outputs": [
    {
     "data": {
      "text/plain": [
       "< Instance of Osc class >"
      ]
     },
     "execution_count": 3,
     "metadata": {},
     "output_type": "execute_result"
    }
   ],
   "source": [
    "inp.stop()\n",
    "rec.stop()\n",
    "osc.stop()"
   ]
  },
  {
   "cell_type": "markdown",
   "id": "5f90036c-46c5-4638-bf2e-0f81bf2a3f11",
   "metadata": {},
   "source": [
    "# Envelopes"
   ]
  },
  {
   "cell_type": "markdown",
   "id": "d0629e58-5b05-4e7c-9c72-6671fe700391",
   "metadata": {},
   "source": [
    "### Conversion from number to audio stream.\n",
    "The Stream object is a new type introduced by pyo to represent an audio signal as a vector of floats. It is sometimes useful to be able to convert simple numbers (python’s floats or integers) to audio signal or to extract numbers from an audio stream.\n",
    "\n",
    "The Sig object converts a number to an audio stream.\n",
    "\n",
    "The PyoObject.get() method extracts a float from an audio stream."
   ]
  },
  {
   "cell_type": "code",
   "execution_count": 4,
   "id": "c549ed06-2a07-4bfa-9fcc-06b7bfafe440",
   "metadata": {},
   "outputs": [],
   "source": [
    "try:\n",
    "    if s.getIsBooted():\n",
    "        pass\n",
    "except:\n",
    "    import pyo\n",
    "    s = pyo.Server(nchnls=2,ichnls=1).boot()\n",
    "    s.amp = 0.5\n",
    "    s.start()"
   ]
  },
  {
   "cell_type": "code",
   "execution_count": 5,
   "id": "49c6c9a6-6d85-4bfd-94c3-787cbf22b7c7",
   "metadata": {},
   "outputs": [
    {
     "name": "stdout",
     "output_type": "stream",
     "text": [
      "Float from audio stream :  100.0\n",
      "Audio stream value : 100.000000\n",
      "Audio stream value : 100.000000\n",
      "Audio stream value : 100.000000\n",
      "Audio stream value : 100.000000\n",
      "Audio stream value : 100.000000\n",
      "Audio stream value : 100.000000\n",
      "Audio stream value : 100.000000\n",
      "Audio stream value : 100.000000\n",
      "Audio stream value : 100.000000\n",
      "Audio stream value : 100.000000\n"
     ]
    },
    {
     "data": {
      "text/plain": [
       "< Instance of Print class >"
      ]
     },
     "execution_count": 5,
     "metadata": {},
     "output_type": "execute_result"
    }
   ],
   "source": [
    "   \n",
    "import time \n",
    "# A python integer (or float).\n",
    "anumber = 100\n",
    "\n",
    "# Conversion from number to an audio stream (vector of floats).\n",
    "astream = pyo.Sig(anumber)\n",
    "\n",
    "# Use a Print (capital \"P\") object to print an audio stream.\n",
    "pp = pyo.Print(astream, interval=0.1, message=\"Audio stream value\")\n",
    "\n",
    "# Use the get() method to extract a float from an audio stream.\n",
    "print(\"Float from audio stream : \", astream.get())\n",
    "time.sleep(1)\n",
    "pp.stop()"
   ]
  },
  {
   "cell_type": "markdown",
   "id": "4b0783b9-7b83-4ef8-9947-beb9b70b4381",
   "metadata": {},
   "source": [
    "### Portamento, glissando, ramping.\n",
    "The SigTo object allows to create audio glissando between the current value and the target value, within a user-defined time. The target value can be a float or another PyoObject. A new ramp is created everytime the target value changes.\n",
    "\n",
    "Also:\n",
    "\n",
    "The VarPort object acts similarly but works only with float and can call a user-defined callback when the ramp reaches the target value.\n",
    "\n",
    "The PyoObject.set() method is another way create a ramp for any given parameter that accept audio signal but is not already controlled with a PyoObject."
   ]
  },
  {
   "cell_type": "code",
   "execution_count": null,
   "id": "9931f896-fde8-4689-a984-75133f086d94",
   "metadata": {},
   "outputs": [],
   "source": [
    "try:\n",
    "    if s.getIsBooted():\n",
    "        pass\n",
    "except:\n",
    "    import pyo\n",
    "    s = pyo.Server(nchnls=2,ichnls=1).boot()\n",
    "    s.amp = 0.5\n",
    "    s.start()"
   ]
  },
  {
   "cell_type": "code",
   "execution_count": null,
   "id": "2a37fbe1-6a77-4cd1-9a6a-e886fe26905b",
   "metadata": {},
   "outputs": [],
   "source": [
    "    \n",
    "# 2 seconds linear ramp starting at 0.0 and ending at 0.3.\n",
    "amp = pyo.SigTo(value=0.3, time=2.0, init=0.0)\n",
    "\n",
    "# Pick a new value four times per second.\n",
    "pick = pyo.Choice([200, 250, 300, 350, 400], freq=4)\n",
    "\n",
    "# Print the chosen frequency\n",
    "pnt = False\n",
    "if pnt:\n",
    "    pp = pyo.Print(pick, method=1, message=\"Frequency\")\n",
    "\n",
    "# Add a little portamento on an audio target and detune a second frequency.\n",
    "freq = pyo.SigTo(pick, time=0.01, mul=[1, 1.005])\n",
    "# Play with portamento time.\n",
    "freq.ctrl([pyo.SLMap(0, 0.25, \"lin\", \"time\", 0.01, dataOnly=True)])\n",
    "\n",
    "# Play a simple wave.\n",
    "sig = pyo.RCOsc(freq, sharp=0.7, mul=amp).out()\n",
    "\n",
    "s.gui(locals())"
   ]
  },
  {
   "cell_type": "markdown",
   "id": "469973eb-c661-4381-844d-ffe90158544e",
   "metadata": {},
   "source": [
    "### Exponential portamento with rising and falling times.\n",
    "The Port object is designed to lowpass filter an audio signal with different coefficients for rising and falling signals. A lowpass filter is a good and efficient way of creating an exponential ramp from a signal containing abrupt changes. The rising and falling coefficients are controlled in seconds."
   ]
  },
  {
   "cell_type": "code",
   "execution_count": 1,
   "id": "4f40901a-91f4-46ca-8bd8-baf050ac68cb",
   "metadata": {},
   "outputs": [],
   "source": [
    "try:\n",
    "    if s.getIsBooted():\n",
    "        pass\n",
    "except:\n",
    "    import pyo\n",
    "    s = pyo.Server(nchnls=2,ichnls=1).boot()\n",
    "    s.amp = 0.5\n",
    "    s.start()"
   ]
  },
  {
   "cell_type": "code",
   "execution_count": null,
   "id": "a2fee395-9efd-4c72-b647-0a539b1ff212",
   "metadata": {},
   "outputs": [],
   "source": [
    "    \n",
    "# 2 seconds linear ramp starting at 0.0 and ending at 0.3.\n",
    "amp = pyo.SigTo(value=0.3, time=2.0, init=0.0)\n",
    "\n",
    "# Pick a new value four times per second.\n",
    "pick = pyo.Choice([200, 250, 300, 350, 400], freq=4)\n",
    "\n",
    "# Print the chosen frequency\n",
    "pnt = False\n",
    "if pnt:\n",
    "    pp = pyo.Print(pick, method=1, message=\"Frequency\")\n",
    "\n",
    "# Add an exponential portamento on an audio target and detune a second frequency.\n",
    "# Sharp attack for rising notes and long release for falling notes.\n",
    "freq = pyo.Port(pick, risetime=0.001, falltime=0.25, mul=[1, 1.005])\n",
    "# Play with portamento times.\n",
    "freq.ctrl()\n",
    "\n",
    "# Play a simple wave.\n",
    "sig = pyo.RCOsc(freq, sharp=0.7, mul=amp).out()\n",
    "\n",
    "s.gui(locals())"
   ]
  },
  {
   "cell_type": "markdown",
   "id": "0ace2cbd-1c63-4615-b877-c685bd56f4bc",
   "metadata": {},
   "source": [
    "### ASR and ADSR envelopes.\n",
    "The Fader object is a simple way to setup an Attack/Sustain/Release envelope. This envelope allows to apply fadein and fadeout on audio streams.\n",
    "\n",
    "If the dur argument of the Fader object is set to 0 (the default), the object waits for a stop() command before activating the release part of the envelope. Otherwise, the sum of fadein and fadeout must be less than or egal to dur and the envelope runs to the end on a play() command.\n",
    "\n",
    "The Adsr object (Attack/Decay/Sustain/Release) acts exactly like the Fader object, with a more flexible (and so common) kind of envelope."
   ]
  },
  {
   "cell_type": "code",
   "execution_count": 1,
   "id": "0cbde945-fe8a-45ec-aaea-019ac3fbcf1b",
   "metadata": {},
   "outputs": [],
   "source": [
    "try:\n",
    "    if s.getIsBooted():\n",
    "        pass\n",
    "except:\n",
    "    import pyo\n",
    "    s = pyo.Server(nchnls=2,ichnls=1).boot()\n",
    "    s.amp = 0.5\n",
    "    s.start()"
   ]
  },
  {
   "cell_type": "code",
   "execution_count": null,
   "id": "0c17947d-a5b8-49ed-8de0-d3c966c2882d",
   "metadata": {},
   "outputs": [],
   "source": [
    "import random\n",
    "\n",
    "# Infinite sustain for the global envelope.\n",
    "globalamp = pyo.Fader(fadein=2, fadeout=2, dur=0).play()\n",
    "\n",
    "# Envelope for discrete events, sharp attack, long release.\n",
    "env = pyo.Adsr(attack=0.01, decay=0.1, sustain=0.5, release=1.5, dur=2, mul=0.5)\n",
    "# setExp method can be used to create exponential or logarithmic envelope.\n",
    "env.setExp(0.75)\n",
    "\n",
    "# Initialize  a simple wave player and apply both envelopes.\n",
    "sig = pyo.SuperSaw(freq=[100, 101], detune=0.6, bal=0.8, mul=globalamp * env).out()\n",
    "\n",
    "\n",
    "def play_note():\n",
    "    \"Play a new note with random frequency and jitterized envelope.\"\n",
    "    freq = random.choice(pyo.midiToHz([36, 38, 41, 43, 45]))\n",
    "    sig.freq = [freq, freq * 1.005]\n",
    "    env.attack = random.uniform(0.002, 0.01)\n",
    "    env.decay = random.uniform(0.1, 0.5)\n",
    "    env.sustain = random.uniform(0.3, 0.6)\n",
    "    env.release = random.uniform(0.8, 1.4)\n",
    "    # Start the envelope for the event.\n",
    "    env.play()\n",
    "\n",
    "\n",
    "# Periodically call a function.\n",
    "pat = pyo.Pattern(play_note, time=2).play()\n",
    "\n",
    "s.gui(locals())"
   ]
  },
  {
   "cell_type": "markdown",
   "id": "b5bed39a-8f35-4380-aac1-79e5300c1c86",
   "metadata": {},
   "source": [
    "### Multi-segments envelopes.\n",
    "Linseg and Expseg objects draw a series of line segments between specified break-points, either linear or exponential.\n",
    "\n",
    "These objects wait for play() call to start reading the envelope.\n",
    "\n",
    "They have methods to set loop mode, call pause/play without reset, and replace the breakpoints.\n",
    "\n",
    "One can use the graph() method to open a graphical display of the current envelope, edit it, and copy the points (in the list format) to the clipboard (Menu “File” of the graph display => “Copy all Points …”). This makes it easier to explore and paste the result into the python script when happy with the envelope!"
   ]
  },
  {
   "cell_type": "code",
   "execution_count": 2,
   "id": "e1db15bb-6b26-41d9-807a-a52a11e0b117",
   "metadata": {},
   "outputs": [],
   "source": [
    "try:\n",
    "    if s.getIsBooted():\n",
    "        pass\n",
    "except:\n",
    "    import pyo\n",
    "    s = pyo.Server(nchnls=2,ichnls=1).boot()\n",
    "    s.amp = 0.5\n",
    "    s.start()"
   ]
  },
  {
   "cell_type": "code",
   "execution_count": null,
   "id": "e3507aa5-c498-42e8-b062-b3528957e518",
   "metadata": {},
   "outputs": [],
   "source": [
    "import random\n",
    "\n",
    "# Randomly built 10-points amplitude envelope.\n",
    "t = 0\n",
    "points = [(0.0, 0.0), (2.0, 0.0)]\n",
    "for i in range(8):\n",
    "    t += random.uniform(0.1, 0.2)\n",
    "    v = random.uniform(0.1, 0.9)\n",
    "    points.insert(-1, (t, v))\n",
    "\n",
    "amp = pyo.Expseg(points, exp=3, mul=0.3)\n",
    "amp.graph(title=\"Amplitude envelope\")\n",
    "\n",
    "sig = pyo.RCOsc(freq=[150, 151], sharp=0.85, mul=amp)\n",
    "\n",
    "# A simple linear function to vary the amount of frequency shifting.\n",
    "sft = pyo.Linseg([(0.0, 0.0), (0.5, 20.0), (2, 0.0)])\n",
    "sft.graph(yrange=(0.0, 20.0), title=\"Frequency shift\")\n",
    "\n",
    "fsg = pyo.FreqShift(sig, shift=sft).out()\n",
    "\n",
    "rev = pyo.WGVerb(sig + fsg, feedback=0.9, cutoff=3500, bal=0.3).out()\n",
    "\n",
    "\n",
    "def playnote():\n",
    "    \"Start the envelopes to play an event.\"\n",
    "    amp.play()\n",
    "    sft.play()\n",
    "\n",
    "\n",
    "# Periodically call a function.\n",
    "pat = pyo.Pattern(playnote, 2).play()\n",
    "\n",
    "s.gui(locals())"
   ]
  },
  {
   "cell_type": "markdown",
   "id": "ff7aebce-7f34-45bd-b715-524617a18e1f",
   "metadata": {},
   "source": [
    "**NOTE** PYO graphs are interactive!!!"
   ]
  },
  {
   "cell_type": "markdown",
   "id": "b9aae3d3-0052-4b29-abc5-abf40ef0d5eb",
   "metadata": {},
   "source": [
    "# Filters"
   ]
  },
  {
   "cell_type": "markdown",
   "id": "f149f10e-cae8-4992-adcf-6166d9162f5e",
   "metadata": {
    "tags": []
   },
   "source": [
    "### Lowpass filters\n",
    "\n",
    "For this first example about filtering, we compare the frequency spectrum of three common lowpass filters.\n",
    "\n",
    "- Tone : IIR first-order lowpass\n",
    "- ButLP : IIR second-order lowpass (Butterworth)\n",
    "- MoogLP : IIR fourth-order lowpass (+ resonance as an extra parameter)\n",
    "\n",
    "Complementary highpass filters for the Tone and ButLP objects are Atone and ButHP. Another common highpass filter is the DCBlock object, which can be used to remove DC component from an audio signal."
   ]
  },
  {
   "cell_type": "code",
   "execution_count": 1,
   "id": "bae88810-cbf6-4f6d-bf12-323014604cfe",
   "metadata": {},
   "outputs": [],
   "source": [
    "try:\n",
    "    if s.getIsBooted():\n",
    "        pass\n",
    "except:\n",
    "    import pyo\n",
    "    s = pyo.Server(nchnls=2,ichnls=1).boot()\n",
    "    s.amp = 0.5\n",
    "    s.start()"
   ]
  },
  {
   "cell_type": "code",
   "execution_count": null,
   "id": "a62ece04-f4fd-48cd-8150-2c9a4663ef47",
   "metadata": {},
   "outputs": [],
   "source": [
    "# White noise generator\n",
    "n = pyo.Noise(0.5).mix(2)\n",
    "\n",
    "# Common cutoff frequency control\n",
    "freq = pyo.Sig(1000)\n",
    "freq.ctrl([pyo.SLMap(50, 5000, \"lin\", \"value\", 1000)], title=\"Cutoff Frequency\")\n",
    "\n",
    "# Three different lowpass filters\n",
    "tone = pyo.Tone(n, freq)\n",
    "butlp = pyo.ButLP(n, freq)\n",
    "mooglp = pyo.MoogLP(n, freq)\n",
    "\n",
    "# Interpolates between input objects to produce a single output\n",
    "sel = pyo.Selector([tone, butlp, mooglp]).out()\n",
    "sel.ctrl(title=\"Filter selector (0=Tone, 1=ButLP, 2=MoogLP)\")\n",
    "\n",
    "# Displays the spectrum contents of the chosen source\n",
    "sp = pyo.Spectrum(sel)\n",
    "\n",
    "s.gui(locals())"
   ]
  },
  {
   "cell_type": "markdown",
   "id": "10614321-d9f2-4b20-ae3c-2ef41132cfd0",
   "metadata": {},
   "source": [
    "### Bandpass\n",
    "\n",
    "This example illustrates the difference between a simple IIR second-order bandpass filter and a cascade of second-order bandpass filters. A cascade of four bandpass filters with a high Q (Q is a measure of the spread of the filtered signal) can be used as a efficient resonator on the signal.\n",
    "\n"
   ]
  },
  {
   "cell_type": "code",
   "execution_count": 1,
   "id": "d288b5ef-2012-4511-b6b5-26cbc78e27f1",
   "metadata": {
    "tags": []
   },
   "outputs": [],
   "source": [
    "try:\n",
    "    if s.getIsBooted():\n",
    "        pass\n",
    "except:\n",
    "    import pyo\n",
    "    s = pyo.Server(nchnls=2,ichnls=1).boot()\n",
    "    s.amp = 0.5\n",
    "    s.start()"
   ]
  },
  {
   "cell_type": "code",
   "execution_count": null,
   "id": "bdef8ff1-b4ee-475d-9d7e-71810b226d62",
   "metadata": {
    "tags": []
   },
   "outputs": [],
   "source": [
    "# White noise generator\n",
    "n = pyo.Noise(0.5).mix(2)\n",
    "\n",
    "# Common cutoff frequency control\n",
    "freq = pyo.Sig(1000)\n",
    "freq.ctrl([pyo.SLMap(50, 5000, \"lin\", \"value\", 1000)], title=\"Cutoff Frequency\")\n",
    "\n",
    "# Common filter's Q control\n",
    "q = pyo.Sig(5)\n",
    "q.ctrl([pyo.SLMap(0.7, 20, \"log\", \"value\", 5)], title=\"Filter's Q\")\n",
    "\n",
    "# Second-order bandpass filter\n",
    "bp1 = pyo.Reson(n, freq, q=q)\n",
    "# Cascade of second-order bandpass filters\n",
    "bp2 = pyo.Resonx(n, freq, q=q, stages=4)\n",
    "\n",
    "# Interpolates between input objects to produce a single output\n",
    "sel = pyo.Selector([bp1, bp2]).out()\n",
    "sel.ctrl(title=\"Filter selector (0=Reson, 1=Resonx)\")\n",
    "\n",
    "# Displays the spectrum contents of the chosen source\n",
    "sp = pyo.Spectrum(sel)\n",
    "\n",
    "s.gui(locals())"
   ]
  },
  {
   "cell_type": "markdown",
   "id": "8b1d254d-e3da-4925-ace9-6687aa48adcd",
   "metadata": {},
   "source": [
    "### Complex multiplication.\n",
    "ComplexRes implements a resonator derived from a complex multiplication, which is very similar to a digital filter.\n",
    "\n",
    "It is used here to create a rhythmic chime with varying resonance."
   ]
  },
  {
   "cell_type": "code",
   "execution_count": 1,
   "id": "b3083ad1-b51d-441e-a177-2b84d45236e1",
   "metadata": {},
   "outputs": [],
   "source": [
    "try:\n",
    "    if s.getIsBooted():\n",
    "        pass\n",
    "except:\n",
    "    import pyo\n",
    "    s = pyo.Server(nchnls=2,ichnls=1).boot()\n",
    "    s.amp = 0.5\n",
    "    s.start()"
   ]
  },
  {
   "cell_type": "code",
   "execution_count": null,
   "id": "4ea4bd61-fd7a-4e6f-94f7-1bb6edda2aae",
   "metadata": {},
   "outputs": [],
   "source": [
    "import random\n",
    "\n",
    "# Six random frequencies.\n",
    "freqs = [random.uniform(1000, 3000) for i in range(6)]\n",
    "\n",
    "# Six different plucking speeds.\n",
    "pluck = pyo.Metro([0.9, 0.8, 0.6, 0.4, 0.3, 0.2]).play()\n",
    "\n",
    "# LFO applied to the decay of the resonator.\n",
    "decay = pyo.Sine(0.1).range(0.01, 0.15)\n",
    "\n",
    "# Six ComplexRes filters.\n",
    "rezos = pyo.ComplexRes(pluck, freqs, decay, mul=5).out()\n",
    "\n",
    "# Change chime frequencies every 7.2 seconds\n",
    "def new():\n",
    "    freqs = [random.uniform(1000, 3000) for i in range(6)]\n",
    "    rezos.freq = freqs\n",
    "\n",
    "pat = pyo.Pattern(new, 7.2).play()\n",
    "\n",
    "s.gui(locals())"
   ]
  },
  {
   "cell_type": "markdown",
   "id": "670df244-d4a7-4e78-ad3a-002c530dfb39",
   "metadata": {},
   "source": [
    "### Phaser\n",
    "The Phaser object implements a variable number of second-order allpass filters, allowing to quickly build complex phasing effects.\n",
    "\n",
    "A phaser is an electronic sound processor used to filter a signal by creating a series of peaks and troughs in the frequency spectrum. The position of the peaks and troughs of the waveform being affected is typically modulated so that they vary over time, creating a sweeping effect. For this purpose, phasers usually include a low-frequency oscillator. - https://en.wikipedia.org/wiki/Phaser_(effect)\n",
    "\n",
    "A phase shifter unit can be built from scratch with the Allpass2 object, which implement a second-order allpass filter that create, when added to the original source, one notch in the spectrum."
   ]
  },
  {
   "cell_type": "code",
   "execution_count": null,
   "id": "c20c9cac-72a6-4cef-9c49-cf70b5104731",
   "metadata": {},
   "outputs": [],
   "source": [
    "try:\n",
    "    if s.getIsBooted():\n",
    "        pass\n",
    "except:\n",
    "    import pyo\n",
    "    s = pyo.Server(nchnls=2,ichnls=1).boot()\n",
    "    s.amp = 0.5\n",
    "    s.start()"
   ]
  },
  {
   "cell_type": "code",
   "execution_count": 3,
   "id": "3ead6334-e9a2-415c-b0aa-7c366c8686da",
   "metadata": {},
   "outputs": [],
   "source": [
    "# Simple fadein.\n",
    "fade = pyo.Fader(fadein=0.5, mul=0.2).play()\n",
    "\n",
    "# Noisy source.\n",
    "a = pyo.PinkNoise(fade)\n",
    "\n",
    "# These LFOs modulate the `freq`, `spread` and `q` arguments of\n",
    "# the Phaser object. We give a list of two frequencies in order\n",
    "# to create two-streams LFOs, therefore a stereo phasing effect.\n",
    "lf1 = pyo.Sine(freq=[0.1, 0.15], mul=100, add=250)\n",
    "lf2 = pyo.Sine(freq=[0.18, 0.13], mul=0.4, add=1.5)\n",
    "lf3 = pyo.Sine(freq=[0.07, 0.09], mul=5, add=6)\n",
    "\n",
    "# Apply the phasing effect with 20 notches.\n",
    "b = pyo.Phaser(a, freq=lf1, spread=lf2, q=lf3, num=20, mul=0.5).out()"
   ]
  },
  {
   "cell_type": "code",
   "execution_count": 4,
   "id": "a1819f90-e658-42ae-8361-a35064cc6b17",
   "metadata": {},
   "outputs": [
    {
     "data": {
      "text/plain": [
       "< Instance of Phaser class >"
      ]
     },
     "execution_count": 4,
     "metadata": {},
     "output_type": "execute_result"
    }
   ],
   "source": [
    "b.stop()"
   ]
  },
  {
   "cell_type": "markdown",
   "id": "9b0f25df-4583-44d6-b475-f94af6c88169",
   "metadata": {},
   "source": [
    "### Convolution.\n",
    "A circular convolution is defined as the integral of the product of two functions after one is reversed and shifted.\n",
    "\n",
    "Circular convolution allows to implement very complex FIR filters, at a CPU cost that is related to the filter impulse response (kernel) length.\n",
    "\n",
    "Within pyo, there is a family of IR* filter objects using circular convolution with predefined kernel:\n",
    "\n",
    "- IRAverage : moving average filter\n",
    "- IRFM : FM-like filter\n",
    "- IRPulse : comb-like filter\n",
    "- RWinSinc : break wall filters (lp, hp, hp, br)\n",
    "\n",
    "For general circular convolution, use the Convolve object with a PyoTableObject as the kernel, as in this example:\n",
    "\n",
    "A white noise is filtered by four impulses taken from the input mic.\n",
    "\n",
    "Call r1.play(), r2.play(), r3.play() or r4.play() in the Interpreter field while making some noise in the mic to fill the impulse response tables. The slider handles the morphing between the four kernels.\n",
    "\n",
    "Call t1.view(), t2.view(), t3.view() or t4.view() to view impulse response tables.\n",
    "\n",
    "Because circular convolution is very expensive, TLEN (in samples) should be keep small.\n",
    "\n"
   ]
  },
  {
   "cell_type": "code",
   "execution_count": 2,
   "id": "6cdd7fb8-61e5-44a1-8a50-ec9bb6d4a54a",
   "metadata": {},
   "outputs": [],
   "source": [
    "try:\n",
    "    if s.getIsBooted():\n",
    "        pass\n",
    "except:\n",
    "    import pyo\n",
    "    s = pyo.Server(nchnls=2,ichnls=1).boot()\n",
    "    s.amp = 0.5\n",
    "    s.setInputDevice(2)\n",
    "    s.start()"
   ]
  },
  {
   "cell_type": "code",
   "execution_count": null,
   "id": "ed9f6a27-50e8-4c37-8af1-8a9ab990b69a",
   "metadata": {},
   "outputs": [],
   "source": [
    "# Length of the impulse response in samples.\n",
    "TLEN = 512\n",
    "\n",
    "# Conversion to seconds for NewTable objects.\n",
    "DUR = pyo.sampsToSec(TLEN)\n",
    "\n",
    "# Excitation signal for the filters.\n",
    "sf = pyo.Noise(0.5).play()\n",
    "\n",
    "# Signal from the mic to record the kernels.\n",
    "inmic = pyo.Input()\n",
    "\n",
    "# Four tables and recorders.\n",
    "t1 = pyo.NewTable(length=DUR, chnls=1)\n",
    "r1 = pyo.TableRec(inmic, table=t1, fadetime=0.001).play()\n",
    "\n",
    "t2 = pyo.NewTable(length=DUR, chnls=1)\n",
    "r2 = pyo.TableRec(inmic, table=t2, fadetime=0.001).play()\n",
    "\n",
    "t3 = pyo.NewTable(length=DUR, chnls=1)\n",
    "r3 = pyo.TableRec(inmic, table=t3, fadetime=0.001).play()\n",
    "\n",
    "t4 = pyo.NewTable(length=DUR, chnls=1)\n",
    "r4 = pyo.TableRec(inmic, table=t4, fadetime=0.001).play()\n",
    "\n",
    "# Interpolation control between the tables.\n",
    "pha = pyo.Sig(0)\n",
    "pha.ctrl(title=\"Impulse responses morphing\")\n",
    "\n",
    "# Morphing between the four impulse responses.\n",
    "res = pyo.NewTable(length=DUR, chnls=1)\n",
    "morp = pyo.TableMorph(pha, res, [t1, t2, t3, t4])\n",
    "\n",
    "# Circular convolution between the excitation and the morphed kernel.\n",
    "a = pyo.Convolve(sf, table=res, size=res.getSize(), mul=0.1).mix(2).out()\n",
    "\n",
    "s.gui(locals())"
   ]
  },
  {
   "cell_type": "markdown",
   "id": "f41b37d0-61ec-4583-8288-e671e023f3c8",
   "metadata": {},
   "source": [
    "### Vocoder\n",
    "\n",
    "A vocoder is an analysis/resynthesis process that uses the spectral envelope of a first sound to shape the spectrum of a second sound. Usually (for the best results) the first sound should present a dynamic spectrum (for both frequencies and amplitudes) and the second sound should contain a rich and stable spectrum.\n",
    "\n",
    "In this example, LFOs are applied to every dynamic argument of the Vocoder object to show the range of sound effects the user can get with a vocoder."
   ]
  },
  {
   "cell_type": "code",
   "execution_count": 1,
   "id": "1c895819-597e-49f6-8aca-ab1e6ab9be60",
   "metadata": {},
   "outputs": [],
   "source": [
    "try:\n",
    "    if s.getIsBooted():\n",
    "        pass\n",
    "except:\n",
    "    import pyo\n",
    "    s = pyo.Server(nchnls=2,ichnls=1).boot()\n",
    "    s.amp = 0.5\n",
    "    s.start()"
   ]
  },
  {
   "cell_type": "code",
   "execution_count": 2,
   "id": "babeec88-40c3-44be-92b8-15af23024b7e",
   "metadata": {},
   "outputs": [],
   "source": [
    "from random import random\n",
    "\n",
    "# First sound - dynamic spectrum.\n",
    "spktrm = pyo.SfPlayer(\"./snds/struct3.wav\", speed=[1, 1.001], loop=True)\n",
    "\n",
    "# Second sound - rich and stable spectrum.\n",
    "excite = pyo.Noise(0.2)\n",
    "\n",
    "# LFOs to modulate every parameters of the Vocoder object.\n",
    "lf1 = pyo.Sine(freq=0.1, phase=random()).range(60, 100)\n",
    "lf2 = pyo.Sine(freq=0.11, phase=random()).range(1.05, 1.5)\n",
    "lf3 = pyo.Sine(freq=0.07, phase=random()).range(1, 20)\n",
    "lf4 = pyo.Sine(freq=0.06, phase=random()).range(0.01, 0.99)\n",
    "\n",
    "voc = pyo.Vocoder(spktrm, excite, freq=lf1, spread=lf2, q=lf3, slope=lf4, stages=32).out()"
   ]
  },
  {
   "cell_type": "code",
   "execution_count": 3,
   "id": "1bd691d1-750f-4f61-a6d8-82f557565903",
   "metadata": {},
   "outputs": [
    {
     "data": {
      "text/plain": [
       "< Instance of Vocoder class >"
      ]
     },
     "execution_count": 3,
     "metadata": {},
     "output_type": "execute_result"
    }
   ],
   "source": [
    "voc.stop()"
   ]
  },
  {
   "cell_type": "markdown",
   "id": "f5f9ae09-9607-4c97-941b-524b4a33aa19",
   "metadata": {},
   "source": [
    "# Exercise\n",
    "\n",
    "- using the PyObjects we have encountered so far, implement a convolution reverb and the Freeverb algorithm we have introduced in Module03. We will later see how we can introduce a new PyObject from those."
   ]
  },
  {
   "cell_type": "markdown",
   "id": "1372fd0e-68e0-4b3d-9583-599484c37623",
   "metadata": {},
   "source": [
    "# Effects"
   ]
  },
  {
   "cell_type": "markdown",
   "id": "f7de6ca2-b48d-4cec-b064-ff5c607e4898",
   "metadata": {},
   "source": [
    "### Flanger\n",
    "A flanger is an audio effect produced by mixing two identical signals together, one signal delayed by a small and gradually changing period. This produces a swept comb filter effect: peaks and notches are produced in the resulting frequency spectrum, related to each other in a linear harmonic series. Varying the time delay causes these to sweep up and down the frequency spectrum."
   ]
  },
  {
   "cell_type": "code",
   "execution_count": null,
   "id": "f209e564-41ab-4f4a-9a55-44a962409775",
   "metadata": {},
   "outputs": [],
   "source": [
    "try:\n",
    "    if s.getIsBooted():\n",
    "        pass\n",
    "except:\n",
    "    import pyo\n",
    "    s = pyo.Server(nchnls=2,ichnls=1).boot()\n",
    "    s.amp = 0.5\n",
    "    s.start()"
   ]
  },
  {
   "cell_type": "code",
   "execution_count": null,
   "id": "98173128-654d-409b-924d-7a2a9c5a337a",
   "metadata": {},
   "outputs": [],
   "source": [
    "# Rich frequency spectrum as stereo input source.\n",
    "amp = pyo.Fader(fadein=0.25, mul=0.5).play()\n",
    "src = pyo.PinkNoise(amp).mix(2)\n",
    "\n",
    "# Flanger parameters\n",
    "middelay = 0.005  # seconds\n",
    "\n",
    "depth = pyo.Sig(0.99)  # 0 --> 1\n",
    "depth.ctrl(title=\"Modulation Depth\")\n",
    "lfospeed = pyo.Sig(0.2)  # Hertz\n",
    "lfospeed.ctrl(title=\"LFO Frequency in Hz\")\n",
    "feedback = pyo.Sig(0.5, mul=0.95)  # 0 --> 1\n",
    "feedback.ctrl(title=\"Feedback\")\n",
    "\n",
    "# LFO with adjusted output range to control the delay time in seconds.\n",
    "lfo = pyo.Sine(freq=lfospeed, mul=middelay * depth, add=middelay)\n",
    "\n",
    "# Dynamically delayed signal. The source passes through a DCBlock\n",
    "# to ensure there is no DC offset in the signal (with feedback, DC\n",
    "# offset can be fatal!).\n",
    "flg = pyo.Delay(pyo.DCBlock(src), delay=lfo, feedback=feedback)\n",
    "\n",
    "# Mix the original source with its delayed version.\n",
    "# Compress the mix to normalize the output signal.\n",
    "cmp = pyo.Compress(src + flg, thresh=-20, ratio=4).out()\n",
    "\n",
    "s.gui(locals())"
   ]
  },
  {
   "cell_type": "markdown",
   "id": "5509c986-5ada-4ff9-884a-2260bc47d1d2",
   "metadata": {},
   "source": [
    "### Schroeder’s reverb.\n",
    "An artificial reverberation based on the work of Manfred Schroeder.\n",
    "\n",
    "This reverberator takes a monophonic input and outputs two uncorrelated reverberated signals.\n",
    "\n",
    "This algorithm presents four parallel comb filters fedding two serial allpass filters. An additional lowpass filter is used at the end to control the brightness of the reverberator. See also Module03!!!\n",
    "\n",
    "The manual example for the Allpass object presents an other Schroeder’s reverberator.\n",
    "\n",
    "If you are interested in builtin reverberation objects, see:\n",
    "\n",
    "- Freeverb, WGVerb, STRev, CvlVerb\n",
    "\n",
    "Not really reverbs, but you can build some cool resonant effects with:\n",
    "\n",
    "- Waveguide, AllpassWG"
   ]
  },
  {
   "cell_type": "code",
   "execution_count": 1,
   "id": "02cbf11b-5821-45c0-b976-94bb22000887",
   "metadata": {},
   "outputs": [],
   "source": [
    "try:\n",
    "    if s.getIsBooted():\n",
    "        pass\n",
    "except:\n",
    "    import pyo\n",
    "    s = pyo.Server(nchnls=2,ichnls=1).boot()\n",
    "    s.amp = 0.5\n",
    "    s.start()"
   ]
  },
  {
   "cell_type": "code",
   "execution_count": 2,
   "id": "49c18146-6757-4b81-8123-7c94d12fa79e",
   "metadata": {},
   "outputs": [],
   "source": [
    "soundfile = pyo.SndTable(\"./snds/chimes.wav\")\n",
    "\n",
    "src = pyo.Looper(soundfile, dur=2, xfade=0, mul=1.0)\n",
    "src2 = src.mix(2).out()\n",
    "\n",
    "# Four parallel stereo comb filters. The delay times are chosen\n",
    "# to be as uncorrelated as possible. Prime numbers are a good\n",
    "# choice for delay lengths in samples.\n",
    "comb1 = pyo.Delay(src, delay=[0.0297, 0.0277], feedback=0.65)\n",
    "comb2 = pyo.Delay(src, delay=[0.0371, 0.0393], feedback=0.51)\n",
    "comb3 = pyo.Delay(src, delay=[0.0411, 0.0409], feedback=0.5)\n",
    "comb4 = pyo.Delay(src, delay=[0.0137, 0.0155], feedback=0.73)\n",
    "\n",
    "combsum = src + comb1 + comb2 + comb3 + comb4\n",
    "\n",
    "# The sum of the original signal and the comb filters\n",
    "# feeds two serial allpass filters.\n",
    "all1 = pyo.Allpass(combsum, delay=[0.005, 0.00507], feedback=0.75)\n",
    "all2 = pyo.Allpass(all1, delay=[0.0117, 0.0123], feedback=0.61)\n",
    "\n",
    "# Brightness control.\n",
    "lowp = pyo.Tone(all2, freq=3500, mul=0.25).out()"
   ]
  },
  {
   "cell_type": "code",
   "execution_count": 3,
   "id": "2afc0d26-3da4-46e5-9fcc-dcbf4815b8ac",
   "metadata": {},
   "outputs": [
    {
     "data": {
      "text/plain": [
       "< Instance of Mix class >"
      ]
     },
     "execution_count": 3,
     "metadata": {},
     "output_type": "execute_result"
    }
   ],
   "source": [
    "lowp.stop()\n",
    "src2.stop()"
   ]
  },
  {
   "cell_type": "markdown",
   "id": "f51e1619-1ad1-43a5-87a6-f29918dca5e4",
   "metadata": {},
   "source": [
    "### Chorus\n",
    "A chorus (or ensemble) is a modulation effect used to create a richer, thicker sound and add subtle movement. The effect roughly simulates the slight variations in pitch and timing that occur when multiple performers sing or play the same part.\n",
    "\n",
    "A single voice chorus uses a single delay that creates a single modulated duplicate of the incoming audio. Basic chorus effects and inexpensive guitar pedals are often single-voice.\n",
    "\n",
    "A multiple voice chorus uses multiple modulated delays to create a richer sound with more movement than a single voice chorus.\n",
    "\n",
    "The Chorus object (from pyo) implements an 8 delay lines chorus and should use less CPU than the hand-written version. this example’s purpose is only to show how it works or to be used as a starting point to build an extended version."
   ]
  },
  {
   "cell_type": "code",
   "execution_count": null,
   "id": "e347233e-0f52-4c81-b1dc-9b5602a48b9b",
   "metadata": {},
   "outputs": [],
   "source": [
    "try:\n",
    "    if s.getIsBooted():\n",
    "        pass\n",
    "except:\n",
    "    import pyo\n",
    "    s = pyo.Server(nchnls=2,ichnls=1).boot()\n",
    "    s.amp = 0.5\n",
    "    s.start()"
   ]
  },
  {
   "cell_type": "code",
   "execution_count": 4,
   "id": "f0fefb4d-0215-42ac-a246-3cc4aef76450",
   "metadata": {},
   "outputs": [],
   "source": [
    "    \n",
    "# Start a source sound.\n",
    "sf = pyo.SfPlayer(\"./snds/chimes.wav\", speed=1, loop=True, mul=0.3)\n",
    "# Mix the source in stereo and send the signal to the output.\n",
    "sf2 = sf.mix(2).out()\n",
    "\n",
    "# Sets values for 8 LFO'ed delay lines (you can add more if you want!).\n",
    "# LFO frequencies.\n",
    "freqs = [0.254, 0.465, 0.657, 0.879, 1.23, 1.342, 1.654, 1.879]\n",
    "# Center delays in seconds.\n",
    "cdelay = [0.0087, 0.0102, 0.0111, 0.01254, 0.0134, 0.01501, 0.01707, 0.0178]\n",
    "# Modulation depths in seconds.\n",
    "adelay = [0.001, 0.0012, 0.0013, 0.0014, 0.0015, 0.0016, 0.002, 0.0023]\n",
    "\n",
    "# Create 8 sinusoidal LFOs with center delays \"cdelay\" and depths \"adelay\".\n",
    "lfos = pyo.Sine(freqs, mul=adelay, add=cdelay)\n",
    "\n",
    "# Create 8 modulated delay lines with a little feedback and send the signals\n",
    "# to the output. Streams 1, 3, 5, 7 to the left and streams 2, 4, 6, 8 to the\n",
    "# right (default behaviour of the out() method).\n",
    "delays = pyo.Delay(sf, lfos, feedback=0.5, mul=0.5).out()"
   ]
  },
  {
   "cell_type": "code",
   "execution_count": 5,
   "id": "5b6eeea0-d375-4d0d-a936-b3d68acfc5d9",
   "metadata": {},
   "outputs": [
    {
     "data": {
      "text/plain": [
       "< Instance of Mix class >"
      ]
     },
     "execution_count": 5,
     "metadata": {},
     "output_type": "execute_result"
    }
   ],
   "source": [
    "delays.stop()\n",
    "sf2.stop()"
   ]
  },
  {
   "cell_type": "markdown",
   "id": "9e2bc435-46bf-42fb-9e56-d8c78a1205ed",
   "metadata": {},
   "source": [
    "### Harmonizer\n",
    "A harmonizer is a type of pitch shifter that combines the “shifted” pitch with the original pitch to create a two or more note harmony.\n",
    "\n",
    "The implementation consists of two overlapping delay lines for which the reading head speed is tuned to transpose the signal by an amount specified in semitones.\n",
    "\n",
    "The Harmonizer object (from pyo) implements an pitch shifter and should use less CPU than the hand-written version. this example’s purpose is only to show how it works or to be used as a starting point to build an extended version."
   ]
  },
  {
   "cell_type": "code",
   "execution_count": null,
   "id": "8a641178-f5f2-4993-9ba1-1ca5003ac89f",
   "metadata": {},
   "outputs": [],
   "source": [
    "try:\n",
    "    if s.getIsBooted():\n",
    "        pass\n",
    "except:\n",
    "    import pyo\n",
    "    s = pyo.Server(nchnls=2,ichnls=1).boot()\n",
    "    s.amp = 0.5\n",
    "    s.start()"
   ]
  },
  {
   "cell_type": "code",
   "execution_count": 6,
   "id": "448c142b-8956-4d90-ac9c-747a9d54c310",
   "metadata": {},
   "outputs": [
    {
     "data": {
      "text/plain": [
       "< Instance of Mix class >"
      ]
     },
     "execution_count": 6,
     "metadata": {},
     "output_type": "execute_result"
    }
   ],
   "source": [
    "# Play a melodic sound and send its signal to the left speaker.\n",
    "sf = pyo.SfPlayer(\"./snds/chimes.wav\", speed=1, loop=True, mul=0.5).out()\n",
    "\n",
    "# Half-sine window used as the amplitude envelope of the overlaps.\n",
    "env = pyo.WinTable(8)\n",
    "\n",
    "# Length of the window in seconds.\n",
    "wsize = 0.1\n",
    "\n",
    "# Amount of transposition in semitones.\n",
    "trans = -7\n",
    "\n",
    "# Compute the transposition ratio.\n",
    "ratio = pow(2.0, trans / 12.0)\n",
    "\n",
    "# Compute the reading head speed.\n",
    "rate = -(ratio - 1) / wsize\n",
    "\n",
    "# Two reading heads out-of-phase.\n",
    "ind = pyo.Phasor(freq=rate, phase=[0, 0.5])\n",
    "\n",
    "# Each head reads the amplitude envelope...\n",
    "win = pyo.Pointer(table=env, index=ind, mul=0.7)\n",
    "\n",
    "# ... and modulates the delay time (scaled by the window size) of a delay line.\n",
    "# mix(1) is used to mix the two overlaps on a single audio stream.\n",
    "snd = pyo.Delay(sf, delay=ind * wsize, mul=win).mix(1)\n",
    "\n",
    "# The transposed signal is sent to the right speaker.\n",
    "snd.out(1)"
   ]
  },
  {
   "cell_type": "code",
   "execution_count": 7,
   "id": "f4b1881e-9382-4115-a78d-0383f30b1764",
   "metadata": {},
   "outputs": [
    {
     "data": {
      "text/plain": [
       "< Instance of Mix class >"
      ]
     },
     "execution_count": 7,
     "metadata": {},
     "output_type": "execute_result"
    }
   ],
   "source": [
    "sf.stop()\n",
    "snd.stop()"
   ]
  },
  {
   "cell_type": "markdown",
   "id": "86440f55-0191-4eb3-a205-099d910d4cd1",
   "metadata": {},
   "source": [
    "# Dynamics"
   ]
  },
  {
   "cell_type": "markdown",
   "id": "a7bd9c78-8d68-4bf4-aa2f-c4aceb07b80e",
   "metadata": {},
   "source": [
    "### Compressor\n",
    "Adjust the dynamic range of the signal.\n",
    "Comparison of three objects used to adjust the dynamic range of the signal.<br>\n",
    "- Compress : Reduces the dynamic range of an audio signal.<br>\n",
    "- Expand : Increases the dynamic range of an audio signal.\n",
    "- Gate : Allows a signal to pass only when its amplitude is above a threshold.<br>\n",
    "\n",
    "These three objects, by default, process independently each audio stream relatively to its own RMS value. This can be a problem if they are passed a stereo signal (or any multiphonic signals) where both channels should be processed in the same way."
   ]
  },
  {
   "cell_type": "code",
   "execution_count": null,
   "id": "4c066ad3-0b71-4e53-b80e-ca799bb2b7d3",
   "metadata": {},
   "outputs": [],
   "source": [
    "try:\n",
    "    if s.getIsBooted():\n",
    "        pass\n",
    "except:\n",
    "    import pyo\n",
    "    s = pyo.Server(nchnls=2,ichnls=1).boot()\n",
    "    s.amp = 0.5\n",
    "    s.start()"
   ]
  },
  {
   "cell_type": "code",
   "execution_count": null,
   "id": "8e4b3371-d2c6-40be-9e29-e3d786f2a758",
   "metadata": {},
   "outputs": [],
   "source": [
    "# The original source.\n",
    "src = pyo.SfPlayer(\"./snds/struct0.wav\", loop=True)\n",
    "\n",
    "# The three dynamic processing.\n",
    "cmp = pyo.Compress(src, thresh=-18, ratio=3, risetime=0.005, falltime=0.05, knee=0.5)\n",
    "exp = pyo.Expand(src, downthresh=-32, upthresh=-12, ratio=3, risetime=0.005, falltime=0.05)\n",
    "gat = pyo.Gate(src, thresh=-40, risetime=0.005, falltime=0.05)\n",
    "\n",
    "# These are labels that are shown as the scope window title.\n",
    "labels = [\"Original\", \"Compressed\", \"Expanded\", \"Gated\"]\n",
    "\n",
    "# List of signals to choose from.\n",
    "signals = [src, cmp, exp, gat]\n",
    "\n",
    "# Selector is used here to choose which signal to listen to.\n",
    "output = pyo.Selector(signals)\n",
    "output.ctrl()\n",
    "\n",
    "# Converts the signal from mono to stereo.\n",
    "stout = output.mix(2).out()\n",
    "\n",
    "# Live oscilloscope of the alternated signals.\n",
    "sc = pyo.Scope(output, wintitle=\"=== Original ===\")\n",
    "\n",
    "s.gui(locals())"
   ]
  },
  {
   "cell_type": "code",
   "execution_count": null,
   "id": "7c0a89f9-86f6-4d03-99b7-8138f2b7a26e",
   "metadata": {},
   "outputs": [],
   "source": []
  }
 ],
 "metadata": {
  "kernelspec": {
   "display_name": "Python 3 (ipykernel)",
   "language": "python",
   "name": "python3"
  },
  "language_info": {
   "codemirror_mode": {
    "name": "ipython",
    "version": 3
   },
   "file_extension": ".py",
   "mimetype": "text/x-python",
   "name": "python",
   "nbconvert_exporter": "python",
   "pygments_lexer": "ipython3",
   "version": "3.10.11"
  }
 },
 "nbformat": 4,
 "nbformat_minor": 5
}
