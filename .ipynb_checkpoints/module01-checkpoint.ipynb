{
 "cells": [
  {
   "cell_type": "markdown",
   "metadata": {},
   "source": [
    "# Module 01\n",
    "\n",
    "This notebook is adapted from ThinkDSP by Allen Downey by Marco Buongiorno Nardelli (2023)\n",
    "\n",
    "Copyright 2015 Allen Downey, 2023 Marco Buongiorno Nardelli\n",
    "\n",
    "License: [Creative Commons Attribution 4.0 International](http://creativecommons.org/licenses/by/4.0/)\n"
   ]
  },
  {
   "cell_type": "markdown",
   "metadata": {},
   "source": [
    "## msctools DSP module\n",
    "\n",
    "`dsp` is a module originally developed by Allen B. Downey _Think DSP_ and provides classes and functions for working with signals.\n",
    "\n",
    "it is part of the msctools library by M. Buongiorno Nardelli on Github: https://github.com/marcobn/msctools"
   ]
  },
  {
   "cell_type": "markdown",
   "metadata": {},
   "source": [
    "# Sounds and signals\n",
    "\n",
    "A **signal** represents a quantity that varies in time. That definition\n",
    "is pretty abstract, so let's start with a concrete example: sound. Sound\n",
    "is variation in air pressure. A sound signal represents variations in\n",
    "air pressure over time.\n",
    "\n",
    "A microphone is a device that measures these variations and generates an\n",
    "electrical signal that represents sound. A speaker is a device that\n",
    "takes an electrical signal and produces sound. Microphones and speakers\n",
    "are called **transducers** because they transduce, or convert, signals\n",
    "from one form to another.\n",
    "\n",
    "This course is about signal processing, which includes processes for\n",
    "synthesizing, transforming, and analyzing signals. I will focus on sound\n",
    "signals, but the same methods apply to electronic signals, mechanical\n",
    "vibration, and signals in many other domains."
   ]
  },
  {
   "cell_type": "markdown",
   "metadata": {},
   "source": [
    "## Periodic signals\n",
    "\n",
    "![Segment from a recording of a bell.](../figs/PNG/sounds1.pdf-1.png)\n",
    "\n",
    "We'll start with **periodic signals**, which are signals that repeat\n",
    "themselves after some period of time. For example, if you strike a bell,\n",
    "it vibrates and generates sound. If you record that sound and plot the\n",
    "transduced signal, it looks like the function above"
   ]
  },
  {
   "cell_type": "markdown",
   "metadata": {},
   "source": [
    "This signal resembles a **sinusoid**, which means it has the same shape\n",
    "as the trigonometric sine function.\n",
    "\n",
    "You can see that this signal is periodic. I chose the duration to show\n",
    "three full repetitions, also known as **cycles**. The duration of each\n",
    "cycle, called the **period**, is about 2.3 ms.\n",
    "\n",
    "The **frequency** of a signal is the number of cycles per second, which\n",
    "is the inverse of the period. The units of frequency are cycles per\n",
    "second, or **Hertz**, abbreviated \"Hz\". (Strictly speaking, the number\n",
    "of cycles is a dimensionless number, so a Hertz is really a \"per\n",
    "second\").\n",
    "\n",
    "The frequency of this signal is about 439 Hz, slightly lower than 440\n",
    "Hz, which is the standard tuning pitch for orchestral music. The musical\n",
    "name of this note is A, or more specifically, A4. If you are not\n",
    "familiar with \"scientific pitch notation\", the numerical suffix\n",
    "indicates which octave the note is in. A4 is the A above middle C. A5 is\n",
    "one octave higher. See\n",
    "<http://en.wikipedia.org/wiki/Scientific_pitch_notation>.\n",
    "\n",
    "![Segment from a recording of a violin.](../figs/PNG/sounds2.pdf-1.png)\n",
    "\n",
    "A tuning fork generates a sinusoid because the vibration of the tines is\n",
    "a form of simple harmonic motion. Most musical instruments produce\n",
    "periodic signals, but the shape of these signals is not sinusoidal. For\n",
    "example, the figure shows a segment from a recording of a violin\n",
    "playing Boccherini's String Quintet No. 5 in E, 3rd movement.\n",
    "\n",
    "Again we can see that the signal is periodic, but the shape of the\n",
    "signal is more complex. The shape of a periodic signal is called the\n",
    "**waveform**. Most musical instruments produce waveforms more complex\n",
    "than a sinusoid. The shape of the waveform determines the musical\n",
    "**timbre**, which is our perception of the quality of the sound. People\n",
    "usually perceive complex waveforms as rich, warm and more interesting\n",
    "than sinusoids."
   ]
  },
  {
   "cell_type": "markdown",
   "metadata": {},
   "source": [
    "## Spectral decomposition\n",
    "\n",
    "![Spectrum of a segment from the violin\n",
    "recording.](../figs/PNG/sounds3.pdf-1.png)\n",
    "\n",
    "The most important topic in this book is **spectral decomposition**,\n",
    "which is the idea that any signal can be expressed as the sum of\n",
    "sinusoids with different frequencies.\n",
    "\n",
    "The most important mathematical idea in this book is the **discrete\n",
    "Fourier transform**, or **DFT**, which takes a signal and produces its\n",
    "**spectrum**. The spectrum is the set of sinusoids that add up to\n",
    "produce the signal.\n",
    "\n",
    "And the most important algorithm in this book is the **Fast Fourier\n",
    "transform**, or **FFT**, which is an efficient way to compute the DFT.\n",
    "\n",
    "For example, the figure shows the spectrum of the violin recording above. The x-axis is the range of frequencies that\n",
    "make up the signal. The y-axis shows the strength or **amplitude** of\n",
    "each frequency component.\n",
    "\n",
    "The lowest frequency component is called the **fundamental frequency**.\n",
    "The fundamental frequency of this signal is near 440 Hz (actually a\n",
    "little lower, or \"flat\").\n",
    "\n",
    "In this signal the fundamental frequency has the largest amplitude, so\n",
    "it is also the **dominant frequency**. Normally the perceived pitch of a\n",
    "sound is determined by the fundamental frequency, even if it is not\n",
    "dominant.\n",
    "\n",
    "The other spikes in the spectrum are at frequencies 880, 1320, 1760, and\n",
    "2200, which are integer multiples of the fundamental. These components\n",
    "are called **harmonics** because they are musically harmonious with the\n",
    "fundamental:\n",
    "\n",
    "-   880 is the frequency of A5, one octave higher than the fundamental.\n",
    "    An **octave** is a doubling in frequency.\n",
    "\n",
    "-   1320 is approximately E6, which is a perfect fifth above A5. If you\n",
    "    are not familiar with musical intervals like \\\"perfect fifth\", see\n",
    "    <https://en.wikipedia.org/wiki/Interval_(music)>.\n",
    "\n",
    "-   1760 is A6, two octaves above the fundamental.\n",
    "\n",
    "-   2200 is approximately C$\\sharp$`<!-- -->`{=html}7, which is a major\n",
    "    third above A6.\n",
    "\n",
    "These harmonics make up the notes of an A major chord, although not all\n",
    "in the same octave. Some of them are only approximate because the notes\n",
    "that make up Western music have been adjusted for **equal temperament**\n",
    "(see <http://en.wikipedia.org/wiki/Equal_temperament>).\n",
    "\n",
    "Given the harmonics and their amplitudes, you can reconstruct the signal\n",
    "by adding up sinusoids."
   ]
  },
  {
   "cell_type": "markdown",
   "metadata": {},
   "source": [
    "## Signals\n",
    "\n",
    "`dsp` is a python module that contains classes and\n",
    "functions for working with signals and spectra.\n",
    "\n",
    "To represent signals, `dsp` provides a class called `Signal`, which\n",
    "is the parent class for several signal types, including `Sinusoid`,\n",
    "which represents both sine and cosine signals.\n",
    "\n",
    "`dsp` provides functions to create sine and cosine signals:\n",
    "\n",
    "        cos_sig = dsp.CosSignal(freq=440, amp=1.0, offset=0)\n",
    "        sin_sig = dsp.SinSignal(freq=880, amp=0.5, offset=0)\n",
    "\n",
    "`freq` is frequency in Hz. `amp` is amplitude in unspecified units where\n",
    "1.0 is defined as the largest amplitude we can record or play back.\n",
    "\n",
    "`offset` is a **phase offset** in radians. Phase offset determines where\n",
    "in the period the signal starts. For example, a sine signal with\n",
    "`offset=0` starts at $\\sin 0$, which is 0. With `offset=pi/2` it starts\n",
    "at $\\sin \\pi/2$, which is 1.\n",
    "\n",
    "Signals have an `__add__` method, so you can use the `+` operator to add\n",
    "them:\n",
    "\n",
    "        mix = sin_sig + cos_sig\n",
    "\n",
    "The result is a `SumSignal`, which represents the sum of two or more\n",
    "signals.\n",
    "\n",
    "A Signal is basically a Python representation of a mathematical\n",
    "function. Most signals are defined for all values of `t`, from negative\n",
    "infinity to infinity.\n",
    "\n",
    "You can't do much with a Signal until you evaluate it. In this context,\n",
    "\"evaluate\" means taking a sequence of points in time, ` ts`, and\n",
    "computing the corresponding values of the signal, `ys`. I represent `ts`\n",
    "and `ys` using NumPy arrays and encapsulate them in an object called a\n",
    "Wave.\n",
    "\n",
    "A Wave represents a signal evaluated at a sequence of points in time.\n",
    "Each point in time is called a **frame** (a term borrowed from movies\n",
    "and video). The measurement itself is called a **sample**, although\n",
    "\"frame\" and \"sample\" are sometimes used interchangeably.\n",
    "\n",
    "`Signal` provides `make_wave`, which returns a new Wave object:\n",
    "\n",
    "        wave = mix.make_wave(duration=0.5, start=0, framerate=11025)\n",
    "\n",
    "`duration` is the length of the Wave in seconds. `start` is the start\n",
    "time, also in seconds. `framerate` is the (integer) number of frames per\n",
    "second, which is also the number of samples per second.\n",
    "\n",
    "11,025 frames per second is one of several framerates commonly used in\n",
    "audio file formats, including Waveform Audio File (WAV) and mp3.\n",
    "\n",
    "This example evaluates the signal from `t=0` to `t=0.5` at 5,513\n",
    "equally-spaced frames (because 5,513 is half of 11,025). The time\n",
    "between frames, or **timestep**, is `1/11025` seconds, about 91 $\\mu$s.\n",
    "\n",
    "`Wave` provides a `plot` method that uses `pyplot`. You can plot the\n",
    "wave like this:\n",
    "\n",
    "        wave.plot()\n",
    "        pyplot.show()\n",
    "\n",
    "`pyplot` is part of `matplotlib`; it is included in many Python\n",
    "distributions, or you might have to install it.\n",
    "\n",
    "![Segment from a mixture of two sinusoid\n",
    "signals.](../figs/PNG/sounds4.pdf-1.png)\n",
    "\n",
    "At `freq=440` there are 220 periods in 0.5 seconds, so this plot would\n",
    "look like a solid block of color. To zoom in on a small number of\n",
    "periods, we can use `segment`, which copies a segment of a Wave and\n",
    "returns a new wave:\n",
    "\n",
    "        period = mix.period\n",
    "        segment = wave.segment(start=0, duration=period*3)\n",
    "\n",
    "`period` is a property of a Signal; it returns the period in seconds.\n",
    "\n",
    "`start` and `duration` are in seconds. This example copies the first\n",
    "three periods from `mix`. The result is a Wave object.\n",
    "\n",
    "This signal contains two frequency components,\n",
    "so it is more complicated than the signal from the tuning fork, but less\n",
    "complicated than the violin."
   ]
  },
  {
   "cell_type": "markdown",
   "metadata": {},
   "source": [
    "### Working example"
   ]
  },
  {
   "cell_type": "code",
   "execution_count": 23,
   "metadata": {},
   "outputs": [],
   "source": [
    "import matplotlib.pyplot as plt\n",
    "import numpy as np "
   ]
  },
  {
   "cell_type": "code",
   "execution_count": 24,
   "metadata": {},
   "outputs": [],
   "source": [
    "from msctools.dsp import CosSignal, SinSignal, decorate\n",
    "\n",
    "cos_sig = CosSignal(freq=900, amp=1.0, offset=0)\n",
    "sin_sig = SinSignal(freq=880, amp=0.5, offset=0)"
   ]
  },
  {
   "cell_type": "markdown",
   "metadata": {},
   "source": [
    "Plot the sine and cosine signals.  By default, `plot` plots three periods.  "
   ]
  },
  {
   "cell_type": "code",
   "execution_count": 25,
   "metadata": {},
   "outputs": [
    {
     "data": {
      "image/png": "[encoded data removed]",
      "text/plain": [
       "<Figure size 640x480 with 1 Axes>"
      ]
     },
     "metadata": {},
     "output_type": "display_data"
    }
   ],
   "source": [
    "cos_sig.plot()\n",
    "decorate(xlabel='Time (s)')"
   ]
  },
  {
   "cell_type": "markdown",
   "metadata": {},
   "source": [
    "Here's the sine signal."
   ]
  },
  {
   "cell_type": "code",
   "execution_count": 26,
   "metadata": {
    "scrolled": true
   },
   "outputs": [
    {
     "data": {
      "image/png": "[encoded data removed]",
      "text/plain": [
       "<Figure size 640x480 with 1 Axes>"
      ]
     },
     "metadata": {},
     "output_type": "display_data"
    }
   ],
   "source": [
    "sin_sig.plot()\n",
    "decorate(xlabel='Time (s)')"
   ]
  },
  {
   "cell_type": "markdown",
   "metadata": {},
   "source": [
    "Notice that the frequency of the sine signal is doubled, so the period is halved.\n",
    "\n",
    "The sum of two signals is a SumSignal."
   ]
  },
  {
   "cell_type": "code",
   "execution_count": 27,
   "metadata": {},
   "outputs": [
    {
     "data": {
      "text/plain": [
       "<msctools.dsp.SumSignal at 0x16d8865f0>"
      ]
     },
     "execution_count": 27,
     "metadata": {},
     "output_type": "execute_result"
    }
   ],
   "source": [
    "mix = sin_sig + cos_sig\n",
    "mix"
   ]
  },
  {
   "cell_type": "markdown",
   "metadata": {},
   "source": [
    "Here's what it looks like."
   ]
  },
  {
   "cell_type": "code",
   "execution_count": 28,
   "metadata": {
    "scrolled": true,
    "tags": []
   },
   "outputs": [
    {
     "data": {
      "image/png": "[encoded data removed]",
      "text/plain": [
       "<Figure size 640x480 with 1 Axes>"
      ]
     },
     "metadata": {},
     "output_type": "display_data"
    }
   ],
   "source": [
    "mix.plot()\n",
    "decorate(xlabel='Time (s)')"
   ]
  },
  {
   "cell_type": "markdown",
   "metadata": {},
   "source": [
    "## Reading and writing Waves\n",
    "\n",
    "`dsp` provides `read_wave`, which reads a WAV file and returns a\n",
    "Wave:\n",
    "\n",
    "        violin_wave = thinkdsp.read_wave('input.wav')\n",
    "\n",
    "And `Wave` provides `write`, which writes a WAV file:\n",
    "\n",
    "        wave.write(filename='output.wav')\n",
    "\n",
    "You can listen to the Wave with any media player that plays WAV files.\n",
    "On UNIX systems, I use `aplay`, which is simple, robust, and included in\n",
    "many Linux distributions.\n",
    "\n",
    "`dsp` also provides `play_wave`, which runs the media player as a\n",
    "subprocess:\n",
    "\n",
    "        dsp.play_wave(filename='output.wav', player='aplay')\n",
    "\n",
    "It uses `aplay` by default, but you can provide the name of another\n",
    "player. **NOTE for Mac users:** you should use `asplay`!!!"
   ]
  },
  {
   "cell_type": "markdown",
   "metadata": {},
   "source": [
    "## Waves\n",
    "\n",
    "A Signal represents a mathematical function defined for all values of time.  If you evaluate a signal at a sequence of equally-spaced times, the result is a Wave.  `framerate` is the number of samples per second.\n",
    "\n",
    "## Wave objects\n",
    "\n",
    "![Relationships among the classes in\n",
    "`thinkdsp`.](../figs/PNG/uml_diagram1.pdf-1.png)\n",
    "\n",
    "There is nothing very complicated in `thinkdsp.py`. Most of the\n",
    "functions it provides are thin wrappers around functions from NumPy and\n",
    "SciPy.\n",
    "\n",
    "The primary classes in `thinkdsp` are Signal, Wave, and Spectrum. Given\n",
    "a Signal, you can make a Wave. Given a Wave, you can make a Spectrum,\n",
    "and vice versa. \n",
    "\n",
    "A Wave object contains three attributes: `ys` is a NumPy array that\n",
    "contains the values in the signal; `ts` is an array of the times where\n",
    "the signal was evaluated or sampled; and ` framerate` is the number of\n",
    "samples per unit of time. The unit of time is usually seconds, but it\n",
    "doesn't have to be. In one of my examples, it's days.\n",
    "\n",
    "Wave also provides three read-only properties: `start`, `end`, and\n",
    "`duration`. If you modify `ts`, these properties change accordingly.\n",
    "\n",
    "To modify a wave, you can access the `ts` and `ys` directly. For\n",
    "example:\n",
    "\n",
    "    wave.ys *= 2\n",
    "    wave.ts += 1\n",
    "\n",
    "The first line scales the wave by a factor of 2, making it louder. The\n",
    "second line shifts the wave in time, making it start 1 second later.\n",
    "\n",
    "But Wave provides methods that perform many common operations. For\n",
    "example, the same two transformations could be written:\n",
    "\n",
    "    wave.scale(2)\n",
    "    wave.shift(1)\n"
   ]
  },
  {
   "cell_type": "code",
   "execution_count": 29,
   "metadata": {},
   "outputs": [
    {
     "data": {
      "text/plain": [
       "<msctools.dsp.Wave at 0x16d717d60>"
      ]
     },
     "execution_count": 29,
     "metadata": {},
     "output_type": "execute_result"
    }
   ],
   "source": [
    "wave = mix.make_wave(duration=0.5, start=0, framerate=11025)\n",
    "wave"
   ]
  },
  {
   "cell_type": "markdown",
   "metadata": {},
   "source": [
    "IPython provides an Audio widget that can play a wave."
   ]
  },
  {
   "cell_type": "code",
   "execution_count": 30,
   "metadata": {},
   "outputs": [
    {
     "data": {
      "text/html": [
       "\n",
       "                <audio  controls=\"controls\" >\n",
       "                    <source src=\"data:audio/wav;base64,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\" type=\"audio/wav\" />\n",
       "                    Your browser does not support the audio element.\n",
       "                </audio>\n",
       "              "
      ],
      "text/plain": [
       "<IPython.lib.display.Audio object>"
      ]
     },
     "execution_count": 30,
     "metadata": {},
     "output_type": "execute_result"
    }
   ],
   "source": [
    "from IPython.display import Audio\n",
    "audio = Audio(data=wave.ys, rate=wave.framerate)\n",
    "audio"
   ]
  },
  {
   "cell_type": "markdown",
   "metadata": {},
   "source": [
    "Wave also provides `make_audio()`, which does the same thing:"
   ]
  },
  {
   "cell_type": "code",
   "execution_count": 31,
   "metadata": {},
   "outputs": [
    {
     "data": {
      "text/html": [
       "\n",
       "                <audio  controls=\"controls\" >\n",
       "                    <source src=\"data:audio/wav;base64,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\" type=\"audio/wav\" />\n",
       "                    Your browser does not support the audio element.\n",
       "                </audio>\n",
       "              "
      ],
      "text/plain": [
       "<IPython.lib.display.Audio object>"
      ]
     },
     "execution_count": 31,
     "metadata": {},
     "output_type": "execute_result"
    }
   ],
   "source": [
    "wave.make_audio()"
   ]
  },
  {
   "cell_type": "markdown",
   "metadata": {},
   "source": [
    "The `ys` attribute is a NumPy array that contains the values from the signal.  The interval between samples is the inverse of the framerate."
   ]
  },
  {
   "cell_type": "code",
   "execution_count": 32,
   "metadata": {},
   "outputs": [
    {
     "name": "stdout",
     "output_type": "stream",
     "text": [
      "Number of samples 5512\n",
      "Timestep in ms 0.09070294784580499\n"
     ]
    }
   ],
   "source": [
    "print('Number of samples', len(wave.ys))\n",
    "print('Timestep in ms', 1 / wave.framerate * 1000)"
   ]
  },
  {
   "cell_type": "markdown",
   "metadata": {},
   "source": [
    "Signal objects that represent periodic signals have a `period` attribute.\n",
    "\n",
    "Wave provides `segment`, which creates a new wave.  So we can pull out a 3 period segment of this wave."
   ]
  },
  {
   "cell_type": "code",
   "execution_count": 33,
   "metadata": {},
   "outputs": [
    {
     "data": {
      "text/plain": [
       "0.0011363636363636363"
      ]
     },
     "execution_count": 33,
     "metadata": {},
     "output_type": "execute_result"
    }
   ],
   "source": [
    "period = mix.period\n",
    "segment = wave.segment(start=0, duration=period*3)\n",
    "period"
   ]
  },
  {
   "cell_type": "markdown",
   "metadata": {},
   "source": [
    "Wave provides `plot`"
   ]
  },
  {
   "cell_type": "code",
   "execution_count": 34,
   "metadata": {},
   "outputs": [
    {
     "data": {
      "image/png": "[encoded data removed]",
      "text/plain": [
       "<Figure size 640x480 with 1 Axes>"
      ]
     },
     "metadata": {},
     "output_type": "display_data"
    }
   ],
   "source": [
    "segment.plot()\n",
    "decorate(xlabel='Time (s)')"
   ]
  },
  {
   "cell_type": "markdown",
   "metadata": {},
   "source": [
    "`normalize` scales a wave so the range doesn't exceed -1 to 1.\n",
    "\n",
    "`apodize` tapers the beginning and end of the wave so it doesn't click when you play it."
   ]
  },
  {
   "cell_type": "code",
   "execution_count": 35,
   "metadata": {},
   "outputs": [
    {
     "data": {
      "image/png": "[encoded data removed]",
      "text/plain": [
       "<Figure size 640x480 with 1 Axes>"
      ]
     },
     "metadata": {},
     "output_type": "display_data"
    }
   ],
   "source": [
    "wave.normalize()\n",
    "wave.apodize()\n",
    "wave.plot()\n",
    "decorate(xlabel='Time (s)')"
   ]
  },
  {
   "cell_type": "markdown",
   "metadata": {},
   "source": [
    "You can write a wave to a WAV file."
   ]
  },
  {
   "cell_type": "code",
   "execution_count": 36,
   "metadata": {},
   "outputs": [
    {
     "name": "stdout",
     "output_type": "stream",
     "text": [
      "Writing temp.wav\n"
     ]
    }
   ],
   "source": [
    "wave.write('temp.wav')"
   ]
  },
  {
   "cell_type": "markdown",
   "metadata": {},
   "source": [
    "`wave.write` writes the wave to a file so it can be used by an exernal player."
   ]
  },
  {
   "cell_type": "code",
   "execution_count": 41,
   "metadata": {},
   "outputs": [],
   "source": [
    "from msctools.dsp import play_wave\n",
    "\n",
    "play_wave(filename='temp.wav', player='afplay')"
   ]
  },
  {
   "cell_type": "markdown",
   "metadata": {},
   "source": [
    "`read_wave` reads WAV files.  The WAV examples in the book are from freesound.org.  In the contributors section of the book, I list and thank the people who uploaded the sounds I use."
   ]
  },
  {
   "cell_type": "code",
   "execution_count": 42,
   "metadata": {},
   "outputs": [],
   "source": [
    "filename = '../waves/92002__jcveliz__violin-origional.wav'"
   ]
  },
  {
   "cell_type": "code",
   "execution_count": 43,
   "metadata": {},
   "outputs": [
    {
     "ename": "FileNotFoundError",
     "evalue": "[Errno 2] No such file or directory: '../waves/92002__jcveliz__violin-origional.wav'",
     "output_type": "error",
     "traceback": [
      "\u001b[0;31m---------------------------------------------------------------------------\u001b[0m",
      "\u001b[0;31mFileNotFoundError\u001b[0m                         Traceback (most recent call last)",
      "Cell \u001b[0;32mIn[43], line 3\u001b[0m\n\u001b[1;32m      1\u001b[0m \u001b[38;5;28;01mfrom\u001b[39;00m \u001b[38;5;21;01mmsctools\u001b[39;00m\u001b[38;5;21;01m.\u001b[39;00m\u001b[38;5;21;01mdsp\u001b[39;00m \u001b[38;5;28;01mimport\u001b[39;00m read_wave\n\u001b[0;32m----> 3\u001b[0m wave,nchannels,framerate,nframes \u001b[38;5;241m=\u001b[39m \u001b[43mread_wave\u001b[49m\u001b[43m(\u001b[49m\u001b[43mfilename\u001b[49m\u001b[43m)\u001b[49m\n",
      "File \u001b[0;32m~/anaconda3/envs/compmus/lib/python3.10/site-packages/msctools/dsp.py:98\u001b[0m, in \u001b[0;36mread_wave\u001b[0;34m(filename)\u001b[0m\n\u001b[1;32m     91\u001b[0m \u001b[38;5;28;01mdef\u001b[39;00m \u001b[38;5;21mread_wave\u001b[39m(filename\u001b[38;5;241m=\u001b[39m\u001b[38;5;124m\"\u001b[39m\u001b[38;5;124msound.wav\u001b[39m\u001b[38;5;124m\"\u001b[39m):\n\u001b[1;32m     92\u001b[0m \u001b[38;5;250m    \u001b[39m\u001b[38;5;124;03m\"\"\"Reads a wave file.\u001b[39;00m\n\u001b[1;32m     93\u001b[0m \n\u001b[1;32m     94\u001b[0m \u001b[38;5;124;03m    filename: string\u001b[39;00m\n\u001b[1;32m     95\u001b[0m \n\u001b[1;32m     96\u001b[0m \u001b[38;5;124;03m    returns: Wave\u001b[39;00m\n\u001b[1;32m     97\u001b[0m \u001b[38;5;124;03m    \"\"\"\u001b[39;00m\n\u001b[0;32m---> 98\u001b[0m     fp \u001b[38;5;241m=\u001b[39m \u001b[43mopen_wave\u001b[49m\u001b[43m(\u001b[49m\u001b[43mfilename\u001b[49m\u001b[43m,\u001b[49m\u001b[43m \u001b[49m\u001b[38;5;124;43m\"\u001b[39;49m\u001b[38;5;124;43mr\u001b[39;49m\u001b[38;5;124;43m\"\u001b[39;49m\u001b[43m)\u001b[49m\n\u001b[1;32m    100\u001b[0m     nchannels \u001b[38;5;241m=\u001b[39m fp\u001b[38;5;241m.\u001b[39mgetnchannels()\n\u001b[1;32m    101\u001b[0m     nframes \u001b[38;5;241m=\u001b[39m fp\u001b[38;5;241m.\u001b[39mgetnframes()\n",
      "File \u001b[0;32m~/anaconda3/envs/compmus/lib/python3.10/wave.py:509\u001b[0m, in \u001b[0;36mopen\u001b[0;34m(f, mode)\u001b[0m\n\u001b[1;32m    507\u001b[0m         mode \u001b[38;5;241m=\u001b[39m \u001b[38;5;124m'\u001b[39m\u001b[38;5;124mrb\u001b[39m\u001b[38;5;124m'\u001b[39m\n\u001b[1;32m    508\u001b[0m \u001b[38;5;28;01mif\u001b[39;00m mode \u001b[38;5;129;01min\u001b[39;00m (\u001b[38;5;124m'\u001b[39m\u001b[38;5;124mr\u001b[39m\u001b[38;5;124m'\u001b[39m, \u001b[38;5;124m'\u001b[39m\u001b[38;5;124mrb\u001b[39m\u001b[38;5;124m'\u001b[39m):\n\u001b[0;32m--> 509\u001b[0m     \u001b[38;5;28;01mreturn\u001b[39;00m \u001b[43mWave_read\u001b[49m\u001b[43m(\u001b[49m\u001b[43mf\u001b[49m\u001b[43m)\u001b[49m\n\u001b[1;32m    510\u001b[0m \u001b[38;5;28;01melif\u001b[39;00m mode \u001b[38;5;129;01min\u001b[39;00m (\u001b[38;5;124m'\u001b[39m\u001b[38;5;124mw\u001b[39m\u001b[38;5;124m'\u001b[39m, \u001b[38;5;124m'\u001b[39m\u001b[38;5;124mwb\u001b[39m\u001b[38;5;124m'\u001b[39m):\n\u001b[1;32m    511\u001b[0m     \u001b[38;5;28;01mreturn\u001b[39;00m Wave_write(f)\n",
      "File \u001b[0;32m~/anaconda3/envs/compmus/lib/python3.10/wave.py:159\u001b[0m, in \u001b[0;36mWave_read.__init__\u001b[0;34m(self, f)\u001b[0m\n\u001b[1;32m    157\u001b[0m \u001b[38;5;28mself\u001b[39m\u001b[38;5;241m.\u001b[39m_i_opened_the_file \u001b[38;5;241m=\u001b[39m \u001b[38;5;28;01mNone\u001b[39;00m\n\u001b[1;32m    158\u001b[0m \u001b[38;5;28;01mif\u001b[39;00m \u001b[38;5;28misinstance\u001b[39m(f, \u001b[38;5;28mstr\u001b[39m):\n\u001b[0;32m--> 159\u001b[0m     f \u001b[38;5;241m=\u001b[39m \u001b[43mbuiltins\u001b[49m\u001b[38;5;241;43m.\u001b[39;49m\u001b[43mopen\u001b[49m\u001b[43m(\u001b[49m\u001b[43mf\u001b[49m\u001b[43m,\u001b[49m\u001b[43m \u001b[49m\u001b[38;5;124;43m'\u001b[39;49m\u001b[38;5;124;43mrb\u001b[39;49m\u001b[38;5;124;43m'\u001b[39;49m\u001b[43m)\u001b[49m\n\u001b[1;32m    160\u001b[0m     \u001b[38;5;28mself\u001b[39m\u001b[38;5;241m.\u001b[39m_i_opened_the_file \u001b[38;5;241m=\u001b[39m f\n\u001b[1;32m    161\u001b[0m \u001b[38;5;66;03m# else, assume it is an open file object already\u001b[39;00m\n",
      "\u001b[0;31mFileNotFoundError\u001b[0m: [Errno 2] No such file or directory: '../waves/92002__jcveliz__violin-origional.wav'"
     ]
    }
   ],
   "source": [
    "from msctools.dsp import read_wave\n",
    "\n",
    "wave,nchannels,framerate,nframes = read_wave(filename)"
   ]
  },
  {
   "cell_type": "code",
   "execution_count": null,
   "metadata": {},
   "outputs": [],
   "source": [
    "wave.make_audio()"
   ]
  },
  {
   "cell_type": "markdown",
   "metadata": {},
   "source": [
    "I pulled out a segment of this recording where the pitch is constant.  When we plot the segment, we can't see the waveform clearly, but we can see the \"envelope\", which tracks the change in amplitude during the segment."
   ]
  },
  {
   "cell_type": "code",
   "execution_count": null,
   "metadata": {},
   "outputs": [],
   "source": [
    "start = 1.2\n",
    "duration = 0.6\n",
    "segment = wave.segment(start, duration)\n",
    "segment.plot()\n",
    "decorate(xlabel='Time (s)')"
   ]
  },
  {
   "cell_type": "markdown",
   "metadata": {},
   "source": [
    "## Spectra\n",
    "\n",
    "`Wave` provides `make_spectrum`, which returns a `Spectrum`:\n",
    "\n",
    "        spectrum = wave.make_spectrum()\n",
    "\n",
    "And `Spectrum` provides `plot`:\n",
    "\n",
    "        spectrum.plot()\n",
    "\n",
    "`Spectrum` provides three methods that modify the spectrum:\n",
    "\n",
    "-   `low_pass` applies a low-pass filter, which means that components\n",
    "    above a given cutoff frequency are attenuated (that is, reduced in\n",
    "    magnitude) by a factor.\n",
    "\n",
    "-   `high_pass` applies a high-pass filter, which means that it\n",
    "    attenuates components below the cutoff.\n",
    "\n",
    "-   `band_stop` attenuates components in the band of frequencies between\n",
    "    two cutoffs.\n",
    "\n",
    "This example attenuates all frequencies above 600 by 99%:\n",
    "\n",
    "       spectrum.low_pass(cutoff=600, factor=0.01)\n",
    "\n",
    "A low pass filter removes bright, high-frequency sounds, so the result\n",
    "sounds muffled and darker. To hear what it sounds like, you can convert\n",
    "the Spectrum back to a Wave, and then play it.\n",
    "\n",
    "        wave = spectrum.make_wave()\n",
    "        wave.play('temp.wav')\n",
    "\n",
    "The `play` method writes the wave to a file and then plays it. If you\n",
    "use Jupyter notebooks, you can use `make_audio`, which makes an Audio\n",
    "widget that plays the sound."
   ]
  },
  {
   "cell_type": "code",
   "execution_count": 45,
   "metadata": {},
   "outputs": [],
   "source": [
    "spectrum = segment.make_spectrum()"
   ]
  },
  {
   "cell_type": "markdown",
   "metadata": {},
   "source": [
    "Spectrum provides `plot`"
   ]
  },
  {
   "cell_type": "code",
   "execution_count": 46,
   "metadata": {},
   "outputs": [
    {
     "data": {
      "image/png": "[encoded data removed]",
      "text/plain": [
       "<Figure size 640x480 with 1 Axes>"
      ]
     },
     "metadata": {},
     "output_type": "display_data"
    }
   ],
   "source": [
    "spectrum.plot()\n",
    "decorate(xlabel='Frequency (Hz)')"
   ]
  },
  {
   "cell_type": "markdown",
   "metadata": {},
   "source": [
    "The frequency components above 10 kHz are small.  We can see the lower frequencies more clearly by providing an upper bound:"
   ]
  },
  {
   "cell_type": "code",
   "execution_count": 47,
   "metadata": {},
   "outputs": [
    {
     "data": {
      "image/png": "[encoded data removed]",
      "text/plain": [
       "<Figure size 640x480 with 1 Axes>"
      ]
     },
     "metadata": {},
     "output_type": "display_data"
    }
   ],
   "source": [
    "spectrum.plot(high=10000)\n",
    "decorate(xlabel='Frequency (Hz)')"
   ]
  },
  {
   "cell_type": "markdown",
   "metadata": {},
   "source": [
    "Spectrum provides `low_pass`, which applies a low pass filter; that is, it attenuates all frequency components above a cutoff frequency."
   ]
  },
  {
   "cell_type": "code",
   "execution_count": 48,
   "metadata": {},
   "outputs": [],
   "source": [
    "spectrum.low_pass(3000)"
   ]
  },
  {
   "cell_type": "markdown",
   "metadata": {},
   "source": [
    "The result is a spectrum with fewer components."
   ]
  },
  {
   "cell_type": "code",
   "execution_count": null,
   "metadata": {},
   "outputs": [],
   "source": [
    "spectrum.plot(high=10000)\n",
    "decorate(xlabel='Frequency (Hz)')"
   ]
  },
  {
   "cell_type": "markdown",
   "metadata": {},
   "source": [
    "We can convert the filtered spectrum back to a wave:"
   ]
  },
  {
   "cell_type": "code",
   "execution_count": null,
   "metadata": {},
   "outputs": [],
   "source": [
    "filtered = spectrum.make_wave()"
   ]
  },
  {
   "cell_type": "markdown",
   "metadata": {},
   "source": [
    "And then normalize it to the range -1 to 1."
   ]
  },
  {
   "cell_type": "code",
   "execution_count": null,
   "metadata": {},
   "outputs": [],
   "source": [
    "filtered.normalize()"
   ]
  },
  {
   "cell_type": "markdown",
   "metadata": {},
   "source": [
    "Before playing it back, I'll apodize it (to avoid clicks)."
   ]
  },
  {
   "cell_type": "code",
   "execution_count": null,
   "metadata": {},
   "outputs": [],
   "source": [
    "filtered.apodize()\n",
    "filtered.plot()\n",
    "decorate(xlabel='Time (s)')"
   ]
  },
  {
   "cell_type": "markdown",
   "metadata": {},
   "source": [
    "And I'll do the same with the original segment."
   ]
  },
  {
   "cell_type": "code",
   "execution_count": null,
   "metadata": {},
   "outputs": [],
   "source": [
    "segment.normalize()\n",
    "segment.apodize()\n",
    "segment.plot()\n",
    "decorate(xlabel='Time (s)')"
   ]
  },
  {
   "cell_type": "markdown",
   "metadata": {},
   "source": [
    "Finally, we can listen to the original segment and the filtered version."
   ]
  },
  {
   "cell_type": "code",
   "execution_count": null,
   "metadata": {},
   "outputs": [],
   "source": [
    "segment.make_audio()"
   ]
  },
  {
   "cell_type": "code",
   "execution_count": null,
   "metadata": {},
   "outputs": [],
   "source": [
    "filtered.make_audio()"
   ]
  },
  {
   "cell_type": "markdown",
   "metadata": {},
   "source": [
    "The original sounds more complex, with some high-frequency components that sound buzzy.\n",
    "The filtered version sounds more like a pure tone, with a more muffled quality.  The cutoff frequency I chose, 3000 Hz, is similar to the quality of a telephone line, so this example simulates the sound of a violin recording played over a telephone."
   ]
  },
  {
   "cell_type": "markdown",
   "metadata": {},
   "source": [
    "## Signal objects\n",
    "\n",
    "Signal is a parent class that provides functions common to all kinds of\n",
    "signals, like `make_wave`. Child classes inherit these methods and\n",
    "provide `evaluate`, which evaluates the signal at a given sequence of\n",
    "times.\n",
    "\n",
    "For example, Sinusoid is a child class of Signal, with this definition:\n",
    "\n",
    "    class Sinusoid(Signal):\n",
    "\n",
    "        def __init__(self, freq=440, amp=1.0, offset=0, func=np.sin):\n",
    "            Signal.__init__(self)\n",
    "            self.freq = freq\n",
    "            self.amp = amp\n",
    "            self.offset = offset\n",
    "            self.func = func\n",
    "\n",
    "The parameters of `__init__` are:\n",
    "\n",
    "-   `freq`: frequency in cycles per second, or Hz.\n",
    "\n",
    "-   `amp`: amplitude. The units of amplitude are arbitrary, usually\n",
    "    chosen so 1.0 corresponds to the maximum input from a microphone or\n",
    "    maximum output to a speaker.\n",
    "\n",
    "-   `offset`: indicates where in its period the signal starts; `offset`\n",
    "    is in units of radians, for reasons I explain below.\n",
    "\n",
    "-   `func`: a Python function used to evaluate the signal at a\n",
    "    particular point in time. It is usually either `np.sin` or `np.cos`,\n",
    "    yielding a sine or cosine signal.\n",
    "\n",
    "Like many init methods, this one just tucks the parameters away for\n",
    "future use.\n",
    "\n",
    "Signal provides `make_wave`, which looks like this:\n",
    "\n",
    "        def make_wave(self, duration=1, start=0, framerate=11025):\n",
    "            n = round(duration * framerate)\n",
    "            ts = start + np.arange(n) / framerate\n",
    "            ys = self.evaluate(ts)\n",
    "            return Wave(ys, ts, framerate=framerate)\n",
    "\n",
    "`start` and `duration` are the start time and duration in seconds.\n",
    "`framerate` is the number of frames (samples) per second.\n",
    "\n",
    "`n` is the number of samples, and `ts` is a NumPy array of sample times.\n",
    "\n",
    "To compute the `ys`, `make_wave` invokes `evaluate`, which is provided\n",
    "by `Sinusoid`:\n",
    "\n",
    "        def evaluate(self, ts):\n",
    "            phases = PI2 * self.freq * ts + self.offset\n",
    "            ys = self.amp * self.func(phases)\n",
    "            return ys\n",
    "\n",
    "Let's unwind this function one step at time:\n",
    "\n",
    "1.  `self.freq` is frequency in cycles per second, and each element of\n",
    "    `ts` is a time in seconds, so their product is the number of cycles\n",
    "    since the start time.\n",
    "\n",
    "2.  `PI2` is a constant that stores $2 \\pi$. Multiplying by `PI2`\n",
    "    converts from cycles to **phase**. You can think of phase as \"cycles\n",
    "    since the start time\" expressed in radians. Each cycle is $2 \\pi$\n",
    "    radians.\n",
    "\n",
    "3.  `self.offset` is the phase when $t$ is `ts[0]`. It has the effect of\n",
    "    shifting the signal left or right in time.\n",
    "\n",
    "4.  If `self.func` is `np.sin` or `np.cos`, the result is a value\n",
    "    between $-1$ and $+1$.\n",
    "\n",
    "5.  Multiplying by `self.amp` yields a signal that ranges from\n",
    "    `-self.amp` to `+self.amp`.\n",
    "\n",
    "In math notation, `evaluate` is written like this:\n",
    "$y = A \\cos (2 \\pi f t + \\phi_0)$ \n",
    "where $A$ is amplitude, $f$ is\n",
    "frequency, $t$ is time, and $\\phi_0$ is the phase offset. "
   ]
  },
  {
   "cell_type": "markdown",
   "metadata": {},
   "source": [
    "## Exercises part I\n",
    "\n",
    "**Exercise 1**. *Go to <http://freesound.org> and download a sound\n",
    "sample that includes music, speech, or other sounds that have a\n",
    "well-defined pitch. Select a roughly half-second segment where the pitch\n",
    "is constant. Compute and plot the spectrum of the segment you selected.\n",
    "What connection can you make between the timbre of the sound and the\n",
    "harmonic structure you see in the spectrum?*\n",
    "\n",
    "*Use `high_pass`, `low_pass`, and `band_stop` to filter out some of the\n",
    "harmonics. Then convert the spectrum back to a wave and listen to it.\n",
    "How does the sound relate to the changes you made in the spectrum?*\n",
    "\n",
    "\n",
    "**Exercise 2**. *Synthesize a compound signal by creating SinSignal\n",
    "and CosSignal objects and adding them up. Evaluate the signal to get a\n",
    "Wave, and listen to it. Compute its Spectrum and plot it. What happens\n",
    "if you add frequency components that are not multiples of the\n",
    "fundamental?*\n",
    "\n",
    "**Exercise 3**. *Write a function called `stretch` that takes a Wave\n",
    "and a stretch factor and speeds up or slows down the wave by modifying\n",
    "`ts` and `framerate`. Hint: it should only take two lines of code.*\n"
   ]
  },
  {
   "cell_type": "code",
   "execution_count": 49,
   "metadata": {},
   "outputs": [],
   "source": [
    "import matplotlib.pyplot as plt\n",
    "import numpy as np \n",
    "from msctools.dsp import read_wave"
   ]
  },
  {
   "cell_type": "code",
   "execution_count": 52,
   "metadata": {},
   "outputs": [
    {
     "ename": "Error",
     "evalue": "file does not start with RIFF id",
     "output_type": "error",
     "traceback": [
      "\u001b[0;31m---------------------------------------------------------------------------\u001b[0m",
      "\u001b[0;31mError\u001b[0m                                     Traceback (most recent call last)",
      "Cell \u001b[0;32mIn[52], line 2\u001b[0m\n\u001b[1;32m      1\u001b[0m filename \u001b[38;5;241m=\u001b[39m \u001b[38;5;124m'\u001b[39m\u001b[38;5;124m./apple-ripping.mp3\u001b[39m\u001b[38;5;124m'\u001b[39m\n\u001b[0;32m----> 2\u001b[0m apple \u001b[38;5;241m=\u001b[39m \u001b[43mread_wave\u001b[49m\u001b[43m(\u001b[49m\u001b[43mfilename\u001b[49m\u001b[43m)\u001b[49m\n",
      "File \u001b[0;32m~/anaconda3/envs/compmus/lib/python3.10/site-packages/msctools/dsp.py:98\u001b[0m, in \u001b[0;36mread_wave\u001b[0;34m(filename)\u001b[0m\n\u001b[1;32m     91\u001b[0m \u001b[38;5;28;01mdef\u001b[39;00m \u001b[38;5;21mread_wave\u001b[39m(filename\u001b[38;5;241m=\u001b[39m\u001b[38;5;124m\"\u001b[39m\u001b[38;5;124msound.wav\u001b[39m\u001b[38;5;124m\"\u001b[39m):\n\u001b[1;32m     92\u001b[0m \u001b[38;5;250m    \u001b[39m\u001b[38;5;124;03m\"\"\"Reads a wave file.\u001b[39;00m\n\u001b[1;32m     93\u001b[0m \n\u001b[1;32m     94\u001b[0m \u001b[38;5;124;03m    filename: string\u001b[39;00m\n\u001b[1;32m     95\u001b[0m \n\u001b[1;32m     96\u001b[0m \u001b[38;5;124;03m    returns: Wave\u001b[39;00m\n\u001b[1;32m     97\u001b[0m \u001b[38;5;124;03m    \"\"\"\u001b[39;00m\n\u001b[0;32m---> 98\u001b[0m     fp \u001b[38;5;241m=\u001b[39m \u001b[43mopen_wave\u001b[49m\u001b[43m(\u001b[49m\u001b[43mfilename\u001b[49m\u001b[43m,\u001b[49m\u001b[43m \u001b[49m\u001b[38;5;124;43m\"\u001b[39;49m\u001b[38;5;124;43mr\u001b[39;49m\u001b[38;5;124;43m\"\u001b[39;49m\u001b[43m)\u001b[49m\n\u001b[1;32m    100\u001b[0m     nchannels \u001b[38;5;241m=\u001b[39m fp\u001b[38;5;241m.\u001b[39mgetnchannels()\n\u001b[1;32m    101\u001b[0m     nframes \u001b[38;5;241m=\u001b[39m fp\u001b[38;5;241m.\u001b[39mgetnframes()\n",
      "File \u001b[0;32m~/anaconda3/envs/compmus/lib/python3.10/wave.py:509\u001b[0m, in \u001b[0;36mopen\u001b[0;34m(f, mode)\u001b[0m\n\u001b[1;32m    507\u001b[0m         mode \u001b[38;5;241m=\u001b[39m \u001b[38;5;124m'\u001b[39m\u001b[38;5;124mrb\u001b[39m\u001b[38;5;124m'\u001b[39m\n\u001b[1;32m    508\u001b[0m \u001b[38;5;28;01mif\u001b[39;00m mode \u001b[38;5;129;01min\u001b[39;00m (\u001b[38;5;124m'\u001b[39m\u001b[38;5;124mr\u001b[39m\u001b[38;5;124m'\u001b[39m, \u001b[38;5;124m'\u001b[39m\u001b[38;5;124mrb\u001b[39m\u001b[38;5;124m'\u001b[39m):\n\u001b[0;32m--> 509\u001b[0m     \u001b[38;5;28;01mreturn\u001b[39;00m \u001b[43mWave_read\u001b[49m\u001b[43m(\u001b[49m\u001b[43mf\u001b[49m\u001b[43m)\u001b[49m\n\u001b[1;32m    510\u001b[0m \u001b[38;5;28;01melif\u001b[39;00m mode \u001b[38;5;129;01min\u001b[39;00m (\u001b[38;5;124m'\u001b[39m\u001b[38;5;124mw\u001b[39m\u001b[38;5;124m'\u001b[39m, \u001b[38;5;124m'\u001b[39m\u001b[38;5;124mwb\u001b[39m\u001b[38;5;124m'\u001b[39m):\n\u001b[1;32m    511\u001b[0m     \u001b[38;5;28;01mreturn\u001b[39;00m Wave_write(f)\n",
      "File \u001b[0;32m~/anaconda3/envs/compmus/lib/python3.10/wave.py:163\u001b[0m, in \u001b[0;36mWave_read.__init__\u001b[0;34m(self, f)\u001b[0m\n\u001b[1;32m    161\u001b[0m \u001b[38;5;66;03m# else, assume it is an open file object already\u001b[39;00m\n\u001b[1;32m    162\u001b[0m \u001b[38;5;28;01mtry\u001b[39;00m:\n\u001b[0;32m--> 163\u001b[0m     \u001b[38;5;28;43mself\u001b[39;49m\u001b[38;5;241;43m.\u001b[39;49m\u001b[43minitfp\u001b[49m\u001b[43m(\u001b[49m\u001b[43mf\u001b[49m\u001b[43m)\u001b[49m\n\u001b[1;32m    164\u001b[0m \u001b[38;5;28;01mexcept\u001b[39;00m:\n\u001b[1;32m    165\u001b[0m     \u001b[38;5;28;01mif\u001b[39;00m \u001b[38;5;28mself\u001b[39m\u001b[38;5;241m.\u001b[39m_i_opened_the_file:\n",
      "File \u001b[0;32m~/anaconda3/envs/compmus/lib/python3.10/wave.py:130\u001b[0m, in \u001b[0;36mWave_read.initfp\u001b[0;34m(self, file)\u001b[0m\n\u001b[1;32m    128\u001b[0m \u001b[38;5;28mself\u001b[39m\u001b[38;5;241m.\u001b[39m_file \u001b[38;5;241m=\u001b[39m Chunk(file, bigendian \u001b[38;5;241m=\u001b[39m \u001b[38;5;241m0\u001b[39m)\n\u001b[1;32m    129\u001b[0m \u001b[38;5;28;01mif\u001b[39;00m \u001b[38;5;28mself\u001b[39m\u001b[38;5;241m.\u001b[39m_file\u001b[38;5;241m.\u001b[39mgetname() \u001b[38;5;241m!=\u001b[39m \u001b[38;5;124mb\u001b[39m\u001b[38;5;124m'\u001b[39m\u001b[38;5;124mRIFF\u001b[39m\u001b[38;5;124m'\u001b[39m:\n\u001b[0;32m--> 130\u001b[0m     \u001b[38;5;28;01mraise\u001b[39;00m Error(\u001b[38;5;124m'\u001b[39m\u001b[38;5;124mfile does not start with RIFF id\u001b[39m\u001b[38;5;124m'\u001b[39m)\n\u001b[1;32m    131\u001b[0m \u001b[38;5;28;01mif\u001b[39;00m \u001b[38;5;28mself\u001b[39m\u001b[38;5;241m.\u001b[39m_file\u001b[38;5;241m.\u001b[39mread(\u001b[38;5;241m4\u001b[39m) \u001b[38;5;241m!=\u001b[39m \u001b[38;5;124mb\u001b[39m\u001b[38;5;124m'\u001b[39m\u001b[38;5;124mWAVE\u001b[39m\u001b[38;5;124m'\u001b[39m:\n\u001b[1;32m    132\u001b[0m     \u001b[38;5;28;01mraise\u001b[39;00m Error(\u001b[38;5;124m'\u001b[39m\u001b[38;5;124mnot a WAVE file\u001b[39m\u001b[38;5;124m'\u001b[39m)\n",
      "\u001b[0;31mError\u001b[0m: file does not start with RIFF id"
     ]
    }
   ],
   "source": [
    "filename = './apple-ripping.mp3'\n",
    "apple = read_wave(filename)"
   ]
  },
  {
   "cell_type": "markdown",
   "metadata": {},
   "source": [
    "-----"
   ]
  },
  {
   "cell_type": "markdown",
   "metadata": {},
   "source": [
    "# Harmonics\n",
    "\n"
   ]
  },
  {
   "cell_type": "markdown",
   "metadata": {},
   "source": [
    "## Triangle waves\n",
    "\n",
    "A sinusoid contains only one frequency component, so its spectrum has\n",
    "only one peak. More complicated waveforms, like the violin recording,\n",
    "yield DFTs with many peaks. In this section we investigate the\n",
    "relationship between waveforms and their spectrums.\n",
    "\n",
    "![Segment of a triangle signal at 200\n",
    "Hz.](../figs/PNG/triangle-200-1.pdf-1.png)\n",
    "\n",
    "I'll start with a triangle waveform, which is like a straight-line\n",
    "version of a sinusoid.\n",
    "\n",
    "To generate a triangle wave, you can use `thinkdsp.TriangleSignal`:\n",
    "\n",
    "    class TriangleSignal(Sinusoid):\n",
    "\n",
    "        def evaluate(self, ts):\n",
    "            cycles = self.freq * ts + self.offset / PI2\n",
    "            frac, _ = np.modf(cycles)\n",
    "            ys = np.abs(frac - 0.5)\n",
    "            ys = normalize(unbias(ys), self.amp)\n",
    "            return ys\n",
    "\n",
    "`TriangleSignal` inherits `__init__` from `Sinusoid`, so it takes the\n",
    "same arguments: `freq`, `amp`, and `offset`.\n",
    "\n",
    "The only difference is `evaluate`. As we saw before, `ts` is the\n",
    "sequence of sample times where we want to evaluate the signal.\n",
    "\n",
    "There are many ways to generate a triangle wave. The details are not\n",
    "important, but here's how `evaluate` works:\n",
    "\n",
    "1.  `cycles` is the number of cycles since the start time. `np.modf`\n",
    "    splits the number of cycles into the fraction part, stored in\n",
    "    `frac`, and the integer part, which is ignored [^2].\n",
    "\n",
    "2.  `frac` is a sequence that ramps from 0 to 1 with the given\n",
    "    frequency. Subtracting 0.5 yields values between -0.5 and 0.5.\n",
    "    Taking the absolute value yields a waveform that zig-zags between\n",
    "    0.5 and 0.\n",
    "\n",
    "3.  `unbias` shifts the waveform down so it is centered at 0; then\n",
    "    `normalize` scales it to the given amplitude, `amp`."
   ]
  },
  {
   "cell_type": "code",
   "execution_count": null,
   "metadata": {},
   "outputs": [],
   "source": [
    "from msctools.dsp import TriangleSignal\n",
    "\n",
    "signal = TriangleSignal(200)\n",
    "duration = signal.period*3\n",
    "segment = signal.make_wave(duration, framerate=10000)\n",
    "segment.plot()\n",
    "decorate(xlabel='Time (s)')"
   ]
  },
  {
   "cell_type": "code",
   "execution_count": null,
   "metadata": {},
   "outputs": [],
   "source": [
    "wave = signal.make_wave(duration=0.5, framerate=10000)\n",
    "wave.apodize()\n",
    "wave.make_audio()"
   ]
  },
  {
   "cell_type": "markdown",
   "metadata": {},
   "source": [
    "![Spectrum of a triangle signal at 200 Hz, shown on two vertical scales.\n",
    "The version on the right cuts off the fundamental to show the harmonics\n",
    "more clearly.](../figs/PNG/triangle-200-2.pdf-1.png)\n",
    "\n",
    "Next we can use the Signal to make a Wave, and use the Wave to make a\n",
    "Spectrum:\n",
    "\n",
    "    wave = signal.make_wave(duration=0.5, framerate=10000)\n",
    "    spectrum = wave.make_spectrum()\n",
    "    spectrum.plot()\n",
    "\n",
    "the view on the right is scaled to show the harmonics more clearly. As expected,\n",
    "the highest peak is at the fundamental frequency, 200 Hz, and there are\n",
    "additional peaks at harmonic frequencies, which are integer multiples of\n",
    "200.\n",
    "\n",
    "But one surprise is that there are no peaks at the even multiples: 400,\n",
    "800, etc. The harmonics of a triangle wave are all odd multiples of the\n",
    "fundamental frequency, in this example 600, 1000, 1400, etc.\n",
    "\n",
    "Another feature of this spectrum is the relationship between the\n",
    "amplitude and frequency of the harmonics. Their amplitude drops off in\n",
    "proportion to frequency squared. For example the frequency ratio of the\n",
    "first two harmonics (200 and 600 Hz) is 3, and the amplitude ratio is\n",
    "approximately 9. The frequency ratio of the next two harmonics (600 and\n",
    "1000 Hz) is 1.7, and the amplitude ratio is approximately $1.7^2 = 2.9$.\n",
    "This relationship is called the **harmonic structure**."
   ]
  },
  {
   "cell_type": "code",
   "execution_count": null,
   "metadata": {},
   "outputs": [],
   "source": [
    "spectrum = wave.make_spectrum()\n",
    "spectrum.plot()\n",
    "decorate(xlabel='Frequency (Hz)')"
   ]
  },
  {
   "cell_type": "markdown",
   "metadata": {},
   "source": [
    "## Square waves \n",
    "\n",
    "![Segment of a square signal at 100\n",
    "Hz.](../figs/PNG/square-100-1.pdf-1.png)\n",
    "\n",
    "`thinkdsp` also provides `SquareSignal`, which represents a square\n",
    "signal. Here's the class definition:\n",
    "\n",
    "    class SquareSignal(Sinusoid):\n",
    "\n",
    "        def evaluate(self, ts):\n",
    "            cycles = self.freq * ts + self.offset / PI2\n",
    "            frac, _ = np.modf(cycles)\n",
    "            ys = self.amp * np.sign(unbias(frac))\n",
    "            return ys\n",
    "\n",
    "Like `TriangleSignal`, `SquareSignal` inherits `__init__` from\n",
    "`Sinusoid`, so it takes the same parameters.\n",
    "\n",
    "And the `evaluate` method is similar. Again, `cycles` is the number of\n",
    "cycles since the start time, and `frac` is the fractional part, which\n",
    "ramps from 0 to 1 each period.\n",
    "\n",
    "`unbias` shifts `frac` so it ramps from -0.5 to 0.5, then `np.sign` maps\n",
    "the negative values to -1 and the positive values to 1. Multiplying by\n",
    "`amp` yields a square wave that jumps between `-amp` and `amp`."
   ]
  },
  {
   "cell_type": "code",
   "execution_count": null,
   "metadata": {},
   "outputs": [],
   "source": [
    "from msctools.dsp import SquareSignal\n",
    "\n",
    "signal = SquareSignal(200)\n",
    "duration = signal.period*3\n",
    "segment = signal.make_wave(duration, framerate=10000)\n",
    "segment.plot()\n",
    "decorate(xlabel='Time (s)')"
   ]
  },
  {
   "cell_type": "code",
   "execution_count": null,
   "metadata": {},
   "outputs": [],
   "source": [
    "wave = signal.make_wave(duration=0.5, framerate=10000)\n",
    "wave.apodize()\n",
    "wave.make_audio()"
   ]
  },
  {
   "cell_type": "markdown",
   "metadata": {},
   "source": [
    "Like a triangle wave, the square wave contains only odd harmonics, which\n",
    "is why there are peaks at 300, 500, and 700 Hz, etc. But the amplitude\n",
    "of the harmonics drops off more slowly. Specifically, amplitude drops in\n",
    "proportion to frequency (not frequency squared).\n",
    "\n",
    "The exercises at the end of this chapter give you a chance to explore\n",
    "other waveforms and other harmonic structures."
   ]
  },
  {
   "cell_type": "code",
   "execution_count": null,
   "metadata": {},
   "outputs": [],
   "source": [
    "spectrum = wave.make_spectrum()\n",
    "spectrum.plot()\n",
    "decorate(xlabel='Frequency (Hz)')"
   ]
  },
  {
   "cell_type": "markdown",
   "metadata": {},
   "source": [
    "## Aliasing"
   ]
  },
  {
   "cell_type": "markdown",
   "metadata": {},
   "source": [
    "![Spectrum of a triangle signal at 1100 Hz sampled at 10,000 frames per\n",
    "second. The view on the right is scaled to show the\n",
    "harmonics.](../figs/PNG/triangle-1100-2.pdf-1.png)"
   ]
  },
  {
   "cell_type": "markdown",
   "metadata": {},
   "source": [
    "The harmonics of this wave should be at 3300, 5500, 7700, and 9900 Hz.\n",
    "In the figure, there are peaks at 1100 and 3300 Hz, as expected, but the\n",
    "third peak is at 4500, not 5500 Hz. The fourth peak is at 2300, not 7700\n",
    "Hz. And if you look closely, the peak that should be at 9900 is actually\n",
    "at 100 Hz. What's going on?\n",
    "\n",
    "The problem is that when you evaluate the signal at discrete points in\n",
    "time, you lose information about what happened between samples. For low\n",
    "frequency components, that's not a problem, because you have lots of\n",
    "samples per period.\n",
    "\n",
    "But if you sample a signal at 5000 Hz with 10,000 frames per second, you\n",
    "only have two samples per period. That turns out to be enough, just\n",
    "barely, but if the frequency is higher, it's not.\n",
    "\n",
    "To see why, let's generate cosine signals at 4500 and 5500 Hz, and\n",
    "sample them at 10,000 frames per second:\n",
    "\n",
    "        framerate = 10000\n",
    "\n",
    "        signal = thinkdsp.CosSignal(4500)\n",
    "        duration = signal.period*5\n",
    "        segment = signal.make_wave(duration, framerate=framerate)\n",
    "        segment.plot()\n",
    "\n",
    "        signal = thinkdsp.CosSignal(5500)\n",
    "        segment = signal.make_wave(duration, framerate=framerate)\n",
    "        segment.plot()\n",
    "\n",
    "![Cosine signals at 4500 and 5500 Hz, sampled at 10,000 frames per\n",
    "second. The signals are different, but the samples are\n",
    "identical.](../figs/PNG/aliasing1.pdf-1.png)"
   ]
  },
  {
   "cell_type": "markdown",
   "metadata": {},
   "source": [
    "I plotted the Signals with\n",
    "thin gray lines and the samples using vertical lines, to make it easier\n",
    "to compare the two Waves. The problem should be clear: even though the\n",
    "Signals are different, the Waves are identical!\n",
    "\n",
    "When we sample a 5500 Hz signal at 10,000 frames per second, the result\n",
    "is indistinguishable from a 4500 Hz signal. For the same reason, a 7700\n",
    "Hz signal is indistinguishable from 2300 Hz, and a 9900 Hz is\n",
    "indistinguishable from 100 Hz.\n",
    "\n",
    "This effect is called **aliasing** because when the high frequency\n",
    "signal is sampled, it appears to be a low frequency signal.\n",
    "\n",
    "In this example, the highest frequency we can measure is 5000 Hz, which\n",
    "is half the sampling rate. Frequencies above 5000 Hz are folded back\n",
    "below 5000 Hz, which is why this threshold is sometimes called the\n",
    "\"folding frequency\". It is sometimes also called the **Nyquist\n",
    "frequency**. See <http://en.wikipedia.org/wiki/Nyquist_frequency>.\n",
    "\n",
    "The folding pattern continues if the aliased frequency goes below zero.\n",
    "For example, the 5th harmonic of the 1100 Hz triangle wave is at 12,100\n",
    "Hz. Folded at 5000 Hz, it would appear at -2100 Hz, but it gets folded\n",
    "again at 0 Hz, back to 2100 Hz. In fact, you can see a small peak at\n",
    "2100 Hz in the Figure."
   ]
  },
  {
   "cell_type": "markdown",
   "metadata": {},
   "source": [
    "### Testing\n",
    "\n",
    "Make a cosine signal at 4500 Hz, make a wave at framerate 10 kHz, and plot 5 periods.\n",
    "\n",
    "See how the waveform changes by changing the framerate "
   ]
  },
  {
   "cell_type": "code",
   "execution_count": null,
   "metadata": {},
   "outputs": [],
   "source": [
    "from msctools.dsp import CosSignal\n",
    "\n",
    "signal = CosSignal(4500)\n",
    "duration = signal.period*5\n",
    "segment = signal.make_wave(duration, framerate=10000)\n",
    "segment.plot()\n",
    "decorate(xlabel='Time (s)')"
   ]
  },
  {
   "cell_type": "markdown",
   "metadata": {},
   "source": [
    "Do the same for a cosine and triangle wave. Plot the spectrum of the triange wave and see how that changes with sampling."
   ]
  },
  {
   "cell_type": "markdown",
   "metadata": {},
   "source": [
    "## Computing the spectrum\n",
    "\n",
    "We have seen the Wave method `make_spectrum` several times. Here is the\n",
    "implementation (leaving out some details we'll get to later):\n",
    "\n",
    "    from np.fft import rfft, rfftfreq\n",
    "\n",
    "    # class Wave:\n",
    "        def make_spectrum(self):\n",
    "            n = len(self.ys)\n",
    "            d = 1 / self.framerate\n",
    "\n",
    "            hs = rfft(self.ys)\n",
    "            fs = rfftfreq(n, d)\n",
    "\n",
    "            return Spectrum(hs, fs, self.framerate)\n",
    "\n",
    "The parameter `self` is a Wave object. `n` is the number of samples in\n",
    "the wave, and `d` is the inverse of the frame rate, which is the time\n",
    "between samples.\n",
    "\n",
    "`np.fft` is the NumPy module that provides functions related to the\n",
    "**Fast Fourier Transform** (FFT), which is an efficient algorithm that\n",
    "computes the Discrete Fourier Transform (DFT).\n",
    "\n",
    "`make_spectrum` uses `rfft`, which stands for \"real FFT\", because the\n",
    "Wave contains real values, not complex. Later we'll see the full FFT,\n",
    "which can handle complex signals. The result of `rfft`, which I call\n",
    "`hs`, is a NumPy array of complex numbers that represents the amplitude\n",
    "and phase offset of each frequency component in the wave.\n",
    "\n",
    "The result of `rfftfreq`, which I call `fs`, is an array that contains\n",
    "frequencies corresponding to the `hs`.\n",
    "\n",
    "To understand the values in `hs`, consider these two ways to think about\n",
    "complex numbers:\n",
    "\n",
    "-   A complex number is the sum of a real part and an imaginary part,\n",
    "    often written $x + iy$, where $i$ is the imaginary unit,\n",
    "    $\\sqrt{-1}$. You can think of $x$ and $y$ as Cartesian coordinates.\n",
    "\n",
    "-   A complex number is also the product of a magnitude and a complex\n",
    "    exponential, $A e^{i \\phi}$, where $A$ is the **magnitude** and\n",
    "    $\\phi$ is the **angle** in radians, also called the \"argument\". You\n",
    "    can think of $A$ and $\\phi$ as polar coordinates.\n",
    "\n",
    "Each value in `hs` corresponds to a frequency component: its magnitude\n",
    "is proportional to the amplitude of the corresponding component; its\n",
    "angle is the phase offset.\n",
    "\n",
    "The Spectrum class provides two read-only properties, `amps` and\n",
    "`angles`, which return NumPy arrays representing the magnitudes and\n",
    "angles of the `hs`. When we plot a Spectrum object, we usually plot\n",
    "`amps` versus `fs`. Sometimes it is also useful to plot `angles` versus\n",
    "`fs`.\n",
    "\n",
    "Although it might be tempting to look at the real and imaginary parts of\n",
    "`hs`, you will almost never need to. I encourage you to think of the DFT\n",
    "as a vector of amplitudes and phase offsets that happen to be encoded in\n",
    "the form of complex numbers.\n",
    "\n",
    "To modify a Spectrum, you can access the `hs` directly. For example:\n",
    "\n",
    "    spectrum.hs *= 2\n",
    "    spectrum.hs[spectrum.fs > cutoff] = 0\n",
    "\n",
    "The first line multiples the elements of `hs` by 2, which doubles the\n",
    "amplitudes of all components. The second line sets to 0 only the\n",
    "elements of `hs` where the corresponding frequency exceeds some cutoff\n",
    "frequency.\n",
    "\n",
    "But Spectrum also provides methods to perform these operations:\n",
    "\n",
    "    spectrum.scale(2)\n",
    "    spectrum.low_pass(cutoff)"
   ]
  },
  {
   "cell_type": "markdown",
   "metadata": {},
   "source": [
    "## Amplitude and phase\n",
    "\n",
    "Make a sawtooth wave."
   ]
  },
  {
   "cell_type": "code",
   "execution_count": null,
   "metadata": {},
   "outputs": [],
   "source": [
    "from msctools.dsp import SawtoothSignal\n",
    "\n",
    "signal = SawtoothSignal(500)\n",
    "wave = signal.make_wave(duration=1, framerate=10000)\n",
    "segment = wave.segment(duration=0.005)\n",
    "segment.plot()\n",
    "decorate(xlabel='Time (s)')"
   ]
  },
  {
   "cell_type": "code",
   "execution_count": null,
   "metadata": {
    "scrolled": true
   },
   "outputs": [],
   "source": [
    "wave.make_audio()"
   ]
  },
  {
   "cell_type": "markdown",
   "metadata": {},
   "source": [
    "Extract the wave array and compute the real FFT (which is just an FFT optimized for real inputs)."
   ]
  },
  {
   "cell_type": "code",
   "execution_count": null,
   "metadata": {},
   "outputs": [],
   "source": [
    "import numpy as np\n",
    "\n",
    "hs = np.fft.rfft(wave.ys)\n",
    "hs"
   ]
  },
  {
   "cell_type": "code",
   "execution_count": null,
   "metadata": {},
   "outputs": [],
   "source": [
    "n = len(wave.ys)                 # number of samples\n",
    "d = 1 / wave.framerate           # time between samples\n",
    "fs = np.fft.rfftfreq(n, d)\n",
    "fs"
   ]
  },
  {
   "cell_type": "markdown",
   "metadata": {},
   "source": [
    "Plot the magnitudes vs the frequencies."
   ]
  },
  {
   "cell_type": "code",
   "execution_count": null,
   "metadata": {},
   "outputs": [],
   "source": [
    "import matplotlib.pyplot as plt\n",
    "\n",
    "magnitude = np.absolute(hs)\n",
    "plt.plot(fs, magnitude)\n",
    "decorate(xlabel='Frequency (Hz)')"
   ]
  },
  {
   "cell_type": "markdown",
   "metadata": {},
   "source": [
    "Plot the phases vs the frequencies."
   ]
  },
  {
   "cell_type": "code",
   "execution_count": null,
   "metadata": {},
   "outputs": [],
   "source": [
    "angle = np.angle(hs)\n",
    "plt.plot(fs, angle)\n",
    "decorate(xlabel='Phase (radian)')"
   ]
  },
  {
   "cell_type": "markdown",
   "metadata": {},
   "source": [
    "## What does phase sound like?\n",
    "\n",
    "Shuffle the phases."
   ]
  },
  {
   "cell_type": "code",
   "execution_count": null,
   "metadata": {},
   "outputs": [],
   "source": [
    "import random\n",
    "random.shuffle(angle)\n",
    "plt.plot(fs, angle)\n",
    "decorate(xlabel='Phase (radian)')"
   ]
  },
  {
   "cell_type": "markdown",
   "metadata": {},
   "source": [
    "Put the shuffled phases back into the spectrum.  Each element in `hs` is a complex number with magitude $A$ and phase $\\phi$, with which we can compute $A e^{i \\phi}$"
   ]
  },
  {
   "cell_type": "code",
   "execution_count": null,
   "metadata": {},
   "outputs": [],
   "source": [
    "i = complex(0, 1)\n",
    "spectrum = wave.make_spectrum()\n",
    "spectrum.hs = magnitude * np.exp(i * angle)"
   ]
  },
  {
   "cell_type": "markdown",
   "metadata": {},
   "source": [
    "Convert the spectrum back to a wave (which uses irfft)."
   ]
  },
  {
   "cell_type": "code",
   "execution_count": null,
   "metadata": {},
   "outputs": [],
   "source": [
    "wave2 = spectrum.make_wave()\n",
    "wave2.normalize()\n",
    "segment = wave2.segment(duration=0.005)\n",
    "segment.plot()\n",
    "decorate(xlabel='Time (s)')"
   ]
  },
  {
   "cell_type": "markdown",
   "metadata": {},
   "source": [
    "Play the wave with the shuffled phases."
   ]
  },
  {
   "cell_type": "code",
   "execution_count": null,
   "metadata": {},
   "outputs": [],
   "source": [
    "wave2.make_audio()"
   ]
  },
  {
   "cell_type": "markdown",
   "metadata": {},
   "source": [
    "this is the original for comparison"
   ]
  },
  {
   "cell_type": "code",
   "execution_count": null,
   "metadata": {},
   "outputs": [],
   "source": [
    "wave.make_audio()"
   ]
  },
  {
   "cell_type": "markdown",
   "metadata": {},
   "source": [
    "# Exercises part 2\n",
    "\n",
    "**Exercise 1**. *Make a square signal at 1100 Hz and make a wave that\n",
    "samples it at 10000 frames per second. If you plot the spectrum, you can\n",
    "see that most of the harmonics are aliased. When you listen to the wave,\n",
    "can you hear the aliased harmonics?*\n",
    "\n",
    "**Exercise 2**. *If you have a spectrum object, `spectrum`, and print\n",
    "the first few values of `spectrum.fs`, you'll see that they start at\n",
    "zero. So `spectrum.hs[0]` is the magnitude of the component with\n",
    "frequency 0. But what does that mean?*\n",
    "\n",
    "*Try this experiment:*\n",
    "\n",
    "1.  *Make a triangle signal with frequency 440 and make a Wave with\n",
    "    duration 0.01 seconds. Plot the waveform.*\n",
    "\n",
    "2.  *Make a Spectrum object and print `spectrum.hs[0]`. What is the\n",
    "    amplitude and phase of this component?*\n",
    "\n",
    "3.  *Set `spectrum.hs[0] = 100`. Make a Wave from the modified Spectrum\n",
    "    and plot it. What effect does this operation have on the waveform?*\n",
    "\n",
    "**Exercise 3**. *Write a function that takes a Spectrum as a parameter\n",
    "and modifies it by dividing each element of `hs` by the corresponding\n",
    "frequency from `fs`. Hint: since division by zero is undefined, you\n",
    "might want to set `spectrum.hs[0] = 0`.*\n",
    "\n",
    "*Test your function using a square, triangle, or sawtooth wave.*\n",
    "\n",
    "1.  *Compute the Spectrum and plot it.*\n",
    "\n",
    "2.  *Modify the Spectrum using your function and plot it again.*\n",
    "\n",
    "3.  *Make a Wave from the modified Spectrum and listen to it. What\n",
    "    effect does this operation have on the signal?*\n",
    "\n",
    "**Exercise 4**. *Triangle and square waves have odd harmonics only;\n",
    "the sawtooth wave has both even and odd harmonics. The harmonics of the\n",
    "square and sawtooth waves drop off in proportion to $1/f$; the harmonics\n",
    "of the triangle wave drop off like $1/f^2$. Can you find a waveform that\n",
    "has even and odd harmonics that drop off like $1/f^2$?*\n",
    "\n",
    "*Hint: There are two ways you could approach this: you could construct\n",
    "the signal you want by adding up sinusoids, or you could start with a\n",
    "signal that is similar to what you want and modify it.*"
   ]
  },
  {
   "cell_type": "code",
   "execution_count": null,
   "metadata": {},
   "outputs": [],
   "source": []
  }
 ],
 "metadata": {
  "kernelspec": {
   "display_name": "Python 3 (ipykernel)",
   "language": "python",
   "name": "python3"
  },
  "language_info": {
   "codemirror_mode": {
    "name": "ipython",
    "version": 3
   },
   "file_extension": ".py",
   "mimetype": "text/x-python",
   "name": "python",
   "nbconvert_exporter": "python",
   "pygments_lexer": "ipython3",
   "version": "3.10.11"
  }
 },
 "nbformat": 4,
 "nbformat_minor": 4
}
