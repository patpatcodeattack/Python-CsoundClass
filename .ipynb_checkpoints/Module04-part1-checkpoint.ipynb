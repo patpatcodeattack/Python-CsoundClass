{
 "cells": [
  {
   "cell_type": "markdown",
   "id": "03204fd9-d0ee-45d3-83d4-493b789a4544",
   "metadata": {},
   "source": [
    "# MODULE 04 - PYO - the Python DSP toolbox - PART 1\n",
    "\n",
    "### https://github.com/belangeo/pyo and https://belangeo.github.io/pyo/"
   ]
  },
  {
   "cell_type": "markdown",
   "id": "3187f2b8-5d28-43bb-b259-5a5a16ea4239",
   "metadata": {},
   "source": [
    "Pyo is a Python module written in C to help DSP script creation. Pyo contains classes for a wide variety of audio signal processing. With pyo, the user will be able to include signal processing chains directly in Python scripts or projects, and to manipulate them in real time through the interpreter. Tools in the pyo module offer primitives, like mathematical operations on audio signals, basic signal processing (filters, delays, synthesis generators, etc.), but also complex algorithms to create sound granulation and other creative audio manipulations. pyo supports the OSC protocol (Open Sound Control) to ease communications between softwares, and the MIDI protocol for generating sound events and controlling process parameters. pyo allows the creation of sophisticated signal processing chains with all the benefits of a mature and widely used general programming language."
   ]
  },
  {
   "cell_type": "markdown",
   "id": "d2bc6970-1d0c-481d-9bf0-1920b9e9126a",
   "metadata": {},
   "source": [
    "In most use cases the best way to install pyo on your system is by using a pre-built package for your operating system. These packages are available through pip. \n",
    "\n",
    "``pip install pyo``\n",
    "\n",
    "Pyo also offers some GUI facilities to control or visualize the audio processing. If you want to use all of pyo’s GUI features, you must install WxPython, available on wxpython.org or with pip:\n",
    "\n",
    "``pip install wxpython``"
   ]
  },
  {
   "cell_type": "markdown",
   "id": "8295c181-5f0a-4f24-bd06-f7cbacf18ed6",
   "metadata": {},
   "source": [
    "## Structure of the library\n",
    "\n",
    "<img src=\"structure.png\" width=1200/>"
   ]
  },
  {
   "cell_type": "markdown",
   "id": "62d7253d-16d0-4b24-8cd0-322b72451ce3",
   "metadata": {},
   "source": [
    "## The Pyo Server and GUI\n",
    "\n",
    "The first thing you need to do to use Pyo is import the pyo python module and boot the server. This audio server will open audio and midi interfaces and will be ready to send to them the audio and MIDI produced by other pyo objects. You then need to make some sound:\n",
    "\n",
    "        import pyo\n",
    "        s = pyo.Server().boot()\n",
    "        s.start()\n",
    "        a = pyo.Sine(mul=0.01).out()\n",
    "\n",
    "The s variable holds the Server instance, which has been booted, using the boot function. Booting the server includes opening audio and MIDI interfaces, and setting up the sample rate and number of channels, but the server will not be processing audio until its start() method is called. Then we create a Sine object, and store it in variable a, after calling its out method. The Sine class defines a Sine wave oscillator. The out method from this class connects the output of the oscillator to the server audio outputs. I have set the mul attribute of the Sine object to make sure you don’t blow your ears when you play this, as the default amplitude multiplier is 1, i.e. a sine wave at the maximum amplitude before clipping! (But I’ll talk about attributes later…) You can stop the server with:\n",
    "\n",
    "        s.stop()\n",
    "        \n",
    "Try it in the next cell!"
   ]
  },
  {
   "cell_type": "code",
   "execution_count": 1,
   "id": "33b7440f-145a-4935-aa5d-402528df84bd",
   "metadata": {},
   "outputs": [],
   "source": [
    "# your code here"
   ]
  },
  {
   "cell_type": "markdown",
   "id": "b63b2580-1e75-483a-a2ae-cb49cfe0852b",
   "metadata": {},
   "source": [
    "## Changing Object Characteristics\n",
    "The Sine class constructor is defined as:\n",
    "\n",
    "Sine(self, freq=1000, phase=0, mul=1, add=0)\n",
    "So you can give it a frequency, starting phase, multiplier and DC offset value when you create it. Also, if you want to do without the server gui, you can use the server method start() from your script, but you might need to use the sleep function from the time module to have your script run the server for a while if you are running Python non-interactively:\n",
    "\n",
    "        import pyo\n",
    "        import time\n",
    "        s = pyo.Server().boot()\n",
    "        a = pyo.Sine(440, 0, 0.1).out()\n",
    "        s.start()\n",
    "        time.sleep(1)\n",
    "        s.stop()\n",
    "        \n",
    "Notice that you can set the parameters for Sine in the order in which they are defined, but you can also give the parameters a name if you want to leave the rest at their default:\n",
    "\n",
    "        a = Sine(mul=0.1).out()\n",
    "Once the object has been created, you can modify its attributes using the access methods. For example, to modify the frequency of the a oscillator object after it has been created you can use:\n",
    "\n",
    "        a.setFreq(1000)\n",
    "But you can also set the attributes directly:\n",
    "\n",
    "        a.freq = 1000\n"
   ]
  },
  {
   "cell_type": "markdown",
   "id": "9d2844cc-98a4-46e4-9eb4-2823e177d729",
   "metadata": {},
   "source": [
    "## Chaining objects\n",
    "Oscillators like the Sine class can be used as inputs to other classes, for example for frequency modulation:\n",
    "\n",
    "        import pyo\n",
    "        s = pyo.Server().boot()\n",
    "        mod = pyo.Sine(freq=6, mul=50)\n",
    "        a = Sine(freq=mod + 440, mul=0.1).out()\n",
    "\n",
    "You can create an envelope for a sine wave like this:\n",
    "\n",
    "        import pyo\n",
    "        s = pyo.Server().boot()\n",
    "        f = pyo.Adsr(attack=.01, decay=.2, sustain=.5, release=.1, dur=5, mul=.5)\n",
    "        a = pyo.Sine(mul=f).out()\n",
    "        f.play()"
   ]
  },
  {
   "cell_type": "markdown",
   "id": "9e52fcb5-92e2-44fa-9add-16366a1bee58",
   "metadata": {},
   "source": [
    "**NOTE** PYO Sound Objects will run indefinitely (threading) until stopped with the ``.stop()``\n",
    "method.\n",
    "Also, all PYO objects are Python Classes that share a common core of methods. See http://ajaxsoundstudio.com/pyodoc/api/classes/_core.html for the full documentation and available methods"
   ]
  },
  {
   "cell_type": "markdown",
   "id": "8deb1a0a-e299-4d32-923e-d59eedbc2dda",
   "metadata": {},
   "source": [
    "**NOTE**  While on Mac and Linux audio configuration does not pose particular issues (if one wants to use \n",
    "``jack audio``\n",
    "just add \n",
    "``audio='jackd'``\n",
    "in the Server setup), on Windows there are specific instructions here: https://ajaxsoundstudio.com/pyodoc/winaudioinspect.html"
   ]
  },
  {
   "cell_type": "markdown",
   "id": "2282d8cf-0e7a-4b4b-bb45-5119729aa0d9",
   "metadata": {},
   "source": [
    "## From here we refer to the Examples sections of the PYO documentation: https://belangeo.github.io/pyo/examples/index.html"
   ]
  },
  {
   "cell_type": "markdown",
   "id": "c9c8fb2d-8c90-43dd-b73a-e243bb852ce4",
   "metadata": {},
   "source": [
    "# Intro"
   ]
  },
  {
   "cell_type": "markdown",
   "id": "7a2d2cfd-6ee8-4f3d-a2e1-6b61f700c06a",
   "metadata": {},
   "source": [
    "# NOTE\n",
    "Class examples\n",
    "All Classes in Pyo come with an example which shows how it can be used. To execute the example you can do:\n",
    "\n",
    "        import pyo\n",
    "        example(pyo.Harmonizer)\n",
    "This will show and execute the example for the Harmonizer class."
   ]
  },
  {
   "cell_type": "markdown",
   "id": "7bcedc27-b269-4832-8062-a7ba1ed41f61",
   "metadata": {},
   "source": [
    "### Starting the Server"
   ]
  },
  {
   "cell_type": "code",
   "execution_count": 1,
   "id": "d986dcda-8922-4105-bbf1-28f8036b47fb",
   "metadata": {},
   "outputs": [],
   "source": [
    "import pyo"
   ]
  },
  {
   "cell_type": "code",
   "execution_count": 2,
   "id": "e7bfc210-abfc-44a8-9a5e-def49727f47e",
   "metadata": {},
   "outputs": [
    {
     "name": "stdout",
     "output_type": "stream",
     "text": [
      "AUDIO devices:\n",
      "0: OUT, name: LG TV, host api index: 0, default sr: 44100 Hz, latency: 0.010703 s\n",
      "1: IN, name: F# Microphone, host api index: 0, default sr: 48000 Hz, latency: 0.128417 s\n",
      "2: IN, name: Yamaha DM7, host api index: 0, default sr: 48000 Hz, latency: 0.010000 s\n",
      "2: OUT, name: Yamaha DM7, host api index: 0, default sr: 48000 Hz, latency: 0.004354 s\n",
      "3: IN, name: Hue Sync Audio, host api index: 0, default sr: 48000 Hz, latency: 0.010000 s\n",
      "3: OUT, name: Hue Sync Audio, host api index: 0, default sr: 48000 Hz, latency: 0.012000 s\n",
      "4: IN, name: BlackHole 128ch, host api index: 0, default sr: 44100 Hz, latency: 0.010000 s\n",
      "4: OUT, name: BlackHole 128ch, host api index: 0, default sr: 44100 Hz, latency: 0.001451 s\n",
      "5: IN, name: BlackHole 256ch, host api index: 0, default sr: 48000 Hz, latency: 0.010000 s\n",
      "5: OUT, name: BlackHole 256ch, host api index: 0, default sr: 48000 Hz, latency: 0.001333 s\n",
      "6: IN, name: BlackHole 64ch, host api index: 0, default sr: 44100 Hz, latency: 0.010000 s\n",
      "6: OUT, name: BlackHole 64ch, host api index: 0, default sr: 44100 Hz, latency: 0.001451 s\n",
      "7: IN, name: MacBook Pro Microphone, host api index: 0, default sr: 48000 Hz, latency: 0.052854 s\n",
      "8: OUT, name: MacBook Pro Speakers, host api index: 0, default sr: 48000 Hz, latency: 0.018708 s\n",
      "9: IN, name: Microsoft Teams Audio, host api index: 0, default sr: 48000 Hz, latency: 0.010000 s\n",
      "9: OUT, name: Microsoft Teams Audio, host api index: 0, default sr: 48000 Hz, latency: 0.001333 s\n",
      "10: IN, name: Pro Tools Audio Bridge 16, host api index: 0, default sr: 48000 Hz, latency: 0.010000 s\n",
      "10: OUT, name: Pro Tools Audio Bridge 16, host api index: 0, default sr: 48000 Hz, latency: 0.001333 s\n",
      "11: IN, name: Pro Tools Audio Bridge 2-A, host api index: 0, default sr: 48000 Hz, latency: 0.010000 s\n",
      "11: OUT, name: Pro Tools Audio Bridge 2-A, host api index: 0, default sr: 48000 Hz, latency: 0.001333 s\n",
      "12: IN, name: Pro Tools Audio Bridge 2-B, host api index: 0, default sr: 48000 Hz, latency: 0.010000 s\n",
      "12: OUT, name: Pro Tools Audio Bridge 2-B, host api index: 0, default sr: 48000 Hz, latency: 0.001333 s\n",
      "13: IN, name: Pro Tools Audio Bridge 32, host api index: 0, default sr: 48000 Hz, latency: 0.010000 s\n",
      "13: OUT, name: Pro Tools Audio Bridge 32, host api index: 0, default sr: 48000 Hz, latency: 0.001333 s\n",
      "14: IN, name: Pro Tools Audio Bridge 64, host api index: 0, default sr: 48000 Hz, latency: 0.010000 s\n",
      "14: OUT, name: Pro Tools Audio Bridge 64, host api index: 0, default sr: 48000 Hz, latency: 0.001333 s\n",
      "15: IN, name: Pro Tools Audio Bridge 6, host api index: 0, default sr: 48000 Hz, latency: 0.010000 s\n",
      "15: OUT, name: Pro Tools Audio Bridge 6, host api index: 0, default sr: 48000 Hz, latency: 0.001333 s\n",
      "16: IN, name: EpocCam Microphone, host api index: 0, default sr: 44100 Hz, latency: 0.010000 s\n",
      "16: OUT, name: EpocCam Microphone, host api index: 0, default sr: 44100 Hz, latency: 0.006893 s\n",
      "18: IN, name: ZoomAudioDevice, host api index: 0, default sr: 48000 Hz, latency: 0.010000 s\n",
      "18: OUT, name: ZoomAudioDevice, host api index: 0, default sr: 48000 Hz, latency: 0.033333 s\n",
      "\n"
     ]
    }
   ],
   "source": [
    "pyo.pa_list_devices()"
   ]
  },
  {
   "cell_type": "code",
   "execution_count": 3,
   "id": "c69a1162-e70a-42b4-9d4b-6cd782ece74f",
   "metadata": {},
   "outputs": [
    {
     "data": {
      "text/plain": [
       "2"
      ]
     },
     "execution_count": 3,
     "metadata": {},
     "output_type": "execute_result"
    }
   ],
   "source": [
    "pyo.pa_get_default_output()"
   ]
  },
  {
   "cell_type": "code",
   "execution_count": 4,
   "id": "f3ddaab0-2d62-4d11-a5ec-eb7233b1136c",
   "metadata": {},
   "outputs": [
    {
     "data": {
      "text/plain": [
       "<pyo.lib.server.Server at 0x1129dd270>"
      ]
     },
     "execution_count": 4,
     "metadata": {},
     "output_type": "execute_result"
    }
   ],
   "source": [
    "# Creates a Server object with default arguments.\n",
    "# See the manual about how to change the sampling rate, the buffer\n",
    "# size, the number of channels or one of the other global settings.\n",
    "s = pyo.Server(duplex=0)\n",
    "\n",
    "# Boots the server. This step initializes audio and midi streams.\n",
    "# Audio and midi configurations (if any) must be done before that call.\n",
    "s.boot()\n",
    "\n",
    "# Starts the server. This step activates the server processing loop.\n",
    "s.start()"
   ]
  },
  {
   "cell_type": "code",
   "execution_count": 5,
   "id": "923d4ee0-6cf9-46ad-b5da-0eafbac17cbf",
   "metadata": {},
   "outputs": [],
   "source": [
    "# Here comes the processing chain..."
   ]
  },
  {
   "cell_type": "code",
   "execution_count": 6,
   "id": "808c0168-11ed-434d-bccb-e4c505a06b2c",
   "metadata": {},
   "outputs": [],
   "source": [
    "# s.stop()"
   ]
  },
  {
   "cell_type": "markdown",
   "id": "cb8bbb92-c035-43ec-8a44-524093abb06a",
   "metadata": {},
   "source": [
    "*Code snippet to check if a server is running and restart it if not:*"
   ]
  },
  {
   "cell_type": "code",
   "execution_count": 7,
   "id": "a87b27e9-9215-4358-be66-4dab9160d2ec",
   "metadata": {},
   "outputs": [
    {
     "name": "stdout",
     "output_type": "stream",
     "text": [
      "PYO Server running\n"
     ]
    }
   ],
   "source": [
    "if s.getIsStarted():\n",
    "    print('PYO Server running')\n",
    "    pass\n",
    "else:\n",
    "    import pyo\n",
    "    s = pyo.Server(duplex=0).boot()\n",
    "    s.amp = 0.1\n",
    "    s.start()"
   ]
  },
  {
   "cell_type": "markdown",
   "id": "b4bbaad0-ff89-4e96-8a77-655eeef3ab99",
   "metadata": {},
   "source": [
    "**NOTE** *s* is set as global variable and **CANNOT** be used as regular variable!!!"
   ]
  },
  {
   "cell_type": "markdown",
   "id": "0ba0facf-69d5-460c-aaf5-fc71c8424f5b",
   "metadata": {},
   "source": [
    "### Sine tone"
   ]
  },
  {
   "cell_type": "code",
   "execution_count": 10,
   "id": "15308462-e1ea-47df-a31f-89019a10f589",
   "metadata": {},
   "outputs": [],
   "source": [
    "# Creates a sine wave player.\n",
    "# The out() method starts the processing\n",
    "# and sends the signal to the output.\n",
    "a = pyo.Sine().out()"
   ]
  },
  {
   "cell_type": "code",
   "execution_count": 11,
   "id": "546f5b9c-27e3-4fce-a957-a6af6c81410d",
   "metadata": {},
   "outputs": [
    {
     "data": {
      "text/plain": [
       "< Instance of Sine class >"
      ]
     },
     "execution_count": 11,
     "metadata": {},
     "output_type": "execute_result"
    }
   ],
   "source": [
    "a.stop()"
   ]
  },
  {
   "cell_type": "code",
   "execution_count": 32,
   "id": "ac486515-f443-4cfb-9e77-48ad38593b75",
   "metadata": {},
   "outputs": [],
   "source": [
    "# s.stop()"
   ]
  },
  {
   "cell_type": "markdown",
   "id": "69d662f3-92ec-4757-9ad5-0cb21807c41b",
   "metadata": {},
   "source": [
    "### Multiple processes on a single source (parallel).\n",
    "This example shows how to play different audio objects side-by-side. Every processing object (ie the ones that modify an audio source) have a first argument called “input”. This argument takes the audio object to process.\n",
    "\n",
    "Note the input variable given to each processing object and the call to the out() method of each object that should send its samples to the output."
   ]
  },
  {
   "cell_type": "code",
   "execution_count": 38,
   "id": "db39722a-350d-4dd6-a50e-df1df25bf3e6",
   "metadata": {},
   "outputs": [
    {
     "name": "stdout",
     "output_type": "stream",
     "text": [
      "PYO Server running\n"
     ]
    }
   ],
   "source": [
    "if s.getIsStarted():\n",
    "    print('PYO Server running')\n",
    "    pass\n",
    "else:\n",
    "    import pyo\n",
    "    s = pyo.Server(duplex=0).boot()\n",
    "    s.amp = 0.1\n",
    "    s.start()\n",
    "\n",
    "# Creates a sine wave as the source to process.\n",
    "a = pyo.Sine()\n",
    "\n",
    "# Passes the sine wave through an harmonizer.\n",
    "hr = pyo.Harmonizer(a).out()\n",
    "\n",
    "# Also through a chorus.\n",
    "ch = pyo.Chorus(a).out()\n",
    "\n",
    "# And through a frequency shifter.\n",
    "sh = pyo.FreqShift(a).out()"
   ]
  },
  {
   "cell_type": "code",
   "execution_count": 39,
   "id": "74defc55-f26a-4c85-bb5a-5715c9cf79d7",
   "metadata": {},
   "outputs": [
    {
     "data": {
      "text/plain": [
       "< Instance of Harmonizer class >"
      ]
     },
     "execution_count": 39,
     "metadata": {},
     "output_type": "execute_result"
    }
   ],
   "source": [
    "hr.stop()"
   ]
  },
  {
   "cell_type": "code",
   "execution_count": 40,
   "id": "654d8949-dad1-4d6f-8235-39d29bd24cd8",
   "metadata": {},
   "outputs": [
    {
     "data": {
      "text/plain": [
       "< Instance of Chorus class >"
      ]
     },
     "execution_count": 40,
     "metadata": {},
     "output_type": "execute_result"
    }
   ],
   "source": [
    "ch.stop()"
   ]
  },
  {
   "cell_type": "code",
   "execution_count": 41,
   "id": "c5fac0c6-0ffa-4252-a4e3-8d5f04a041c5",
   "metadata": {},
   "outputs": [
    {
     "data": {
      "text/plain": [
       "< Instance of FreqShift class >"
      ]
     },
     "execution_count": 41,
     "metadata": {},
     "output_type": "execute_result"
    }
   ],
   "source": [
    "sh.stop()"
   ]
  },
  {
   "cell_type": "markdown",
   "id": "20a7abae-d3ef-4644-b793-c13ee6ed7982",
   "metadata": {},
   "source": [
    "**From now on we leave the Server running...**"
   ]
  },
  {
   "cell_type": "markdown",
   "id": "5b391e9c-cd70-4e65-9842-365b42f18c96",
   "metadata": {},
   "source": [
    "### Chaining processes on a single source (serial).\n",
    "This example shows how to chain processes on a single source. Every processing object (ie the ones that modify an audio source) have a first argument called “input”. This argument takes the audio object to process.\n",
    "\n",
    "Note the input variable given to each Harmonizer."
   ]
  },
  {
   "cell_type": "code",
   "execution_count": 42,
   "id": "1bf7d622-2b7a-4571-9fa6-f1fac4e771c2",
   "metadata": {},
   "outputs": [],
   "source": [
    "# Creates a sine wave as the source to process.\n",
    "a = pyo.Sine().out()\n",
    "\n",
    "# Passes the sine wave through an harmonizer.\n",
    "h1 = pyo.Harmonizer(a).out()\n",
    "\n",
    "# Then the harmonized sound through another harmonizer.\n",
    "h2 = pyo.Harmonizer(h1).out()\n",
    "\n",
    "# And again...\n",
    "h3 = pyo.Harmonizer(h2).out()\n",
    "\n",
    "# And again...\n",
    "h4 = pyo.Harmonizer(h3).out()"
   ]
  },
  {
   "cell_type": "code",
   "execution_count": 43,
   "id": "ff7c2e2f-8620-40ac-99d5-ce46f847c0d6",
   "metadata": {},
   "outputs": [
    {
     "data": {
      "text/plain": [
       "< Instance of Harmonizer class >"
      ]
     },
     "execution_count": 43,
     "metadata": {},
     "output_type": "execute_result"
    }
   ],
   "source": [
    "a.stop()\n",
    "h1.stop()\n",
    "h2.stop()\n",
    "h3.stop()\n",
    "h4.stop()"
   ]
  },
  {
   "cell_type": "markdown",
   "id": "a1d1d84b-7ba0-4061-b002-14c23cd81a8c",
   "metadata": {},
   "source": [
    "### Sending signals to different physical outputs.\n",
    "The simplest way to choose the output channel where to send the sound is to give it as the first argument of the out() method. In fact, the signature of the out() method reads as:\n",
    "\n",
    ".out(chnl=0, inc=1, dur=0, delay=0)\n",
    "\n",
    "chnl is the output where to send the first audio channel (stream) of the object. inc is the output increment for other audio channels. dur is the living duration, in seconds, of the process and delay is a delay, in seconds, before activating the process. A duration of 0 means play forever."
   ]
  },
  {
   "cell_type": "code",
   "execution_count": 46,
   "id": "b575d366-db89-448c-81e6-7ce41d2ec9ad",
   "metadata": {},
   "outputs": [],
   "source": [
    "# Creates a source (white noise)\n",
    "n = pyo.Noise()\n",
    "\n",
    "# Sends the bass frequencies (below 1000 Hz) to the left\n",
    "lp = pyo.ButLP(n).out()\n",
    "\n",
    "# Sends the high frequencies (above 1000 Hz) to the right\n",
    "hp = pyo.ButHP(n).out(1)"
   ]
  },
  {
   "cell_type": "code",
   "execution_count": 47,
   "id": "fe22264a-d5a0-4c5f-a06d-f83e0786c3d8",
   "metadata": {},
   "outputs": [
    {
     "data": {
      "text/plain": [
       "< Instance of ButLP class >"
      ]
     },
     "execution_count": 47,
     "metadata": {},
     "output_type": "execute_result"
    }
   ],
   "source": [
    "lp.stop()"
   ]
  },
  {
   "cell_type": "code",
   "execution_count": 48,
   "id": "78526cd5-f677-48f2-8bfe-549205826d65",
   "metadata": {},
   "outputs": [
    {
     "data": {
      "text/plain": [
       "< Instance of ButHP class >"
      ]
     },
     "execution_count": 48,
     "metadata": {},
     "output_type": "execute_result"
    }
   ],
   "source": [
    "hp.stop()"
   ]
  },
  {
   "cell_type": "markdown",
   "id": "91eee4f1-52cc-4871-a735-b201bc59482b",
   "metadata": {},
   "source": [
    "In a **multichannel environment**, we can carefully choose which stream goes to which output channel. To achieve this, we use the chnl and inc arguments of the out method.\n",
    "\n",
    "chnl : Physical output assigned to the first audio stream of the object. inc : Output channel increment value.\n",
    "\n",
    "If chnl is negative, streams begin at 0, increment the output number by inc and wrap around the global number of channels. Then, the list of streams is scrambled.\n",
    "\n",
    "**NOTE** The number of channels (input and output) is set by the Server in booting and can be controlled there: \n",
    "\n",
    "``s = Server(nchnls=8).boot()``\n",
    "\n",
    "for an 8 channel environment."
   ]
  },
  {
   "cell_type": "markdown",
   "id": "eca4ede9-af37-4548-b8dc-3580d392de7f",
   "metadata": {},
   "source": [
    "# Exercise\n",
    "\n",
    "Synthesize a compound signal by using signal generator objects and adding them up."
   ]
  },
  {
   "cell_type": "code",
   "execution_count": null,
   "id": "0e964f23-3413-4e7f-a23b-7f48e5298c48",
   "metadata": {},
   "outputs": [],
   "source": [
    "# your code here"
   ]
  },
  {
   "cell_type": "markdown",
   "id": "7f2cf5b1-64f8-4b5d-b470-630233e109f1",
   "metadata": {},
   "source": [
    "# Controls"
   ]
  },
  {
   "cell_type": "markdown",
   "id": "32c0986d-146d-4cef-b637-d3f27d0032e5",
   "metadata": {},
   "source": [
    "### Number as argument\n",
    "\n",
    "Audio objects behaviour can be controlled by passing value to their arguments at initialization time."
   ]
  },
  {
   "cell_type": "code",
   "execution_count": null,
   "id": "e0ba1f37-efa8-4d3d-a208-98893ab9623c",
   "metadata": {},
   "outputs": [],
   "source": []
  },
  {
   "cell_type": "code",
   "execution_count": null,
   "id": "d06ad902-f5f2-4594-ace6-b17269030f89",
   "metadata": {},
   "outputs": [],
   "source": [
    "if s.getIsStarted():\n",
    "    print('PYO Server running')\n",
    "    pass\n",
    "else:\n",
    "    import pyo\n",
    "    s = pyo.Server().boot()\n",
    "    s.amp = 0.1\n",
    "    s.start()"
   ]
  },
  {
   "cell_type": "code",
   "execution_count": null,
   "id": "62ad06cd-f741-4c62-bfb4-0e11d5a7ea2a",
   "metadata": {},
   "outputs": [],
   "source": [
    "# Sets fundamental frequency\n",
    "freq = 200\n",
    "\n",
    "# Approximates a triangle waveform by adding odd harmonics with\n",
    "# amplitude proportional to the inverse square of the harmonic number.\n",
    "h1 = pyo.Sine(freq=freq, mul=1).out()\n",
    "h2 = pyo.Sine(freq=freq * 3, phase=0.5, mul=1.0 / pow(3, 2)).out()\n",
    "h3 = pyo.Sine(freq=freq * 5, mul=1.0 / pow(5, 2)).out()\n",
    "h4 = pyo.Sine(freq=freq * 7, phase=0.5, mul=1.0 / pow(7, 2)).out()\n",
    "h5 = pyo.Sine(freq=freq * 9, mul=1.0 / pow(9, 2)).out()\n",
    "h6 = pyo.Sine(freq=freq * 11, phase=0.5, mul=1.0 / pow(11, 2)).out()\n",
    "\n",
    "# Displays the final waveform\n",
    "sp = pyo.Scope(h1 + h2 + h3 + h4 + h5 + h6)\n",
    "\n",
    "s.gui(locals())"
   ]
  },
  {
   "cell_type": "markdown",
   "id": "884c1aa2-2c13-49f9-9971-4f381f26f53c",
   "metadata": {},
   "source": [
    "### Graphical control for parameters.\n",
    "With pyo, it’s easy to quickly try some parameter combination with the controller window already configured for each object. To open the controller window, just call the ctrl() method on the object you want to control.\n",
    "\n",
    "**NOTE** You need to install wxPython to use the GUI for graphical control of the parameters. <br>\n",
    "**NOTE** When running in a jupyter environment graphical controls might not always work and/or will force the kernel to restart!"
   ]
  },
  {
   "cell_type": "code",
   "execution_count": 2,
   "id": "7e7dd5c0-7e76-4b96-9b91-416ebc6b3a35",
   "metadata": {},
   "outputs": [
    {
     "name": "stdout",
     "output_type": "stream",
     "text": [
      "Pyo warning: Portaudio input device `MacBook Pro Microphone` has fewer channels (1) than requested (2).\n"
     ]
    }
   ],
   "source": [
    "try:\n",
    "    if s.getIsStarted():\n",
    "        print('PYO Server running')\n",
    "        pass\n",
    "except:\n",
    "    import pyo\n",
    "    s = pyo.Server(duplex=0).boot()\n",
    "    s.amp = 0.1\n",
    "    s.start()"
   ]
  },
  {
   "cell_type": "code",
   "execution_count": null,
   "id": "59e1132f-53f0-4552-862c-289b23dc57f8",
   "metadata": {},
   "outputs": [],
   "source": [
    "# Creates two objects with cool parameters, one per channel.\n",
    "a = pyo.FM().out()\n",
    "b = pyo.FM().out(1)\n",
    "\n",
    "# Opens the controller windows.\n",
    "a.ctrl(title=\"Frequency modulation left channel\")\n",
    "b.ctrl(title=\"Frequency modulation right channel\")\n",
    "\n",
    "# If a list of values is given at a particular argument, the ctrl\n",
    "# window will show a multislider to set each value separately.\n",
    "\n",
    "oscs = pyo.Sine([100, 200, 300, 400, 500, 600, 700, 800], mul=0.1).out()\n",
    "oscs.ctrl(title=\"Simple additive synthesis\")\n",
    "\n",
    "s.gui(locals())"
   ]
  },
  {
   "cell_type": "markdown",
   "id": "40d13af6-b537-42bd-a248-b7938580e6a9",
   "metadata": {},
   "source": [
    "**NOTE** Remember that one doesn't neet the GUI to control parameters. Values of parameters can be always changed by the\n",
    "``.set\"PARAM\"()`` method!"
   ]
  },
  {
   "cell_type": "markdown",
   "id": "754ca8db-5dd0-4b78-959b-8a08a7db88c3",
   "metadata": {},
   "source": [
    "### The mul and add attributes.\n",
    "Almost all audio objects have a mul and add attributes. These are defined inside the PyoObject, which is the base class for all objects generating audio signal. The manual page of the PyoObject explains all behaviours common to audio objects.\n",
    "\n",
    "An audio signal outputs samples as floating-point numbers in the range -1 to 1. The mul and add attributes can be used to change the output range. Common uses are for modulating the amplitude of a sound or for building control signals like low frequency oscillators.\n",
    "\n",
    "A shortcut to automatically manipulate both mul and add attributes is to call the range(min, max) method of the PyoObject. This method sets mul and add attributes according to the desired min and max output values. It assumes that the generated signal is in the range -1 to 1."
   ]
  },
  {
   "cell_type": "code",
   "execution_count": 1,
   "id": "907dbdf3-83a1-4008-85d2-981db4c979e4",
   "metadata": {},
   "outputs": [],
   "source": [
    "try:\n",
    "    if s.getIsStarted():\n",
    "        print('PYO Server running')\n",
    "        pass\n",
    "except:\n",
    "    import pyo\n",
    "    s = pyo.Server(duplex=0).boot()\n",
    "    s.amp = 0.1\n",
    "    s.start()"
   ]
  },
  {
   "cell_type": "code",
   "execution_count": null,
   "id": "ff57d95c-2b65-4ca8-a0c4-45f966176961",
   "metadata": {},
   "outputs": [],
   "source": [
    "# The `mul` attribute multiplies each sample by its value.\n",
    "a = pyo.Sine(freq=100, mul=0.1)\n",
    "\n",
    "# The `add` attribute adds an offset to each sample.\n",
    "# The multiplication is applied before the addition.\n",
    "b = pyo.Sine(freq=100, mul=0.5, add=0.5)\n",
    "\n",
    "# Using the range(min, max) method allows to automatically\n",
    "# compute both `mul` and `add` attributes.\n",
    "c = pyo.Sine(freq=100).range(-0.25, 0.5)\n",
    "\n",
    "# Displays the waveforms\n",
    "sc = pyo.Scope([a, b, c])\n",
    "\n",
    "s.gui(locals())"
   ]
  },
  {
   "cell_type": "markdown",
   "id": "9aec8d55-8199-4f06-b96a-eccadd0b6478",
   "metadata": {},
   "source": [
    "### Audio control of parameters.\n",
    "One of the most important thing with computer music is the trajectories taken by parameters over time. This is what gives life to the synthesized sound.\n",
    "\n",
    "One way to create moving values is by connecting a low frequency oscillator to an object’s attribute. This script shows that process.\n",
    "\n",
    "Other possibilities that will be covered later use random class objects or feature extraction from an audio signal."
   ]
  },
  {
   "cell_type": "code",
   "execution_count": 1,
   "id": "7c61b428-ccfc-4b8f-8b59-c6635d90dec9",
   "metadata": {},
   "outputs": [],
   "source": [
    "try:\n",
    "    if s.getIsStarted():\n",
    "        print('PYO Server running')\n",
    "        pass\n",
    "except:\n",
    "    import pyo\n",
    "    s = pyo.Server(duplex=0).boot()\n",
    "    s.amp = 0.1\n",
    "    s.start()"
   ]
  },
  {
   "cell_type": "code",
   "execution_count": 2,
   "id": "f0470571-8690-47be-8447-35cd549484db",
   "metadata": {},
   "outputs": [],
   "source": [
    "# Creates a noise source\n",
    "n = pyo.Noise()\n",
    "\n",
    "# Creates an LFO oscillating +/- 500 around 1000 (filter's frequency)\n",
    "lfo1 = pyo.Sine(freq=0.1, mul=500, add=1000)\n",
    "# Creates an LFO oscillating between 2 and 8 (filter's Q)\n",
    "lfo2 = pyo.Sine(freq=0.4).range(2, 8)\n",
    "# Creates a dynamic bandpass filter applied to the noise source\n",
    "bp1 = pyo.ButBP(n, freq=lfo1, q=lfo2).out()"
   ]
  },
  {
   "cell_type": "code",
   "execution_count": 3,
   "id": "13a968ef-e00b-4b40-aa96-b60c936546e3",
   "metadata": {},
   "outputs": [],
   "source": [
    "# Beyond Sine waves LFOs - check the pyo object pyo.LFO\n",
    "\n",
    "# Creates a ramp oscillating +/- 1000 around 12000 (filter's frequency)\n",
    "lfo3 = pyo.LFO(freq=0.25, type=1, mul=1000, add=1200)\n",
    "# Creates a square oscillating between 4 and 12 (filter's Q)\n",
    "lfo4 = pyo.LFO(freq=4, type=2).range(4, 12)\n",
    "# Creates a second dynamic bandpass filter applied to the noise source\n",
    "bp2 = pyo.ButBP(n, freq=lfo3, q=lfo4).out(1)"
   ]
  },
  {
   "cell_type": "code",
   "execution_count": 4,
   "id": "3e3d103f-723c-4274-a447-b32338b8a1a8",
   "metadata": {},
   "outputs": [
    {
     "data": {
      "text/plain": [
       "< Instance of ButBP class >"
      ]
     },
     "execution_count": 4,
     "metadata": {},
     "output_type": "execute_result"
    }
   ],
   "source": [
    "bp1.stop()\n",
    "bp2.stop()"
   ]
  },
  {
   "cell_type": "markdown",
   "id": "1732e853-f8ce-4624-9619-d39a64ecee84",
   "metadata": {},
   "source": [
    "### Audio objects and arithmetic expressions.\n",
    "\n",
    "Multiplication, addition, division and substraction can be applied between pyo objects or between pyo objects and numbers. Doing so returns a Dummy object that outputs the result of the operation.\n",
    "\n",
    "A Dummy object is only a place holder to keep track of arithmetic operations on audio objects.\n",
    "\n",
    "PyoObject can also be used in expression with the exponent (**), modulo (%) and unary negative (-) operators."
   ]
  },
  {
   "cell_type": "code",
   "execution_count": null,
   "id": "bad729f9-6c12-4bab-a777-0e6e08b9670d",
   "metadata": {},
   "outputs": [],
   "source": [
    "a = pyo.Sine()\n",
    "\n",
    "# Creates a Dummy object `b` with `mul` attribute\n",
    "# set to 0.5 and leaves `a` unchanged.\n",
    "b = a * 0.5\n",
    "b.out()\n",
    "\n",
    "# Computes a ring modulation between two PyoObjects\n",
    "# and scales the amplitude of the resulting signal.\n",
    "c = pyo.Sine(300)\n",
    "d = a * c * 0.3\n",
    "d.out()\n",
    "\n",
    "# PyoObject can be used with Exponent operator.\n",
    "e = c ** 10 * 0.4\n",
    "e.out(1)\n",
    "\n",
    "display = True\n",
    "if display:\n",
    "    # Displays the ringmod and the rectified signals.\n",
    "    sp = pyo.Spectrum([d, e])\n",
    "    sc = pyo.Scope([d, e])\n",
    "\n",
    "    s.gui(locals())"
   ]
  },
  {
   "cell_type": "code",
   "execution_count": 6,
   "id": "a0765f5e-264a-4043-a979-eb6b9bd40e23",
   "metadata": {},
   "outputs": [
    {
     "data": {
      "text/plain": [
       "< Instance of ArithmeticDummy class >"
      ]
     },
     "execution_count": 6,
     "metadata": {},
     "output_type": "execute_result"
    }
   ],
   "source": [
    "b.stop()\n",
    "d.stop()\n",
    "e.stop()"
   ]
  },
  {
   "cell_type": "markdown",
   "id": "3609dfaf-dbe3-4a81-87b3-d1c035122bba",
   "metadata": {},
   "source": [
    "### Polyphonic objects.\n",
    "List expansion is a powerful technique for generating many audio streams at once.\n",
    "\n",
    "What is a “stream”? A “stream” is a monophonic channel of samples. It is the basic structure over which all the library is built. Any PyoObject can handle as many streams as necessary to represent the defined process. When a polyphonic (ie more than one stream) object is asked to send its signals to the output, the server will use the arguments (chnl and inc) of the out() method to distribute the streams over the available output channels.\n",
    "\n",
    "Almost all attributes of all objects of the library accept list of values instead of a single value. The object will create internally the same number of streams than the length of the largest list given to an attribute at the initialization time. Each value of the list is used to generate one stream. Shorter lists will wrap around when reaching the end of the list.\n",
    "\n",
    "A PyoObject is considered by other object as a list. The function len(obj) returns the number of streams managed by the object. This feature is useful to create a polyphonic dsp chain."
   ]
  },
  {
   "cell_type": "code",
   "execution_count": 1,
   "id": "82962d0f-c298-4e26-a38a-30892326228d",
   "metadata": {},
   "outputs": [],
   "source": [
    "try:\n",
    "    if s.getIsStarted():\n",
    "        print('PYO Server running')\n",
    "        pass\n",
    "except:\n",
    "    import pyo\n",
    "    s = pyo.Server(duplex=0).boot()\n",
    "    s.amp = 0.1\n",
    "    s.start()"
   ]
  },
  {
   "cell_type": "code",
   "execution_count": null,
   "id": "90c4f2f5-7e7b-42ac-b671-22b9697e200e",
   "metadata": {},
   "outputs": [
    {
     "name": "stdout",
     "output_type": "stream",
     "text": [
      "we have  10 streams\n"
     ]
    }
   ],
   "source": [
    "### Using multichannel-expansion to create a square wave\n",
    "\n",
    "# Sets fundamental frequency.\n",
    "freq = 100\n",
    "# Sets the highest harmonic.\n",
    "high = 20\n",
    "\n",
    "# Generates the list of harmonic frequencies (odd only).\n",
    "harms = [freq * i for i in range(1, high) if i % 2 == 1]\n",
    "# Generates the list of harmonic amplitudes (1 / n).\n",
    "amps = [0.33 / i for i in range(1, high) if i % 2 == 1]\n",
    "\n",
    "# Creates all sine waves at once.\n",
    "a = pyo.Sine(freq=harms, mul=amps)\n",
    "# Prints the number of streams managed by \"a\".\n",
    "print('we have ',len(a),'streams')\n",
    "\n",
    "# The mix(voices) method (defined in PyoObject) mixes\n",
    "# the object streams into `voices` streams.\n",
    "b = a.mix(voices=2).out(0,1)\n",
    "\n",
    "display = True\n",
    "if display:\n",
    "    # Displays the waveform.\n",
    "    sc = pyo.Scope(b)\n",
    "\n",
    "    s.gui(locals())"
   ]
  },
  {
   "cell_type": "code",
   "execution_count": 5,
   "id": "e84953f9-0ede-4553-8ba9-b472cb5a0704",
   "metadata": {},
   "outputs": [
    {
     "data": {
      "text/plain": [
       "< Instance of Mix class >"
      ]
     },
     "execution_count": 5,
     "metadata": {},
     "output_type": "execute_result"
    }
   ],
   "source": [
    "b.stop()"
   ]
  },
  {
   "cell_type": "markdown",
   "id": "8be7123c-1579-46e3-ae29-cde03661f14a",
   "metadata": {},
   "source": [
    "When using multichannel expansion with lists of different lengths, the longer list is used to set the number of streams and smaller lists will be wrap-around to fill the holes.\n",
    "\n",
    "This feature is very useful to create complex sonorities."
   ]
  },
  {
   "cell_type": "code",
   "execution_count": 1,
   "id": "dc7df5ee-ae98-4320-a25e-fd7df1df982a",
   "metadata": {},
   "outputs": [],
   "source": [
    "try:\n",
    "    if s.getIsStarted():\n",
    "        print('PYO Server running')\n",
    "        pass\n",
    "except:\n",
    "    import pyo\n",
    "    s = pyo.Server(duplex=0).boot()\n",
    "    s.amp = 0.1\n",
    "    s.start()"
   ]
  },
  {
   "cell_type": "code",
   "execution_count": 2,
   "id": "051ff40f-a06b-45d5-8aae-42d42abf5cb6",
   "metadata": {},
   "outputs": [],
   "source": [
    "# 12 streams with different combinations of `freq` and `ratio`.\n",
    "a = pyo.SumOsc(\n",
    "    freq=[100, 150.2, 200.5, 250.7],\n",
    "    ratio=[0.501, 0.753, 1.255],\n",
    "    index=[0.3, 0.4, 0.5, 0.6, 0.7, 0.4, 0.5, 0.3, 0.6, 0.7, 0.3, 0.5],\n",
    "    mul=0.05,\n",
    ")\n",
    "\n",
    "# Adds a stereo reverberation to the signal\n",
    "rev = pyo.Freeverb(a.mix(2), size=0.80, damp=0.70, bal=0.30).out(0,1)"
   ]
  },
  {
   "cell_type": "code",
   "execution_count": 3,
   "id": "7e0188f3-c4c8-49cb-8ddc-9c0368e14daf",
   "metadata": {},
   "outputs": [
    {
     "data": {
      "text/plain": [
       "< Instance of Freeverb class >"
      ]
     },
     "execution_count": 3,
     "metadata": {},
     "output_type": "execute_result"
    }
   ],
   "source": [
    "rev.stop()"
   ]
  },
  {
   "cell_type": "markdown",
   "id": "014dbe68-b5b0-460f-8d02-4bb49213c4bf",
   "metadata": {},
   "source": [
    "Because audio objects expand their number of streams according to lists given to their arguments and the fact that an audio object is considered as a list, if a multi-streams object is given as an argument to another audio object, the later will also be expanded in order to process all given streams. This is really powerful to create polyphonic processes without copying long chunks of code but it can be very CPU expensive.\n",
    "\n",
    "In this example, we create a square from a sum of sine waves. After that, a chorus is applied to the resulting waveform. If we don’t mix down the square wave, we got tens of Chorus objects in the processing chain (one per sine). This can easily overrun the CPU. The exact same result can be obtained with only one Chorus applied to the sum of the sine waves. The mix(voices) method of the PyoObject helps the handling of channels in order to save CPU cycles. Here, we down mix all streams to only two streams (to maintain the stereo) before processing the Chorus arguments.\n",
    "\n",
    "This is exactly what we did in the previous example for pyo.Freeverb!"
   ]
  },
  {
   "cell_type": "code",
   "execution_count": 4,
   "id": "f71eb024-4268-442b-a0fe-3a0ce1159788",
   "metadata": {},
   "outputs": [
    {
     "name": "stdout",
     "output_type": "stream",
     "text": [
      "Number of Sine streams: 10\n",
      "Number of Chorus streams: 2\n"
     ]
    }
   ],
   "source": [
    "# Sets fundamental frequency and highest harmonic.\n",
    "freq = 100\n",
    "high = 20\n",
    "\n",
    "# Generates lists for frequencies and amplitudes\n",
    "harms = [freq * i for i in range(1, high) if i % 2 == 1]\n",
    "amps = [0.33 / i for i in range(1, high) if i % 2 == 1]\n",
    "\n",
    "# Creates a square wave by additive synthesis.\n",
    "a = pyo.Sine(freq=harms, mul=amps)\n",
    "print(\"Number of Sine streams: %d\" % len(a))\n",
    "\n",
    "# Mix down the number of streams of \"a\" before computing the Chorus.\n",
    "b = pyo.Chorus(a.mix(2), feedback=0.5).out()\n",
    "print(\"Number of Chorus streams: %d\" % len(b))"
   ]
  },
  {
   "cell_type": "code",
   "execution_count": 5,
   "id": "e19696c2-976e-4962-96a3-600ccc30dc95",
   "metadata": {},
   "outputs": [
    {
     "data": {
      "text/plain": [
       "< Instance of Chorus class >"
      ]
     },
     "execution_count": 5,
     "metadata": {},
     "output_type": "execute_result"
    }
   ],
   "source": [
    "b.stop()"
   ]
  },
  {
   "cell_type": "markdown",
   "id": "730b208f-e455-4257-bf55-d117104ed1fc",
   "metadata": {},
   "source": [
    "# Synthesis Generators"
   ]
  },
  {
   "cell_type": "markdown",
   "id": "fec5e460-9ffe-410d-aa1f-ae58bd4b2595",
   "metadata": {},
   "source": [
    "### Complex spectrum oscillators.\n",
    "This tutorial presents four objects of the library which are useful to generate complex spectrums by means of synthesis.\n",
    "\n",
    "*Blit*: Impulse train generator with control over the number of harmonics.\n",
    "\n",
    "*RCOsc*: Aproximation of a RC circuit (a capacitor and a resistor in series).\n",
    "\n",
    "*SineLoop*: Sine wave oscillator with feedback.\n",
    "\n",
    "*SuperSaw*: Roland JP-8000 Supersaw emulator.\n",
    "\n",
    "**NOTE** You can always find detailed information on the PyoObject in the API document, with link to the source code."
   ]
  },
  {
   "cell_type": "code",
   "execution_count": 6,
   "id": "95f78d8a-e9c8-4859-a306-fc6759367e32",
   "metadata": {},
   "outputs": [
    {
     "name": "stdout",
     "output_type": "stream",
     "text": [
      "PYO Server running\n"
     ]
    }
   ],
   "source": [
    "try:\n",
    "    if s.getIsStarted():\n",
    "        print('PYO Server running')\n",
    "        pass\n",
    "except:\n",
    "    import pyo\n",
    "    s = pyo.Server(duplex=0).boot()\n",
    "    s.amp = 0.1\n",
    "    s.start()"
   ]
  },
  {
   "cell_type": "code",
   "execution_count": 7,
   "id": "9f9f4f56-27af-46e3-80b3-c30ba176e2ed",
   "metadata": {},
   "outputs": [],
   "source": [
    "# Sets fundamental frequency.\n",
    "freq = 187.5\n",
    "\n",
    "# Impulse train generator.\n",
    "lfo1 = pyo.Sine(0.1).range(1, 50)\n",
    "osc1 = pyo.Blit(freq=freq, harms=lfo1, mul=0.3)\n",
    "\n",
    "# RC circuit.\n",
    "lfo2 = pyo.Sine(0.1, mul=0.5, add=0.5)\n",
    "osc2 = pyo.RCOsc(freq=freq, sharp=lfo2, mul=0.3)\n",
    "\n",
    "# Sine wave oscillator with feedback.\n",
    "lfo3 = pyo.Sine(0.1).range(0, 0.18)\n",
    "osc3 = pyo.SineLoop(freq=freq, feedback=lfo3, mul=0.3)\n",
    "\n",
    "# Roland JP-8000 Supersaw emulator.\n",
    "lfo4 = pyo.Sine(0.1).range(0.1, 0.75)\n",
    "osc4 = pyo.SuperSaw(freq=freq, detune=lfo4, mul=0.3)\n",
    "\n",
    "# Interpolates between input objects to produce a single output\n",
    "sel = pyo.Selector(inputs=[osc1, osc2, osc3, osc4],voice=0).out()"
   ]
  },
  {
   "cell_type": "code",
   "execution_count": 13,
   "id": "0411303d-b20a-43eb-ac9b-b6941f50efb6",
   "metadata": {},
   "outputs": [],
   "source": [
    "# use the setVoice(x) method to replace the voice attribute\n",
    "sel.setVoice(4)"
   ]
  },
  {
   "cell_type": "code",
   "execution_count": 14,
   "id": "14884d10-5d23-4e6a-9955-7c2f47111128",
   "metadata": {},
   "outputs": [
    {
     "data": {
      "text/plain": [
       "< Instance of Selector class >"
      ]
     },
     "execution_count": 14,
     "metadata": {},
     "output_type": "execute_result"
    }
   ],
   "source": [
    "sel.stop()"
   ]
  },
  {
   "cell_type": "markdown",
   "id": "ba0cdd6c-9a57-434e-a40d-fdbb45ea49bc",
   "metadata": {},
   "source": [
    "### Oscillators whose spectrum is kept under the Nyquist frequency.\n",
    "This tutorial presents an object (misnamed LFO but it’s too late to change its name!) that implements various band-limited waveforms. A band-limited signal is a signal that none of its partials exceeds the nyquist frequency (sr/2).\n",
    "\n",
    "The LFO object, despite its name, can be use as a standard oscillator, with very high fundamental frequencies. At lower frequencies (below 20 Hz) this object will give a true LFO with various shapes.\n",
    "\n",
    "If you enable ``display=True`` the “type” slider in the controller window lets you choose between these particular waveforms:\n",
    "\n",
    "1. Saw up (default)\n",
    "2. Saw down\n",
    "3. Square\n",
    "4. Triangle\n",
    "5. Pulse\n",
    "6. Bipolar pulse\n",
    "7. Sample and hold\n",
    "8. Modulated Sine"
   ]
  },
  {
   "cell_type": "code",
   "execution_count": 15,
   "id": "37f043f5-fa20-4ee3-a2a0-4d3618fcfa58",
   "metadata": {},
   "outputs": [
    {
     "name": "stdout",
     "output_type": "stream",
     "text": [
      "PYO Server running\n"
     ]
    }
   ],
   "source": [
    "try:\n",
    "    if s.getIsStarted():\n",
    "        print('PYO Server running')\n",
    "        pass\n",
    "except:\n",
    "    import pyo\n",
    "    s = pyo.Server(duplex=0).boot()\n",
    "    s.amp = 0.1\n",
    "    s.start()"
   ]
  },
  {
   "cell_type": "code",
   "execution_count": null,
   "id": "ad1694a0-862e-443f-aca6-31ae52c2e25e",
   "metadata": {},
   "outputs": [],
   "source": [
    "# Sets fundamental frequency.\n",
    "freq = 187.5\n",
    "\n",
    "# LFO applied to the `sharp` attribute\n",
    "lfo = pyo.Sine(0.2, mul=0.5, add=0.5)\n",
    "\n",
    "# Various band-limited waveforms\n",
    "osc = pyo.LFO(freq=freq, sharp=lfo, mul=0.4).out()\n",
    "osc.ctrl()\n",
    "\n",
    "# Displays the waveform\n",
    "sc = pyo.Scope(osc)\n",
    "\n",
    "# Displays the spectrum contents\n",
    "sp = pyo.Spectrum(osc)\n",
    "\n",
    "display = True\n",
    "if display:\n",
    "    s.gui(locals())"
   ]
  },
  {
   "cell_type": "markdown",
   "id": "a9dfb817-1115-4c3e-8722-0ed329c2ec0d",
   "metadata": {},
   "source": [
    "### Frequency modulation synthesis.\n",
    "There two objects in the library that implement frequency modulation algorithms. These objects are very simple, although powerful. It is also relatively simple to build a custom FM algorithm, this will be covered in the tutorials on custom synthesis algorithms.\n",
    "\n",
    "Use the “voice” slider of the window “Input interpolator” to interpolate between the two sources. Use the controller windows to change the parameters of the FM algorithms.\n",
    "\n",
    "Note what happened in the controller window when we give a list of floats to an object’s argument."
   ]
  },
  {
   "cell_type": "code",
   "execution_count": 1,
   "id": "ee06bf54-3d53-4943-8994-e8d0629908e1",
   "metadata": {},
   "outputs": [],
   "source": [
    "try:\n",
    "    if s.getIsStarted():\n",
    "        print('PYO Server running')\n",
    "        pass\n",
    "except:\n",
    "    import pyo\n",
    "    s = pyo.Server(duplex=0).boot()\n",
    "    s.amp = 0.1\n",
    "    s.start()"
   ]
  },
  {
   "cell_type": "code",
   "execution_count": null,
   "id": "a07a855d-c483-42cb-8f26-638da01deee9",
   "metadata": {},
   "outputs": [],
   "source": [
    "# FM implements the basic Chowning algorithm\n",
    "fm1 = pyo.FM(carrier=250, ratio=[1.5, 1.49], index=10, mul=0.3)\n",
    "fm1.ctrl()\n",
    "\n",
    "# CrossFM implements a frequency modulation synthesis where the\n",
    "# output of both oscillators modulates the frequency of the other one.\n",
    "fm2 = pyo.CrossFM(carrier=250, ratio=[1.5, 1.49], ind1=10, ind2=2, mul=0.3)\n",
    "fm2.ctrl()\n",
    "\n",
    "# Interpolates between input objects to produce a single output\n",
    "sel = pyo.Selector([fm1, fm2]).out()\n",
    "sel.ctrl(title=\"Input interpolator (0=FM, 1=CrossFM)\")\n",
    "\n",
    "# Displays the spectrum contents of the chosen source\n",
    "sp = pyo.Spectrum(sel)\n",
    "\n",
    "s.gui(locals())"
   ]
  },
  {
   "cell_type": "markdown",
   "id": "ee534a7b-f7a8-41be-b9e1-102eba484a26",
   "metadata": {},
   "source": [
    "### Different pseudo-random noise generators.\n",
    "There are three noise generators (beside random generators that will be covered later) in the library. These are the classic white noise, pink noise and brown noise.\n",
    "\n",
    "1. Noise: White noise generator, flat spectrum.\n",
    "2. PinkNoise: Pink noise generator, 3dB rolloff per octave.\n",
    "3. BrownNoise: Brown noise generator, 6dB rolloff per octave.\n",
    "\n",
    "Use the “voice” slider of the window “Input interpolator” to interpolate between the three sources."
   ]
  },
  {
   "cell_type": "code",
   "execution_count": 1,
   "id": "1e1fc4b4-de6d-4d17-ab31-b9d46bb6609b",
   "metadata": {},
   "outputs": [],
   "source": [
    "try:\n",
    "    if s.getIsStarted():\n",
    "        print('PYO Server running')\n",
    "        pass\n",
    "except:\n",
    "    import pyo\n",
    "    s = pyo.Server(duplex=0).boot()\n",
    "    s.amp = 0.1\n",
    "    s.start()"
   ]
  },
  {
   "cell_type": "code",
   "execution_count": null,
   "id": "01c146fc-65b1-460e-985e-aa04870280a3",
   "metadata": {},
   "outputs": [
    {
     "name": "stdout",
     "output_type": "stream",
     "text": [
      "Pyo warning: Portaudio input device `External Microphone` has fewer channels (1) than requested (2).\n"
     ]
    }
   ],
   "source": [
    "# White noise\n",
    "n1 = pyo.Noise(0.3)\n",
    "\n",
    "# Pink noise\n",
    "n2 = pyo.PinkNoise(0.3)\n",
    "\n",
    "# Brown noise\n",
    "n3 = pyo.BrownNoise(0.3)\n",
    "\n",
    "# Interpolates between input objects to produce a single output\n",
    "sel = pyo.Selector([n1, n2, n3]).out()\n",
    "sel.ctrl(title=\"Input interpolator (0=White, 1=Pink, 2=Brown)\")\n",
    "\n",
    "# Displays the spectrum contents of the chosen source\n",
    "sp = pyo.Spectrum(sel)\n",
    "\n",
    "s.gui(locals())"
   ]
  },
  {
   "cell_type": "markdown",
   "id": "ae066f19-b5ed-4faa-9ce4-ab9d09a30f6e",
   "metadata": {},
   "source": [
    "### Non-linear ordinary differential equations.\n",
    "\n",
    "A strange attractor is a system of three non-linear ordinary differential equations. These differential equations define a continuous-time dynamical system that exhibits chaotic dynamics associated with the fractal properties of the attractor.\n",
    "\n",
    "There are three strange attractors in the library, the Rossler, the Lorenz and the ChenLee objects. Each one can output stereo signal if the stereo argument is set to True.\n",
    "\n",
    "Use the “voice” slider of the window “Input interpolator” to interpolate between the three sources."
   ]
  },
  {
   "cell_type": "code",
   "execution_count": 2,
   "id": "1e2b3b03-daa3-4f81-b56b-61dd17ca08f6",
   "metadata": {},
   "outputs": [],
   "source": [
    "try:\n",
    "    if s.getIsStarted():\n",
    "        print('PYO Server running')\n",
    "        pass\n",
    "except:\n",
    "    import pyo\n",
    "    s = pyo.Server(duplex=0).boot()\n",
    "    s.amp = 0.1\n",
    "    s.start()"
   ]
  },
  {
   "cell_type": "code",
   "execution_count": null,
   "id": "0c3d42e3-d696-4006-9b0c-95866700f643",
   "metadata": {},
   "outputs": [],
   "source": [
    "# LFO applied to the `chaos` attribute\n",
    "lfo = pyo.Sine(0.2).range(0, 1)\n",
    "\n",
    "# Rossler attractor\n",
    "n1 = pyo.Rossler(pitch=0.5, chaos=lfo, stereo=True)\n",
    "\n",
    "# Lorenz attractor\n",
    "n2 = pyo.Lorenz(pitch=0.5, chaos=lfo, stereo=True)\n",
    "\n",
    "# ChenLee attractor\n",
    "n3 = pyo.ChenLee(pitch=0.5, chaos=lfo, stereo=True)\n",
    "\n",
    "# Interpolates between input objects to produce a single output\n",
    "sel = pyo.Selector([n1, n2, n3]).out()\n",
    "sel.ctrl(title=\"Input interpolator (0=Rossler, 1=Lorenz, 2=ChenLee)\")\n",
    "\n",
    "# Displays the waveform of the chosen attractor\n",
    "sc = pyo.Scope(sel)\n",
    "s.gui(locals())"
   ]
  },
  {
   "cell_type": "markdown",
   "id": "63361a9b-9cff-400a-ac6e-754d84b71fb4",
   "metadata": {},
   "source": [
    "It’s possible to create very interesting LFO with strange attractors. The cell below shows the use of Lorenz’s output to drive the frequency of two sine wave oscillators."
   ]
  },
  {
   "cell_type": "code",
   "execution_count": 1,
   "id": "b0ffaf1c-fa1d-4535-bd7b-65660ba41ba7",
   "metadata": {},
   "outputs": [],
   "source": [
    "try:\n",
    "    if s.getIsStarted():\n",
    "        print('PYO Server running')\n",
    "        pass\n",
    "except:\n",
    "    import pyo\n",
    "    s = pyo.Server(duplex=0).boot()\n",
    "    s.amp = 0.1\n",
    "    s.start()"
   ]
  },
  {
   "cell_type": "code",
   "execution_count": 2,
   "id": "18153677-d67f-4fa0-95db-b8e64501ced3",
   "metadata": {},
   "outputs": [],
   "source": [
    "### Audio ###\n",
    "\n",
    "# Lorenz with very low pitch value that acts as a LFO\n",
    "freq = pyo.Lorenz(0.005, chaos=0.7, stereo=True, mul=250, add=500)\n",
    "a = pyo.Sine(freq, mul=0.3).out()"
   ]
  },
  {
   "cell_type": "code",
   "execution_count": 3,
   "id": "cb8b11d8-7caf-4711-9b86-8235eb2530aa",
   "metadata": {},
   "outputs": [
    {
     "data": {
      "text/plain": [
       "< Instance of Sine class >"
      ]
     },
     "execution_count": 3,
     "metadata": {},
     "output_type": "execute_result"
    }
   ],
   "source": [
    "a.stop()"
   ]
  },
  {
   "cell_type": "markdown",
   "id": "8c49ca64-d338-49e5-bd5c-d4b88b347e0c",
   "metadata": {},
   "source": [
    "### Overview of some random generators of pyo.\n",
    "The pyo’s random category contains many objects that can be used for different purposes. This category really deserves to be studied.\n",
    "\n",
    "In this tutorial, we use three random objects (Choice, Randi, RandInt) to control the pitches, the amplitude and the tone of a simple synth.\n",
    "\n",
    "We will come back to random generators when we will talk about musical algorithms."
   ]
  },
  {
   "cell_type": "code",
   "execution_count": 4,
   "id": "e059263b-de3a-467e-8b65-ad2d0e8bfe29",
   "metadata": {},
   "outputs": [
    {
     "name": "stdout",
     "output_type": "stream",
     "text": [
      "PYO Server running\n"
     ]
    }
   ],
   "source": [
    "try:\n",
    "    if s.getIsStarted():\n",
    "        print('PYO Server running')\n",
    "        pass\n",
    "except:\n",
    "    import pyo\n",
    "    s = pyo.Server(duplex=0).boot()\n",
    "    s.amp = 0.1\n",
    "    s.start()"
   ]
  },
  {
   "cell_type": "code",
   "execution_count": null,
   "id": "40dbc7f0-09a4-4c68-8a71-73270027f88c",
   "metadata": {},
   "outputs": [],
   "source": [
    "# Two streams of midi pitches chosen randomly in a predefined list.\n",
    "# The argument `choice` of Choice object can be a list of lists to\n",
    "# list-expansion.\n",
    "mid = pyo.Choice(choice=[60, 62, 63, 65, 67, 69, 71, 72], freq=[2, 3])\n",
    "\n",
    "# Two small jitters applied on frequency streams.\n",
    "# Randi interpolates between old and new values.\n",
    "jit = pyo.Randi(min=0.993, max=1.007, freq=[4.3, 3.5])\n",
    "\n",
    "# Converts midi pitches to frequencies and applies the jitters.\n",
    "fr = pyo.MToF(mid, mul=jit)\n",
    "\n",
    "# Chooses a new feedback value, between 0 and 0.15, every 4 seconds.\n",
    "fd = pyo.Randi(min=0, max=0.15, freq=0.25)\n",
    "\n",
    "# RandInt generates a pseudo-random integer number between 0 and `max`\n",
    "# values at a frequency specified by `freq` parameter. It holds the\n",
    "# value until the next generation.\n",
    "# Generates an new LFO frequency once per second.\n",
    "sp = pyo.RandInt(max=6, freq=1, add=8)\n",
    "# Creates an LFO oscillating between 0 and 0.4.\n",
    "amp = pyo.Sine(sp, mul=0.2, add=0.2)\n",
    "\n",
    "# A simple synth...\n",
    "a = pyo.SineLoop(freq=fr, feedback=fd, mul=amp).out()\n",
    "\n",
    "s.gui(locals())"
   ]
  },
  {
   "cell_type": "code",
   "execution_count": null,
   "id": "7c0a89f9-86f6-4d03-99b7-8138f2b7a26e",
   "metadata": {},
   "outputs": [],
   "source": []
  }
 ],
 "metadata": {
  "kernelspec": {
   "display_name": "Python 3 (ipykernel)",
   "language": "python",
   "name": "python3"
  },
  "language_info": {
   "codemirror_mode": {
    "name": "ipython",
    "version": 3
   },
   "file_extension": ".py",
   "mimetype": "text/x-python",
   "name": "python",
   "nbconvert_exporter": "python",
   "pygments_lexer": "ipython3",
   "version": "3.10.11"
  }
 },
 "nbformat": 4,
 "nbformat_minor": 5
}
