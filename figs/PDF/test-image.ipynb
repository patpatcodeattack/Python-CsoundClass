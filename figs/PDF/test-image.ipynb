{
 "cells": [
  {
   "cell_type": "markdown",
   "id": "42a8aa47-4c89-4938-8f77-5cee634a3cae",
   "metadata": {},
   "source": [
    "![Segment from a recording of a violin.](./aliasing-3.pdf.png)"
   ]
  },
  {
   "cell_type": "code",
   "execution_count": null,
   "id": "714ca638-cd1c-4c78-85f6-01c0658fc98d",
   "metadata": {},
   "outputs": [],
   "source": []
  }
 ],
 "metadata": {
  "kernelspec": {
   "display_name": "Python 3 (ipykernel)",
   "language": "python",
   "name": "python3"
  },
  "language_info": {
   "codemirror_mode": {
    "name": "ipython",
    "version": 3
   },
   "file_extension": ".py",
   "mimetype": "text/x-python",
   "name": "python",
   "nbconvert_exporter": "python",
   "pygments_lexer": "ipython3",
   "version": "3.10.8"
  }
 },
 "nbformat": 4,
 "nbformat_minor": 5
}
